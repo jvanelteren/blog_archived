{
  "nbformat": 4,
  "nbformat_minor": 0,
  "metadata": {
    "kernelspec": {
      "name": "python37364bitprogramdatavirtualenv99403c2e8abd4ba0909557516bfee9d9",
      "display_name": "Python 3.7.3 64-bit ('ProgramData': virtualenv)",
      "language": "python"
    },
    "language_info": {
      "codemirror_mode": {
        "name": "ipython",
        "version": 3
      },
      "file_extension": ".py",
      "mimetype": "text/x-python",
      "name": "python",
      "nbconvert_exporter": "python",
      "pygments_lexer": "ipython3",
      "version": "3.7.3"
    },
    "colab": {
      "name": "Copy of 4_topic_development.ipynb",
      "provenance": [],
      "collapsed_sections": []
    }
  },
  "cells": [
    {
      "source": [
        "# Turnonderzoek op het journaal\n",
        "> 2/3 van de turners had te maken met grensoverschrijdend gedrag?\n",
        "\n",
        "- toc: false\n",
        "- branch: master\n",
        "- badges: true\n",
        "- comments: true\n",
        "- author: Jesse van Elteren\n",
        "- image: images/waddinxveen_turnen.jpg\n",
        "- categories: []"
      ],
      "cell_type": "markdown",
      "metadata": {}
    },
    {
      "source": [],
      "cell_type": "markdown",
      "metadata": {}
    },
    {
      "source": [
        "![](turnen/waddinxveen_turnen.jpg)"
      ],
      "cell_type": "code",
      "metadata": {},
      "execution_count": null,
      "outputs": []
    },
    {
      "source": [
        "Op het [NOS journaal](https://www.npostart.nl/nos-journaal/28-04-2021/POW_04819872): 2/3 van turners heeft te maken met grensoverschrijdend gedrag. Als vader met een meisje op turnen krab je je dan toch even achter de oren... Maar, de interesse was gewekt en voor het lidmaatschap op te zeggen ben ik toch even het [ruim 400 pagina's dikke rapport](https://dutchgymnastics.nl/assets/Documenten/Veilig-sporten/Verinorm/Verinorm_Ongelijke_leggers_rapport.pdf) ingedoken. Uiteraard met de databril op. En dan schrik je toch wel, maar vooral van de journalistiek...\n",
        "\n",
        "Waar komt die 2/3 vandaan? De NOS meldt dat het gaat om ruim 200 sporters, oud-sporters en actieve, uit de top en amateurs. Maar dit getal komt uit een vragenlijst op de website van de turnbond die oud-sporters (van voor 2014) konden invullen. De turnbond beschikte niet over de emailadressen van deze turners, dus de participanten moeten op een andere manier hun weg naar de website hebben moeten vinden. 282 deelnemers hebben de vragenlijst ingevuld. Ter referentie, in 2014 had de turnbond 241.435 leden. De onderzoekers melden zelf ook dat de resultaten niet representatief zijn en dat er geen generaliserende conclusies kunnen worden getrokken over de gehele gymsport.\n",
        "\n",
        "Er treedt bij dit onderzoek een dubbel selectie-effect op: \n",
        "* Mensen met een sterke mening over het onderwerp zullen eerder geneigd zijn de vragenlijst in te vullen. Vergelijk het met een burgeronderzoek in je woonplaats over geluidsoverlast. Welke mensen zullen hierbij reageren?\n",
        "* 80% van de deelnemers geeft aan aan (semi)topsport te hebben beoefend. Van deze oud-topsporters geeft 85% aan met grensoverschrijdend gedrag te maken te hebben gehad. Bij de semi-topsporters is dit 58% en bij de breedtesporters 35%. Nog steeds hoge percentages natuurlijk.\n",
        "Beide effecten werken vertekenend als je een conclusie wilt trekken over de gehele turnsport. De auteurs benoemen het mogelijke selectie-effect.\n",
        "\n",
        "Er zijn ook nog vragenlijsten per email verstuurd, alle (semi) topsporters van na 2014 zijn aangeschreven (8147) en 5% (7136) van de overige leden (180.000). Ongeveer 18% reageerde. Is dit representatief voor alle Nederlandse turners? Van de respondenten geeft 97% aan mee te doen aan wedstrijden, terwijl in werkelijkheid slechts 27% mee doet aan wedstrijden. Wederom een selectie-effect. Ook in deze vragenlijst komt het verschil terug tussen topsport (60-70% te maken met GOG) en recreatie (15% te maken met GOG). De onderzoekers geven aan dat 'de omvang van grensoverschrijdend gedrag vrijwel niet betrouwbaar is vast te stellen'. Een mogelijk alternatief om het selectie-effect te verminderen was om een algemeen onderzoek te doen onder turnsporters (niet specifiek over GOG) en hier vragen in te verwerken over GOG.\n",
        "\n",
        "Dan is er ook nog positief nieuws, er wordt onderzoek geciteerd van NOC/NSF uit 2020. Turnen staat bij een vergelijkend onderzoek laag in de middenmoot van sporten waar mensen grensoverschrijdend gedrag hebben meegemaakt (voetbal, handbal, hockey, korfbal scoren veel hoger). Bij seksueel grensoverschrijdend gedrag staat turnen nog lager, net boven 'schaken'. Zie onder het grafiekje over emotioneel grensoverschrijdend gedrag."
      ],
      "cell_type": "markdown",
      "metadata": {}
    },
    {
      "source": [
        "![](turnen/egog.PNG)"
      ],
      "cell_type": "markdown",
      "metadata": {}
    },
    {
      "source": [
        "Nog meer positief nieuws: van de respondenten geven de volwassenen het turnen gemiddeld een 8 (33% geeft een 9 of 10) en de minderjarigen met een 8,5 (54% geeft een 9 of 10). Deze score ligt bij de topsporters wat lager dan bij de recreanten. Maar komt dat door GOG of doordat topsport als minder leuk wordt ervaren? Het zou interessant zijn om deze getallen nog uit te splitsen in groepen die wel/niet GOG te maken hebben gehad. Dan kan je misschien iets zeggen over de impact van GOG op turnplezier. Hieronder de grafiek van minderjarige respondenten."
      ],
      "cell_type": "markdown",
      "metadata": {}
    },
    {
      "source": [
        "![](turnen/score_turnen.PNG)"
      ],
      "cell_type": "markdown",
      "metadata": {}
    },
    {
      "source": [
        "Een heel negatief beeld dus op het journaal en op punten ook onjuist. Het verhaal in het onderzoek ligt genuanceerder, maar dat past natuurlijk niet in het item. \n",
        "Tenslotte heb ik echt alleen naar de cijfers gekeken, dit doet verder niets af aan de ervaringen van de turners in kwestie en werken aan verbetering van de sport is altijd goed. \n",
        "Zolang m'n dochter het leuk vindt (en nog geen topsporter is) ga ik dus met gerust hart en veel plezier naar de turntraining!"
      ],
      "cell_type": "markdown",
      "metadata": {}
    }
  ]
}