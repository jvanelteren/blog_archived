{
  "nbformat": 4,
  "nbformat_minor": 0,
  "metadata": {
    "language_info": {
      "codemirror_mode": {
        "name": "ipython",
        "version": 3
      },
      "file_extension": ".py",
      "mimetype": "text/x-python",
      "name": "python",
      "nbconvert_exporter": "python",
      "pygments_lexer": "ipython3",
      "version": "3.7.3-final"
    },
    "orig_nbformat": 2,
    "kernelspec": {
      "name": "python37364bitprogramdatavirtualenv99403c2e8abd4ba0909557516bfee9d9",
      "display_name": "Python 3.7.3 64-bit ('ProgramData': virtualenv)"
    },
    "colab": {
      "name": "2020-09-12-redblacktree.ipynb",
      "provenance": [],
      "collapsed_sections": []
    }
  },
  "cells": [
    {
      "cell_type": "markdown",
      "metadata": {
        "id": "yA_geNUyQidh",
        "colab_type": "text"
      },
      "source": [
        "# Predicting the value of a house\n",
        "> Top 3% in a data science competition\n",
        "\n",
        "- toc: false\n",
        "- branch: master\n",
        "- badges: true\n",
        "- comments: true\n",
        "- author: Jesse van Elteren\n",
        "- image: images/housing.png\n",
        "- categories: []"
      ]
    },
    {
      "source": [
        "Recently I’ve made my way into Kaggle. If it’s new for you, I highly recommend checking it out. Kaggle is a platform where organizations host data science competitions. They come up with a data science challenge, make the data available to Kaggle users, and many data scientist worldwide compete to get the highest score on the leaderboard. After a defined period the competition ends and the winner is awarded with a (monetary) price.\n",
        "\n",
        " \n",
        "\n",
        "Participants also share their code (kernels), and have discussions on the data. This makes it an excellent platform to learn. The competitions can be a bit intimidating, since it can have extremely large datasets (100GB upwards), the objectives can be challenging (imaging, audio, text, combinations) and figuring out how to submit is not always trivial. But of course you can start with simpler competitions such as the [classic Titanic example](https://www.kaggle.com/c/titanic).\n",
        "\n",
        " \n",
        "\n",
        "Since I’m quite familiar with tabular data I decided to give the housing competition a try. [The training data]( https://www.kaggle.com/c/house-prices-advanced-regression-techniques/data) consists of many features describing about 1500 houses and their selling price. After numerous experiments I ended up with a top 3% score on the leaderboard before throwing in the proverbial towel. The rush of inching up the leaderboard made it a great experience!\n",
        "\n",
        " \n",
        "\n",
        "Afterwards I wrote about the [main insights, learnings and questions](https://www.kaggle.com/c/house-prices-advanced-regression-techniques/discussion/170472)\n",
        "\n",
        "Next up: probably a imaging competition with Pytorch or fast.ai"
      ],
      "cell_type": "markdown",
      "metadata": {}
    },
    {
      "cell_type": "code",
      "execution_count": null,
      "metadata": {},
      "outputs": [],
      "source": []
    }
  ]
}