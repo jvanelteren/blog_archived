{
 "cells": [
  {
   "source": [
    "# Wie is de Mol\n",
    "> 18 seizoenen van WIDM onder het vergrootglas\n",
    "\n",
    "- toc: false\n",
    "- branch: master\n",
    "- badges: true\n",
    "- comments: true\n",
    "- author: Jesse van Elteren\n",
    "- image: images/mol.jpeg\n",
    "- categories: []"
   ],
   "cell_type": "markdown",
   "metadata": {}
  },
  {
   "cell_type": "code",
   "execution_count": 1,
   "metadata": {
    "jupyter": {
     "source_hidden": true
    }
   },
   "outputs": [],
   "source": [
    "#hide\n",
    "import re\n",
    "import pandas as pd\n",
    "import numpy as np\n",
    "import altair as alt\n",
    "import requests\n",
    "import pandas as pd\n",
    "import altair as alt\n",
    "from bs4 import BeautifulSoup\n",
    "import sklearn.pipeline\n",
    "from sklearn.linear_model import LogisticRegression\n",
    "from sklearn.neighbors import KNeighborsClassifier\n",
    "from sklearn.model_selection import LeaveOneOut\n",
    "%matplotlib inline\n",
    "%load_ext pycodestyle_magic\n",
    "#%%pycodestyle\n",
    "#%%flake8"
   ]
  },
  {
   "cell_type": "code",
   "execution_count": 2,
   "metadata": {
    "jupyter": {
     "source_hidden": true
    }
   },
   "outputs": [],
   "source": [
    "#hide\n",
    "def scrape_suspicions(season):  # returns a DataFrame with suspicions of a certain season\n",
    "    # https://pythonprogramminglanguage.com/web-scraping-with-pandas-and-beautifulsoup/\n",
    "    res = requests.get(\"http://wiewasdemol.nl/seizoen-\"+str(season)+\"/verdenkingen\")\n",
    "    soup = BeautifulSoup(res.content, 'lxml')\n",
    "    table = soup.find_all('table')[0]\n",
    "    df = pd.read_html(str(table))[0]\n",
    "    return df\n",
    "\n",
    "\n",
    "def scrape_poi(season):  # returns interesting information about a season\n",
    "    res = requests.get(\"http://wiewasdemol.nl/seizoen-\" + str(season))\n",
    "    # soup = BeautifulSoup(res.content, 'lxml')\n",
    "    soup = BeautifulSoup((res.content))\n",
    "    # print (soupp.prettify())\n",
    "    mol = re.search('>(.*)<', str(soup.find_all('a')[-4]))[1]\n",
    "    winner = re.search('>(.*)<', str(soup.find_all('a')[-3]))[1]\n",
    "    loser = re.search('>(.*)<', str(soup.find_all('a')[-2]))[1]\n",
    "    result = {'mol': mol, 'winner': winner, 'loser': loser}\n",
    "    if season == 7:\n",
    "        result = {'mol': 'Inge', 'winner': 'Paul', 'loser': 'Eva'}\n",
    "    viewers = re.search('\\((.*) kijkers\\)', str(soup))[1]\n",
    "    result['viewers'] = int(viewers.replace(\".\", \"\"))\n",
    "    result['earnings'] = int(re.search('<dt>Opbrengst</dt>\\n<dd>. (.*)</dd>', str(soup))[1])\n",
    "    result['potential_earnings'] = int(re.search('<dt>Beschikbaar</dt>\\n<dd>. (.*)</dd>', str(soup))[1])\n",
    "    result['percentage_earned'] = result['earnings']/result['potential_earnings']\n",
    "    if season == 1 or season == 2:\n",
    "        result['earnings'] = result['earnings'] / 2.2\n",
    "        result['potential_earnings'] = result['potential_earnings']/2.2\n",
    "    return result\n",
    "\n",
    "\n",
    "def show_progress(input, scale, x_title, y_title):  # helper function to plot a multiline chart\n",
    "    if not isinstance(input, pd.DataFrame):\n",
    "        chart_data = pd.DataFrame(input)\n",
    "    else:\n",
    "        chart_data = input\n",
    "    chart_data.index.name = \"x\"\n",
    "    chart_data = chart_data.reset_index().melt('x')\n",
    "    result = alt.Chart(\n",
    "        chart_data, width=500,\n",
    "        height=180).mark_line().encode(\n",
    "        alt.X('x', scale=alt.Scale(domain=scale), axis=alt.Axis(domain=True)),\n",
    "        y='value',\n",
    "        color='variable'\n",
    "    ).configure_axis(\n",
    "    labelFontSize=12,\n",
    "    titleFontSize=12).configure_legend(\n",
    "    labelFontSize=12,\n",
    "    titleFontSize=12)\n",
    "    # .properties(title='Percent of work-force working as Welders')\n",
    "    result.encoding.x.title = x_title\n",
    "    result.encoding.y.title = y_title\n",
    "    result.display()\n",
    "\n",
    "\n",
    "def histogram(data):  # helper function to plot a histogram\n",
    "    source = pd.DataFrame({'max_votes': data})\n",
    "    result = alt.Chart(source).mark_bar().encode(\n",
    "        alt.X(\"max_votes\", bin=True),\n",
    "        y='count()',\n",
    "    )\n",
    "    result.display()\n",
    "\n",
    "\n",
    "def count_on_poi(suspicion, poi):  # returns the votes a poi got, accounting for fractional votes\n",
    "    count_correct = 0\n",
    "    for target in suspicion.dropna():\n",
    "        if poi in target:\n",
    "            num_guesses = len(target.split())\n",
    "            count_correct += 1/num_guesses\n",
    "    return count_correct\n",
    "\n",
    "\n",
    "def count_full_on_poi(suspicion, poi):  # returns the votes a poi got, only counting full votes\n",
    "    count_correct = 0\n",
    "    for target in suspicion.dropna():\n",
    "        if poi == target:\n",
    "            count_correct += 1\n",
    "    return count_correct\n",
    "\n",
    "\n",
    "def vote_correct(vote, mol):  # returns a 1 if guessed correctly, 0 if incorrectly, fraction if the vote was split or none if vote was unknown\n",
    "    # print (mol, vote)\n",
    "    if pd.isnull(vote) or vote == '?':\n",
    "        return\n",
    "    elif mol in vote:\n",
    "            num_guesses = len(vote.split())\n",
    "            return 1/num_guesses\n",
    "    else:\n",
    "        return 0\n",
    "\n",
    "\n",
    "def votes_by_chance_mol(votes):  # given the number of participants and the votes known, return the expected amount of times the mol would have been guessed\n",
    "    expected_votes = 0\n",
    "    for i, row in votes.iterrows():\n",
    "        expected_votes += (1 / row[0]) * (row[1])\n",
    "    return (expected_votes)\n",
    "\n",
    "\n",
    "def votes_by_chance(votes):  # given the number of participants and the votes known, return the expected amount of times the mol would have been guessed\n",
    "    expected_votes = 0\n",
    "    for i, row in votes.iterrows():\n",
    "        if not pd.isnull(row[1]):\n",
    "            expected_votes += (1 / row[0]) * (row[2] - row[1])\n",
    "    return (expected_votes)\n",
    "\n",
    "\n",
    "def how_strange_is_that(votes):  # returns the odds that given a vote pattern, the participant got the correct votes by chance\n",
    "    correct = 0\n",
    "    odds = []\n",
    "    for i, row in votes.iterrows():\n",
    "        if not pd.isnull(row[1]):\n",
    "            correct += row[1]\n",
    "            odds.append(1 - 1 / row[0])\n",
    "    odds = np.array(odds)\n",
    "    odds = odds.reshape(odds.shape[0], 1)\n",
    "    x = np.random.rand(odds.shape[0], 100000)\n",
    "    y = np.less(odds, x)\n",
    "    z = np.sum(y, axis=0)\n",
    "    return len(z[z >= correct]) / 100000\n",
    "\n",
    "\n",
    "def count_maximum_votes(votes):  # returns the maximum amount of votes on the same participant\n",
    "    counts = votes.value_counts()\n",
    "    if '?' in counts.index:\n",
    "        # split vote\n",
    "        counts = counts.drop('?')\n",
    "    return counts.max()\n",
    "\n",
    "\n",
    "def make_suspicions(season):  # returns a augmented suspicions DataFrame, including computed features\n",
    "    poi_info = scrape_poi(season)\n",
    "    suspicions = scrape_suspicions(season)\n",
    "   \n",
    "    temp = suspicions[['Aflevering', poi_info['mol']]].copy()\n",
    "    suspicions.drop('Aflevering', axis=1, inplace=True)\n",
    "    suspicions.drop(poi_info['mol'], axis=1, inplace=True)\n",
    "\n",
    "    initial_columns = suspicions.columns\n",
    "    suspicions['num_participants'] = suspicions.count(axis=1)\n",
    "    suspicions['unknown_votes'] = suspicions.isin(['?']).sum(axis=1)\n",
    "    suspicions['votes_known'] = suspicions['num_participants']-suspicions['unknown_votes']\n",
    "    suspicions['winner_known'] = suspicions[poi_info['winner']] != '?'\n",
    "    suspicions['loser_known'] = suspicions[poi_info['loser']] != '?'\n",
    "    suspicions['winner_known'] = suspicions['winner_known'].astype(int)\n",
    "    suspicions['loser_known'] = suspicions['loser_known'].astype(int)\n",
    "    suspicions['mol_expected_votes'] = (1/suspicions['num_participants']) * suspicions['votes_known']\n",
    "    suspicions['winner_expected_votes'] = (1/suspicions['num_participants']) * (suspicions['votes_known']-suspicions['winner_known'])\n",
    "    suspicions['loser_expected_votes'] = (1/suspicions['num_participants']) * (suspicions['votes_known']-suspicions['loser_known'])\n",
    "    suspicions['mol_actual_votes'] = [count_on_poi(row, poi_info['mol']) for i, row in suspicions[initial_columns].iterrows()]\n",
    "    suspicions['winner_actual_votes'] = [count_on_poi(row, poi_info['winner']) for i, row in suspicions[initial_columns].iterrows()]\n",
    "    suspicions['loser_actual_votes'] = [count_on_poi(row, poi_info['loser']) for i, row in suspicions[initial_columns].iterrows()]\n",
    "    suspicions['mol_actual_full_votes'] = [count_full_on_poi(row, poi_info['mol']) for i, row in suspicions[initial_columns].iterrows()]\n",
    "    suspicions['winner_actual_full_votes'] = [count_full_on_poi(row, poi_info['winner']) for i, row in suspicions[initial_columns].iterrows()]\n",
    "    suspicions['loser_actual_full_votes'] = [count_full_on_poi(row, poi_info['loser']) for i, row in suspicions[initial_columns].iterrows()]\n",
    "    suspicions['suspicion_mol'] = suspicions['mol_actual_votes']-suspicions['mol_expected_votes']\n",
    "    suspicions['suspicion_winner'] = suspicions['winner_actual_votes']-suspicions['winner_expected_votes']\n",
    "    suspicions['suspicion_loser'] = suspicions['loser_actual_votes']-suspicions['loser_expected_votes']\n",
    "    suspicions['outmolling_index'] = suspicions['suspicion_winner']-suspicions['suspicion_mol']\n",
    "    suspicions['winner_scores'] = [vote_correct(i, poi_info['mol']) for i in suspicions[poi_info['winner']]]\n",
    "    suspicions['loser_scores'] = [vote_correct(i, poi_info['mol']) for i in suspicions[poi_info['loser']]]\n",
    "    suspicions['season'] = season\n",
    "    suspicions = pd.concat([temp, suspicions], axis=1)\n",
    "    # suspicions.drop(initial_columns,axis=1,inplace=True)\n",
    "  \n",
    "    initial_columns = initial_columns.append(pd.Index({poi_info['mol']}))\n",
    "    suspicions['num_participants_incl_mol'] = suspicions['num_participants']+1\n",
    "    suspicions['unknown_votes_incl_mol'] = suspicions.isin(['?']).sum(axis=1)\n",
    "    suspicions['votes_known_incl_mol'] = suspicions['num_participants_incl_mol']-suspicions['unknown_votes_incl_mol']\n",
    "    suspicions['winner_expected_votes_incl_mol'] = (1/suspicions['num_participants']) * (suspicions['votes_known_incl_mol']-suspicions['winner_known'])\n",
    "    suspicions['loser_expected_votes_incl_mol'] = (1/suspicions['num_participants']) * (suspicions['votes_known_incl_mol']-suspicions['loser_known'])\n",
    "    suspicions['winner_actual_votes_incl_mol'] = [count_on_poi(row, poi_info['winner']) for i, row in suspicions[initial_columns].iterrows()]\n",
    "    suspicions['loser_actual_votes_incl_mol'] = [count_on_poi(row, poi_info['loser']) for i, row in suspicions[initial_columns].iterrows()]\n",
    "    suspicions['suspicion_winner_incl_mol'] = suspicions['winner_actual_votes_incl_mol']-suspicions['winner_expected_votes_incl_mol']\n",
    "    suspicions['suspicion_loser_incl_mol'] = suspicions['loser_actual_votes_incl_mol']-suspicions['loser_expected_votes_incl_mol']\n",
    "\n",
    "    return (suspicions, initial_columns.tolist(), poi_info)"
   ]
  },
  {
   "cell_type": "code",
   "execution_count": 3,
   "metadata": {
    "collapsed": true,
    "jupyter": {
     "outputs_hidden": true,
     "source_hidden": true
    }
   },
   "outputs": [
    {
     "name": "stdout",
     "output_type": "stream",
     "text": [
      "importing season 1\n",
      "importing season 2\n",
      "importing season 3\n",
      "importing season 4\n",
      "importing season 5\n",
      "importing season 6\n",
      "importing season 7\n",
      "importing season 8\n",
      "importing season 9\n",
      "importing season 10\n",
      "importing season 11\n",
      "importing season 12\n",
      "importing season 13\n",
      "importing season 14\n",
      "importing season 15\n",
      "importing season 16\n",
      "importing season 17\n",
      "importing season 18\n",
      "18  seasons imported!\n"
     ]
    }
   ],
   "source": [
    "#hide\n",
    "# get all the seasons. This could have been done better with a single dictionary\n",
    "result = pd.DataFrame({})\n",
    "mollist = []\n",
    "participants = []\n",
    "winnerlist = []\n",
    "loserlist = []\n",
    "viewerlist = []\n",
    "earningslist = []\n",
    "potential_earningslist = []\n",
    "percentage_earnedlist = []\n",
    "\n",
    "for season in range(1, 19):  # currently 18 seasons\n",
    "    print('importing season', season)\n",
    "    seasondata = make_suspicions(season)\n",
    "    result = pd.concat([result, seasondata[0]], sort=False)\n",
    "    participants += seasondata[1]\n",
    "    mollist.append(seasondata[2]['mol'])\n",
    "    winnerlist.append(seasondata[2]['winner'])\n",
    "    loserlist.append(seasondata[2]['loser'])\n",
    "    viewerlist.append(seasondata[2]['viewers'])\n",
    "    earningslist.append(seasondata[2]['earnings'])\n",
    "    potential_earningslist.append(seasondata[2]['potential_earnings'])\n",
    "    percentage_earnedlist.append(seasondata[2]['percentage_earned'])\n",
    "print(len(mollist), ' seasons imported!')"
   ]
  },
  {
   "cell_type": "markdown",
   "metadata": {},
   "source": [
    "# Wie is de Mol: Ontmaskerd\n",
    "\n",
    "Wie is de Mol is enorm populair in Nederland. We zijn inmiddels toe aan het 19e seizoen. Dat betekent dat we langzamerhand ook behoorlijk wat data tot onze beschikking krijgen en er data analyse op kunnen loslaten. Het blijkt een hele leuke dataset te zijn en gaandeweg kwamen er veel interessante vragen naar boven. Ik hoop een aantal WidM vragen te beantwoorden en je misschien ook enthousiast te maken voor data science. Als input heb ik informatie van de site gebruikt, die veel informatie bijhoudt. Leuk om ook eens op te kijken. Dank hiervoor Ronald!\n",
    "\n",
    "En uiteindelijk behandelen we ook de hamvraag, kunnen we het voorspellen: Wie Is De Mol?\n",
    "\n",
    "Veel leesplezier!\n",
    "\n",
    "- Voor de data-fans, onderaan staat een link naar GitHub om de code in een Jupyter Notebook te downloaden.\n",
    "- Voor de niet data-fans, je kan ook meteen naar beneden scrollen voor de eindconclusies"
   ]
  },
  {
   "cell_type": "markdown",
   "metadata": {},
   "source": [
    "## Korte uitleg\n",
    "\n",
    "Voor als je WidM niet kent: het spel start met ongeveer 10 deelnemers. Een van hen is de mol. De deelnemers krijgen opdrachten om geld te verdienen, maar weten dus niet wie de mol is. De mol probeert ervoor te zorgen dat het team weinig geld verdient met de opdrachten.\n",
    "\n",
    "Elke aflevering is er een stemronde, waarin deelnemers vragen over de mol krijgen. Degene met de meeste fouten moet het spel verlaten. De mol blijft altijd in het spel. Uiteindelijk blijven er nog 3 deelnemers over: de mol en twee deelnemers. De deelnemers krijgen weer vragen over de mol. Degene met het meeste goed is de winnaar. De andere noemen we de verliezer, maar deze is wel ver gekomen! De winnaar verdient de pot."
   ]
  },
  {
   "cell_type": "markdown",
   "metadata": {},
   "source": [
    "## Kijkcijfers\n",
    "\n",
    "Even een opwarmertje, en voor AVRO/TROS belangrijk: hoe populair is het programma? In onderstaande grafiek zie je de kijkcijfers van de meest populaire aflevering, per seizoen. Begon het programma nog met 1 miljoen kijkers, inmiddels zitten we aan meer dan 3 miljoen. Dit lijkt momenteel ook het maximum te zijn."
   ]
  },
  {
   "cell_type": "code",
   "execution_count": 4,
   "metadata": {
    "jupyter": {
     "source_hidden": true
    }
   },
   "outputs": [
    {
     "data": {
      "application/vnd.vegalite.v2+json": {
       "$schema": "https://vega.github.io/schema/vega-lite/v2.6.0.json",
       "config": {
        "axis": {
         "labelFontSize": 12,
         "titleFontSize": 12
        },
        "legend": {
         "labelFontSize": 12,
         "titleFontSize": 12
        },
        "view": {
         "height": 300,
         "width": 400
        }
       },
       "data": {
        "name": "data-703bf4fa04c958bb2055f5ec81d3cf0b"
       },
       "datasets": {
        "data-703bf4fa04c958bb2055f5ec81d3cf0b": [
         {
          "value": 936000,
          "variable": "Kijkers",
          "x": 1
         },
         {
          "value": 1122000,
          "variable": "Kijkers",
          "x": 2
         },
         {
          "value": 1233000,
          "variable": "Kijkers",
          "x": 3
         },
         {
          "value": 1115000,
          "variable": "Kijkers",
          "x": 4
         },
         {
          "value": 1745000,
          "variable": "Kijkers",
          "x": 5
         },
         {
          "value": 1168000,
          "variable": "Kijkers",
          "x": 6
         },
         {
          "value": 1358000,
          "variable": "Kijkers",
          "x": 7
         },
         {
          "value": 1922000,
          "variable": "Kijkers",
          "x": 8
         },
         {
          "value": 1540000,
          "variable": "Kijkers",
          "x": 9
         },
         {
          "value": 1912000,
          "variable": "Kijkers",
          "x": 10
         },
         {
          "value": 1973000,
          "variable": "Kijkers",
          "x": 11
         },
         {
          "value": 2136000,
          "variable": "Kijkers",
          "x": 12
         },
         {
          "value": 2579000,
          "variable": "Kijkers",
          "x": 13
         },
         {
          "value": 3148000,
          "variable": "Kijkers",
          "x": 14
         },
         {
          "value": 2609000,
          "variable": "Kijkers",
          "x": 15
         },
         {
          "value": 2982000,
          "variable": "Kijkers",
          "x": 16
         },
         {
          "value": 3254000,
          "variable": "Kijkers",
          "x": 17
         },
         {
          "value": 2669000,
          "variable": "Kijkers",
          "x": 18
         }
        ]
       },
       "encoding": {
        "color": {
         "field": "variable",
         "type": "nominal"
        },
        "x": {
         "axis": {
          "domain": true
         },
         "field": "x",
         "scale": {
          "domain": [
           1,
           18
          ]
         },
         "title": "Seizoen",
         "type": "quantitative"
        },
        "y": {
         "field": "value",
         "title": "Aantal kijkers",
         "type": "quantitative"
        }
       },
       "height": 180,
       "mark": "line",
       "width": 500
      },
      "image/png": "[encoded data removed]",
      "text/plain": [
       "<VegaLite 2 object>\n",
       "\n",
       "If you see this message, it means the renderer has not been properly enabled\n",
       "for the frontend that you are using. For more information, see\n",
       "https://altair-viz.github.io/user_guide/troubleshooting.html\n"
      ]
     },
     "metadata": {},
     "output_type": "display_data"
    }
   ],
   "source": [
    "#hide_input\n",
    "temp = pd.DataFrame({'Kijkers': viewerlist})\n",
    "temp.index = temp.index + 1\n",
    "show_progress(temp, [1, 18], 'Seizoen', 'Aantal kijkers')"
   ]
  },
  {
   "cell_type": "markdown",
   "metadata": {},
   "source": [
    "## Welke informatie is beschikbaar?\n",
    "\n",
    "Elke aflevering krijgen we sommige verdenkingen van deelnemers te zien. Als er heel weinig verdenkingen tijdens de aflevering worden gedeeld kunnen we waarschijnlijk niet hele betrouwbare conclusies trekken. We maken een grafiek waarin we berekenen hoeveel procent van de verdenkingen bekend is. 1 betekent dat we alle verdenkingen van alle deelnemers weten. De verdenkingen van de mol nemen we nu nog niet mee, die heeft natuurlijk hele andere motieven om iemand te ‘verdenken’.\n",
    "\n",
    "Het lijkt erop dat we als tv kijker iets minder te zien krijgen. Lag tot en met seizoen 9 het percentage nog rond de 80%, tegenwoordig moeten we het met 60% doen. Seizoen 5 en 12 zijn sowieso gekke uitschieters. Dit betekent dat we over deze seizoenen waarschijnlijk niet veel kunnen zeggen."
   ]
  },
  {
   "cell_type": "code",
   "execution_count": 5,
   "metadata": {
    "jupyter": {
     "source_hidden": true
    }
   },
   "outputs": [
    {
     "data": {
      "application/vnd.vegalite.v2+json": {
       "$schema": "https://vega.github.io/schema/vega-lite/v2.6.0.json",
       "config": {
        "axis": {
         "labelFontSize": 12,
         "titleFontSize": 12
        },
        "legend": {
         "labelFontSize": 12,
         "titleFontSize": 12
        },
        "view": {
         "height": 300,
         "width": 400
        }
       },
       "data": {
        "name": "data-126858a23219fac848894ec2321425c5"
       },
       "datasets": {
        "data-126858a23219fac848894ec2321425c5": [
         {
          "value": 0.8695652173913043,
          "variable": "percentage_known",
          "x": 1
         },
         {
          "value": 0.8269230769230769,
          "variable": "percentage_known",
          "x": 2
         },
         {
          "value": 0.8732394366197183,
          "variable": "percentage_known",
          "x": 3
         },
         {
          "value": 0.8153846153846154,
          "variable": "percentage_known",
          "x": 4
         },
         {
          "value": 0.4745762711864407,
          "variable": "percentage_known",
          "x": 5
         },
         {
          "value": 0.6792452830188679,
          "variable": "percentage_known",
          "x": 6
         },
         {
          "value": 0.8181818181818182,
          "variable": "percentage_known",
          "x": 7
         },
         {
          "value": 0.7843137254901961,
          "variable": "percentage_known",
          "x": 8
         },
         {
          "value": 0.8148148148148148,
          "variable": "percentage_known",
          "x": 9
         },
         {
          "value": 0.66,
          "variable": "percentage_known",
          "x": 10
         },
         {
          "value": 0.4915254237288136,
          "variable": "percentage_known",
          "x": 11
         },
         {
          "value": 0.3269230769230769,
          "variable": "percentage_known",
          "x": 12
         },
         {
          "value": 0.6730769230769231,
          "variable": "percentage_known",
          "x": 13
         },
         {
          "value": 0.5818181818181818,
          "variable": "percentage_known",
          "x": 14
         },
         {
          "value": 0.7358490566037735,
          "variable": "percentage_known",
          "x": 15
         },
         {
          "value": 0.5789473684210527,
          "variable": "percentage_known",
          "x": 16
         },
         {
          "value": 0.6470588235294118,
          "variable": "percentage_known",
          "x": 17
         },
         {
          "value": 0.5306122448979592,
          "variable": "percentage_known",
          "x": 18
         }
        ]
       },
       "encoding": {
        "color": {
         "field": "variable",
         "type": "nominal"
        },
        "x": {
         "axis": {
          "domain": true
         },
         "field": "x",
         "scale": {
          "domain": [
           1,
           18
          ]
         },
         "title": "Seizoen",
         "type": "quantitative"
        },
        "y": {
         "field": "value",
         "title": "% Stemmen bekend",
         "type": "quantitative"
        }
       },
       "height": 180,
       "mark": "line",
       "width": 500
      },
      "image/png": "[encoded data removed]",
      "text/plain": [
       "<VegaLite 2 object>\n",
       "\n",
       "If you see this message, it means the renderer has not been properly enabled\n",
       "for the frontend that you are using. For more information, see\n",
       "https://altair-viz.github.io/user_guide/troubleshooting.html\n"
      ]
     },
     "metadata": {},
     "output_type": "display_data"
    }
   ],
   "source": [
    "#hide_input\n",
    "temp = result[['unknown_votes', 'num_participants']].groupby(result['season']).sum()\n",
    "temp['percentage_known'] = (temp['num_participants'] - temp['unknown_votes']) / temp['num_participants']\n",
    "show_progress(temp['percentage_known'], [1, 18], 'Seizoen', '% Stemmen bekend')"
   ]
  },
  {
   "cell_type": "markdown",
   "metadata": {},
   "source": [
    "## Hoe verdacht is de mol?\n",
    "\n",
    "Als deelnemers geen idee hebben wie de mol is zullen ze gokken. Door dit gokgedrag verwachten we dat elk seizoen de mol toevallig een aantal verdenkingen door gokkers op zich krijgt. Het aantal ‘gokverdenkingen’ verschilt per seizoen omdat het verschilt hoeveel verdenkingen de tv makers ons laten zien (de grafiek hierboven).\n",
    "\n",
    "In onderstaande grafiek zie je per seizoen hoeveel ‘stemmen’ de mol heeft gekregen, en hoeveel we hadden verwacht op basis van gokken. Als de gele lijn boven de blauwe lijn komt is de mol verdacht en andersom.\n",
    "\n",
    "Nico uit seizoen 2 en Margriet uit seizoen 15 zijn behoorlijk verdacht. Maar de meest verdachte mol is toch wel Jon, uit seizoen 9. Zowel Anniek, Dennis als Vivienne hadden hem al vrij snel in de smiezen.\n",
    "\n",
    "Tegelijkertijd zijn er ook een paar niet verdachte mollen in een seizoen waar er wel veel geld uit de pot is gehaald: seizoen 6 (Milouska), 8 (Dennis) en 17 (Thomas)."
   ]
  },
  {
   "cell_type": "code",
   "execution_count": 6,
   "metadata": {
    "jupyter": {
     "source_hidden": true
    }
   },
   "outputs": [
    {
     "data": {
      "application/vnd.vegalite.v2+json": {
       "$schema": "https://vega.github.io/schema/vega-lite/v2.6.0.json",
       "config": {
        "axis": {
         "labelFontSize": 12,
         "titleFontSize": 12
        },
        "legend": {
         "labelFontSize": 12,
         "titleFontSize": 12
        },
        "view": {
         "height": 300,
         "width": 400
        }
       },
       "data": {
        "name": "data-d7a6472d74a4934f2d3266fe3f307ddf"
       },
       "datasets": {
        "data-d7a6472d74a4934f2d3266fe3f307ddf": [
         {
          "value": 3,
          "variable": "Werkelijk aantal verdenkingen",
          "x": 1
         },
         {
          "value": 12.5,
          "variable": "Werkelijk aantal verdenkingen",
          "x": 2
         },
         {
          "value": 7,
          "variable": "Werkelijk aantal verdenkingen",
          "x": 3
         },
         {
          "value": 9,
          "variable": "Werkelijk aantal verdenkingen",
          "x": 4
         },
         {
          "value": 5.333333333333333,
          "variable": "Werkelijk aantal verdenkingen",
          "x": 5
         },
         {
          "value": 1.8333333333333333,
          "variable": "Werkelijk aantal verdenkingen",
          "x": 6
         },
         {
          "value": 9.083333333333332,
          "variable": "Werkelijk aantal verdenkingen",
          "x": 7
         },
         {
          "value": 2,
          "variable": "Werkelijk aantal verdenkingen",
          "x": 8
         },
         {
          "value": 15.166666666666666,
          "variable": "Werkelijk aantal verdenkingen",
          "x": 9
         },
         {
          "value": 10.5,
          "variable": "Werkelijk aantal verdenkingen",
          "x": 10
         },
         {
          "value": 10.333333333333332,
          "variable": "Werkelijk aantal verdenkingen",
          "x": 11
         },
         {
          "value": 4.833333333333333,
          "variable": "Werkelijk aantal verdenkingen",
          "x": 12
         },
         {
          "value": 5.333333333333333,
          "variable": "Werkelijk aantal verdenkingen",
          "x": 13
         },
         {
          "value": 7.916666666666666,
          "variable": "Werkelijk aantal verdenkingen",
          "x": 14
         },
         {
          "value": 12.283333333333331,
          "variable": "Werkelijk aantal verdenkingen",
          "x": 15
         },
         {
          "value": 7.083333333333333,
          "variable": "Werkelijk aantal verdenkingen",
          "x": 16
         },
         {
          "value": 1.6666666666666665,
          "variable": "Werkelijk aantal verdenkingen",
          "x": 17
         },
         {
          "value": 4.25,
          "variable": "Werkelijk aantal verdenkingen",
          "x": 18
         },
         {
          "value": 7.509920634920634,
          "variable": "Verdenkingen toevallig",
          "x": 1
         },
         {
          "value": 7.377777777777777,
          "variable": "Verdenkingen toevallig",
          "x": 2
         },
         {
          "value": 9.711507936507937,
          "variable": "Verdenkingen toevallig",
          "x": 3
         },
         {
          "value": 8.676587301587302,
          "variable": "Verdenkingen toevallig",
          "x": 4
         },
         {
          "value": 4.009920634920634,
          "variable": "Verdenkingen toevallig",
          "x": 5
         },
         {
          "value": 6.270238095238095,
          "variable": "Verdenkingen toevallig",
          "x": 6
         },
         {
          "value": 8.787698412698413,
          "variable": "Verdenkingen toevallig",
          "x": 7
         },
         {
          "value": 7.346031746031746,
          "variable": "Verdenkingen toevallig",
          "x": 8
         },
         {
          "value": 7.575396825396826,
          "variable": "Verdenkingen toevallig",
          "x": 9
         },
         {
          "value": 5.7031746031746025,
          "variable": "Verdenkingen toevallig",
          "x": 10
         },
         {
          "value": 5.377777777777778,
          "variable": "Verdenkingen toevallig",
          "x": 11
         },
         {
          "value": 3.3019841269841272,
          "variable": "Verdenkingen toevallig",
          "x": 12
         },
         {
          "value": 6.696428571428572,
          "variable": "Verdenkingen toevallig",
          "x": 13
         },
         {
          "value": 6.141269841269841,
          "variable": "Verdenkingen toevallig",
          "x": 14
         },
         {
          "value": 6.79484126984127,
          "variable": "Verdenkingen toevallig",
          "x": 15
         },
         {
          "value": 4.897619047619047,
          "variable": "Verdenkingen toevallig",
          "x": 16
         },
         {
          "value": 6.143650793650794,
          "variable": "Verdenkingen toevallig",
          "x": 17
         },
         {
          "value": 5.403174603174603,
          "variable": "Verdenkingen toevallig",
          "x": 18
         }
        ]
       },
       "encoding": {
        "color": {
         "field": "variable",
         "type": "nominal"
        },
        "x": {
         "axis": {
          "domain": true
         },
         "field": "x",
         "scale": {
          "domain": [
           1,
           18
          ]
         },
         "title": "Seizoen",
         "type": "quantitative"
        },
        "y": {
         "field": "value",
         "title": "Totaal aantal verdenkingen",
         "type": "quantitative"
        }
       },
       "height": 180,
       "mark": "line",
       "width": 500
      },
      "image/png": "[encoded data removed]",
      "text/plain": [
       "<VegaLite 2 object>\n",
       "\n",
       "If you see this message, it means the renderer has not been properly enabled\n",
       "for the frontend that you are using. For more information, see\n",
       "https://altair-viz.github.io/user_guide/troubleshooting.html\n"
      ]
     },
     "metadata": {},
     "output_type": "display_data"
    }
   ],
   "source": [
    "#hide_input\n",
    "# calculate how often the mol would have been guessed correctly if just guessing\n",
    "temp = result[['mol_actual_votes', 'mol_expected_votes']].groupby(result['season']).sum()\n",
    "temp.rename({'mol_actual_votes': 'Werkelijk aantal verdenkingen', 'mol_expected_votes': 'Verdenkingen toevallig'}, axis='columns', inplace=True)\n",
    "show_progress(temp, [1, 18], 'Seizoen', 'Totaal aantal verdenkingen')"
   ]
  },
  {
   "cell_type": "markdown",
   "metadata": {},
   "source": [
    "## Zijn winnaars vaak aan het mollen?\n",
    "\n",
    "Een veelgehoorde trend is dat er steeds meer gemold wordt door kandidaten die niet de mol zijn. We kunnen dit onderzoeken door te kijken hoe verdacht de winnaar en de verliezer zijn. Terzijde: dit kan natuurlijk ook te maken hebben met hoe verdacht de mol was (verdachte mol = niet verdachte winnaar).\n",
    "\n",
    "Eens kijken naar de winnaar, in hoeverre hij/zij de aandacht op zich wisten te vestigen. Natuurlijk verwacht je altijd wel een paar verdenkingen op je te krijgen, dus het wordt pas verdacht als je hier boven zit. Het beste voorbeeld hiervan zien we in seizoen 14, waarin Sofie veel meer verdenkingen op zich kreeg dan verwacht. Ook afgelopen seizoen 18 was Ruben een verdachte winnaar.\n",
    "\n",
    "Toch vind ik het knapper als je kan winnen zonder verdacht te zijn. Bijvoorbeeld seizoen 9 en 12 waarin het heel duidelijk was dat de winnaar een hardwerkende deelnemer was. Complimenten Viviënne en Hadewych!"
   ]
  },
  {
   "cell_type": "code",
   "execution_count": 7,
   "metadata": {
    "jupyter": {
     "source_hidden": true
    }
   },
   "outputs": [
    {
     "data": {
      "application/vnd.vegalite.v2+json": {
       "$schema": "https://vega.github.io/schema/vega-lite/v2.6.0.json",
       "config": {
        "axis": {
         "labelFontSize": 12,
         "titleFontSize": 12
        },
        "legend": {
         "labelFontSize": 12,
         "titleFontSize": 12
        },
        "view": {
         "height": 300,
         "width": 400
        }
       },
       "data": {
        "name": "data-a1bfb8c96d7ca3f2395a9edb9268e018"
       },
       "datasets": {
        "data-a1bfb8c96d7ca3f2395a9edb9268e018": [
         {
          "value": 2.5,
          "variable": "Werkelijk aantal verdenkingen",
          "x": 1
         },
         {
          "value": 4,
          "variable": "Werkelijk aantal verdenkingen",
          "x": 2
         },
         {
          "value": 10,
          "variable": "Werkelijk aantal verdenkingen",
          "x": 3
         },
         {
          "value": 5.833333333333333,
          "variable": "Werkelijk aantal verdenkingen",
          "x": 4
         },
         {
          "value": 2.833333333333333,
          "variable": "Werkelijk aantal verdenkingen",
          "x": 5
         },
         {
          "value": 6,
          "variable": "Werkelijk aantal verdenkingen",
          "x": 6
         },
         {
          "value": 8.333333333333334,
          "variable": "Werkelijk aantal verdenkingen",
          "x": 7
         },
         {
          "value": 7.333333333333333,
          "variable": "Werkelijk aantal verdenkingen",
          "x": 8
         },
         {
          "value": 0.3333333333333333,
          "variable": "Werkelijk aantal verdenkingen",
          "x": 9
         },
         {
          "value": 3,
          "variable": "Werkelijk aantal verdenkingen",
          "x": 10
         },
         {
          "value": 2.9166666666666665,
          "variable": "Werkelijk aantal verdenkingen",
          "x": 11
         },
         {
          "value": 0,
          "variable": "Werkelijk aantal verdenkingen",
          "x": 12
         },
         {
          "value": 3.6666666666666665,
          "variable": "Werkelijk aantal verdenkingen",
          "x": 13
         },
         {
          "value": 9.416666666666666,
          "variable": "Werkelijk aantal verdenkingen",
          "x": 14
         },
         {
          "value": 4.749999999999999,
          "variable": "Werkelijk aantal verdenkingen",
          "x": 15
         },
         {
          "value": 7,
          "variable": "Werkelijk aantal verdenkingen",
          "x": 16
         },
         {
          "value": 5.416666666666666,
          "variable": "Werkelijk aantal verdenkingen",
          "x": 17
         },
         {
          "value": 7,
          "variable": "Werkelijk aantal verdenkingen",
          "x": 18
         },
         {
          "value": 5.68095238095238,
          "variable": "Verdenkingen toevallig",
          "x": 1
         },
         {
          "value": 5.659920634920634,
          "variable": "Verdenkingen toevallig",
          "x": 2
         },
         {
          "value": 7.782539682539683,
          "variable": "Verdenkingen toevallig",
          "x": 3
         },
         {
          "value": 6.738095238095237,
          "variable": "Verdenkingen toevallig",
          "x": 4
         },
         {
          "value": 3.2142857142857135,
          "variable": "Verdenkingen toevallig",
          "x": 5
         },
         {
          "value": 4.631746031746032,
          "variable": "Verdenkingen toevallig",
          "x": 6
         },
         {
          "value": 6.64920634920635,
          "variable": "Verdenkingen toevallig",
          "x": 7
         },
         {
          "value": 5.709920634920635,
          "variable": "Verdenkingen toevallig",
          "x": 8
         },
         {
          "value": 6.065873015873016,
          "variable": "Verdenkingen toevallig",
          "x": 9
         },
         {
          "value": 4.999206349206348,
          "variable": "Verdenkingen toevallig",
          "x": 10
         },
         {
          "value": 3.894444444444445,
          "variable": "Verdenkingen toevallig",
          "x": 11
         },
         {
          "value": 2.3341269841269843,
          "variable": "Verdenkingen toevallig",
          "x": 12
         },
         {
          "value": 4.978571428571428,
          "variable": "Verdenkingen toevallig",
          "x": 13
         },
         {
          "value": 4.711111111111111,
          "variable": "Verdenkingen toevallig",
          "x": 14
         },
         {
          "value": 5.523015873015873,
          "variable": "Verdenkingen toevallig",
          "x": 15
         },
         {
          "value": 4.101984126984127,
          "variable": "Verdenkingen toevallig",
          "x": 16
         },
         {
          "value": 4.431349206349206,
          "variable": "Verdenkingen toevallig",
          "x": 17
         },
         {
          "value": 3.949206349206349,
          "variable": "Verdenkingen toevallig",
          "x": 18
         }
        ]
       },
       "encoding": {
        "color": {
         "field": "variable",
         "type": "nominal"
        },
        "x": {
         "axis": {
          "domain": true
         },
         "field": "x",
         "scale": {
          "domain": [
           1,
           18
          ]
         },
         "title": "Seizoen",
         "type": "quantitative"
        },
        "y": {
         "field": "value",
         "title": "Totaal aantal verdenkingen",
         "type": "quantitative"
        }
       },
       "height": 180,
       "mark": "line",
       "width": 500
      },
      "image/png": "[encoded data removed]",
      "text/plain": [
       "<VegaLite 2 object>\n",
       "\n",
       "If you see this message, it means the renderer has not been properly enabled\n",
       "for the frontend that you are using. For more information, see\n",
       "https://altair-viz.github.io/user_guide/troubleshooting.html\n"
      ]
     },
     "metadata": {},
     "output_type": "display_data"
    }
   ],
   "source": [
    "#hide_input\n",
    "# calculate how often the winner would have been guessed correctly if just guessing\n",
    "temp = result[['winner_actual_votes', 'winner_expected_votes']].groupby(result['season']).sum()\n",
    "temp.rename({'winner_actual_votes': 'Werkelijk aantal verdenkingen', 'winner_expected_votes': 'Verdenkingen toevallig'}, axis='columns', inplace=True)\n",
    "show_progress(temp, [1, 18], 'Seizoen', 'Totaal aantal verdenkingen')"
   ]
  },
  {
   "cell_type": "markdown",
   "metadata": {},
   "source": [
    "## En verliezers? \n",
    "\n",
    "Hetzelfde plaatje voor de verliezers. Zoals je hieronder ziet is de verliezer vaak een stuk minder verdacht dan de winnaar: de blauwe lijntjes liggen vaak boven de gele. Ook afgelopen seizoen was Olcay overduidelijk niet de mol.\n",
    "\n",
    "Uitzondering die de regel bevestigt is seizoen 4, waarin Chandrika zeer verdacht was, maar het uiteindelijk Elise was die echt de mol was."
   ]
  },
  {
   "cell_type": "code",
   "execution_count": 8,
   "metadata": {
    "jupyter": {
     "source_hidden": true
    }
   },
   "outputs": [
    {
     "data": {
      "application/vnd.vegalite.v2+json": {
       "$schema": "https://vega.github.io/schema/vega-lite/v2.6.0.json",
       "config": {
        "axis": {
         "labelFontSize": 12,
         "titleFontSize": 12
        },
        "legend": {
         "labelFontSize": 12,
         "titleFontSize": 12
        },
        "view": {
         "height": 300,
         "width": 400
        }
       },
       "data": {
        "name": "data-cddcd5ea5d6499c29687eeffb3df3679"
       },
       "datasets": {
        "data-cddcd5ea5d6499c29687eeffb3df3679": [
         {
          "value": 5.5,
          "variable": "Werkelijk aantal verdenkingen",
          "x": 1
         },
         {
          "value": 4.5,
          "variable": "Werkelijk aantal verdenkingen",
          "x": 2
         },
         {
          "value": 9,
          "variable": "Werkelijk aantal verdenkingen",
          "x": 3
         },
         {
          "value": 13.333333333333332,
          "variable": "Werkelijk aantal verdenkingen",
          "x": 4
         },
         {
          "value": 5.5,
          "variable": "Werkelijk aantal verdenkingen",
          "x": 5
         },
         {
          "value": 3.333333333333333,
          "variable": "Werkelijk aantal verdenkingen",
          "x": 6
         },
         {
          "value": 1.3333333333333333,
          "variable": "Werkelijk aantal verdenkingen",
          "x": 7
         },
         {
          "value": 1.9999999999999998,
          "variable": "Werkelijk aantal verdenkingen",
          "x": 8
         },
         {
          "value": 6.666666666666666,
          "variable": "Werkelijk aantal verdenkingen",
          "x": 9
         },
         {
          "value": 3.5,
          "variable": "Werkelijk aantal verdenkingen",
          "x": 10
         },
         {
          "value": 1.3333333333333333,
          "variable": "Werkelijk aantal verdenkingen",
          "x": 11
         },
         {
          "value": 3.6666666666666665,
          "variable": "Werkelijk aantal verdenkingen",
          "x": 12
         },
         {
          "value": 2.6666666666666665,
          "variable": "Werkelijk aantal verdenkingen",
          "x": 13
         },
         {
          "value": 0.3333333333333333,
          "variable": "Werkelijk aantal verdenkingen",
          "x": 14
         },
         {
          "value": 4.699999999999999,
          "variable": "Werkelijk aantal verdenkingen",
          "x": 15
         },
         {
          "value": 3.8333333333333335,
          "variable": "Werkelijk aantal verdenkingen",
          "x": 16
         },
         {
          "value": 6,
          "variable": "Werkelijk aantal verdenkingen",
          "x": 17
         },
         {
          "value": 1.2,
          "variable": "Werkelijk aantal verdenkingen",
          "x": 18
         },
         {
          "value": 5.792063492063492,
          "variable": "Verdenkingen toevallig",
          "x": 1
         },
         {
          "value": 5.882142857142857,
          "variable": "Verdenkingen toevallig",
          "x": 2
         },
         {
          "value": 7.63968253968254,
          "variable": "Verdenkingen toevallig",
          "x": 3
         },
         {
          "value": 6.904761904761904,
          "variable": "Verdenkingen toevallig",
          "x": 4
         },
         {
          "value": 3.7182539682539684,
          "variable": "Verdenkingen toevallig",
          "x": 5
         },
         {
          "value": 5.177380952380951,
          "variable": "Verdenkingen toevallig",
          "x": 6
         },
         {
          "value": 6.76031746031746,
          "variable": "Verdenkingen toevallig",
          "x": 7
         },
         {
          "value": 5.317063492063492,
          "variable": "Verdenkingen toevallig",
          "x": 8
         },
         {
          "value": 5.621428571428571,
          "variable": "Verdenkingen toevallig",
          "x": 9
         },
         {
          "value": 3.824206349206349,
          "variable": "Verdenkingen toevallig",
          "x": 10
         },
         {
          "value": 4.241666666666666,
          "variable": "Verdenkingen toevallig",
          "x": 11
         },
         {
          "value": 2.4591269841269843,
          "variable": "Verdenkingen toevallig",
          "x": 12
         },
         {
          "value": 5.246428571428571,
          "variable": "Verdenkingen toevallig",
          "x": 13
         },
         {
          "value": 4.711111111111111,
          "variable": "Verdenkingen toevallig",
          "x": 14
         },
         {
          "value": 5.648015873015873,
          "variable": "Verdenkingen toevallig",
          "x": 15
         },
         {
          "value": 3.9575396825396822,
          "variable": "Verdenkingen toevallig",
          "x": 16
         },
         {
          "value": 5.074206349206349,
          "variable": "Verdenkingen toevallig",
          "x": 17
         },
         {
          "value": 4.176984126984127,
          "variable": "Verdenkingen toevallig",
          "x": 18
         }
        ]
       },
       "encoding": {
        "color": {
         "field": "variable",
         "type": "nominal"
        },
        "x": {
         "axis": {
          "domain": true
         },
         "field": "x",
         "scale": {
          "domain": [
           1,
           18
          ]
         },
         "title": "Seizoen",
         "type": "quantitative"
        },
        "y": {
         "field": "value",
         "title": "Totaal aantal verdenkingen",
         "type": "quantitative"
        }
       },
       "height": 180,
       "mark": "line",
       "width": 500
      },
      "image/png": "[encoded data removed]",
      "text/plain": [
       "<VegaLite 2 object>\n",
       "\n",
       "If you see this message, it means the renderer has not been properly enabled\n",
       "for the frontend that you are using. For more information, see\n",
       "https://altair-viz.github.io/user_guide/troubleshooting.html\n"
      ]
     },
     "metadata": {},
     "output_type": "display_data"
    }
   ],
   "source": [
    "#hide_input\n",
    "# calculate how often the winner would have been guessed correctly if just guessing\n",
    "temp = result[['loser_actual_votes','loser_expected_votes']].groupby(result['season']).sum()\n",
    "temp.rename({'loser_actual_votes':'Werkelijk aantal verdenkingen', 'loser_expected_votes': 'Verdenkingen toevallig'}, axis='columns', inplace=True)\n",
    "show_progress(temp, [1, 18], 'Seizoen', 'Totaal aantal verdenkingen')\n"
   ]
  },
  {
   "cell_type": "markdown",
   "metadata": {},
   "source": [
    "## Kunnen deelnemers de Mol ontmaskeren?\n",
    "\n",
    "De deelnemers maken elke aflevering een test, waarbij ze vragen over de mol moeten beantwoorden. Soms geven ze ook aan wie ze verdenken. Maar in hoeverre weten de deelnemers wie de mol is, of wordt er maar wat gegokt? Het lijkt logisch dat er op het begin wordt gegokt en dat er uiteindelijk een beter beeld ontstaat wie de mol is. Laten we kijken hoe goed de uiteindelijke winnaar en verliezer weten te voorspellen wie de mol is.\n",
    "\n",
    "En inderdaad, op het begin van het spel, als er nog veel deelnemers zijn doen de winnaars en verliezers het ongeveer even goed als puur gokken. Dit blijft zo, totdat er nog 4 deelnemers zijn. We zien dat de verliezers het ongeveer even goed blijft doen als gokken, maar de winnaars gaan het veel beter doen. Als er nog 2 deelnemers over zijn (winnaar en verliezer) heeft de winnaar het altijd goed. In de helft van de 18 seizoenen hebben we we hier informatie over. We weten dus niet zeker of het in de andere helft van de seizoenen ook zo was want dat hebben de tv-makers ons niet laten zien.\n",
    "\n",
    "Maar toch, 100% score: indrukwekkend!"
   ]
  },
  {
   "cell_type": "code",
   "execution_count": 9,
   "metadata": {
    "jupyter": {
     "source_hidden": true
    }
   },
   "outputs": [
    {
     "data": {
      "application/vnd.vegalite.v2+json": {
       "$schema": "https://vega.github.io/schema/vega-lite/v2.6.0.json",
       "config": {
        "axis": {
         "labelFontSize": 12,
         "titleFontSize": 12
        },
        "legend": {
         "labelFontSize": 12,
         "titleFontSize": 12
        },
        "view": {
         "height": 300,
         "width": 400
        }
       },
       "data": {
        "name": "data-b2db65624d2a1ae11dcc611b0a78ee05"
       },
       "datasets": {
        "data-b2db65624d2a1ae11dcc611b0a78ee05": [
         {
          "Aantal deelnemers nog in het spel, mol niet meegeteld": 2,
          "Percentage mol goed geraden": 1,
          "Speler": "winnaar"
         },
         {
          "Aantal deelnemers nog in het spel, mol niet meegeteld": 3,
          "Percentage mol goed geraden": 0.875,
          "Speler": "winnaar"
         },
         {
          "Aantal deelnemers nog in het spel, mol niet meegeteld": 4,
          "Percentage mol goed geraden": 0.5490196078431372,
          "Speler": "winnaar"
         },
         {
          "Aantal deelnemers nog in het spel, mol niet meegeteld": 5,
          "Percentage mol goed geraden": 0.18888888888888886,
          "Speler": "winnaar"
         },
         {
          "Aantal deelnemers nog in het spel, mol niet meegeteld": 6,
          "Percentage mol goed geraden": 0.23958333333333334,
          "Speler": "winnaar"
         },
         {
          "Aantal deelnemers nog in het spel, mol niet meegeteld": 7,
          "Percentage mol goed geraden": 0.319047619047619,
          "Speler": "winnaar"
         },
         {
          "Aantal deelnemers nog in het spel, mol niet meegeteld": 8,
          "Percentage mol goed geraden": 0.13333333333333333,
          "Speler": "winnaar"
         },
         {
          "Aantal deelnemers nog in het spel, mol niet meegeteld": 9,
          "Percentage mol goed geraden": 0.15384615384615385,
          "Speler": "winnaar"
         },
         {
          "Aantal deelnemers nog in het spel, mol niet meegeteld": 10,
          "Percentage mol goed geraden": 0,
          "Speler": "winnaar"
         },
         {
          "Aantal deelnemers nog in het spel, mol niet meegeteld": 2,
          "Percentage mol goed geraden": 0.6,
          "Speler": "verliezer"
         },
         {
          "Aantal deelnemers nog in het spel, mol niet meegeteld": 3,
          "Percentage mol goed geraden": 0.3125,
          "Speler": "verliezer"
         },
         {
          "Aantal deelnemers nog in het spel, mol niet meegeteld": 4,
          "Percentage mol goed geraden": 0.2685185185185185,
          "Speler": "verliezer"
         },
         {
          "Aantal deelnemers nog in het spel, mol niet meegeteld": 5,
          "Percentage mol goed geraden": 0.42857142857142855,
          "Speler": "verliezer"
         },
         {
          "Aantal deelnemers nog in het spel, mol niet meegeteld": 6,
          "Percentage mol goed geraden": 0.15384615384615385,
          "Speler": "verliezer"
         },
         {
          "Aantal deelnemers nog in het spel, mol niet meegeteld": 7,
          "Percentage mol goed geraden": 0.017543859649122806,
          "Speler": "verliezer"
         },
         {
          "Aantal deelnemers nog in het spel, mol niet meegeteld": 8,
          "Percentage mol goed geraden": 0.15384615384615385,
          "Speler": "verliezer"
         },
         {
          "Aantal deelnemers nog in het spel, mol niet meegeteld": 9,
          "Percentage mol goed geraden": 0.10416666666666667,
          "Speler": "verliezer"
         },
         {
          "Aantal deelnemers nog in het spel, mol niet meegeteld": 10,
          "Percentage mol goed geraden": 0,
          "Speler": "verliezer"
         },
         {
          "Aantal deelnemers nog in het spel, mol niet meegeteld": 2,
          "Percentage mol goed geraden": 0.5,
          "Speler": "gokkans"
         },
         {
          "Aantal deelnemers nog in het spel, mol niet meegeteld": 3,
          "Percentage mol goed geraden": 0.3333333333333333,
          "Speler": "gokkans"
         },
         {
          "Aantal deelnemers nog in het spel, mol niet meegeteld": 4,
          "Percentage mol goed geraden": 0.25,
          "Speler": "gokkans"
         },
         {
          "Aantal deelnemers nog in het spel, mol niet meegeteld": 5,
          "Percentage mol goed geraden": 0.2,
          "Speler": "gokkans"
         },
         {
          "Aantal deelnemers nog in het spel, mol niet meegeteld": 6,
          "Percentage mol goed geraden": 0.16666666666666666,
          "Speler": "gokkans"
         },
         {
          "Aantal deelnemers nog in het spel, mol niet meegeteld": 7,
          "Percentage mol goed geraden": 0.14285714285714285,
          "Speler": "gokkans"
         },
         {
          "Aantal deelnemers nog in het spel, mol niet meegeteld": 8,
          "Percentage mol goed geraden": 0.125,
          "Speler": "gokkans"
         },
         {
          "Aantal deelnemers nog in het spel, mol niet meegeteld": 9,
          "Percentage mol goed geraden": 0.1111111111111111,
          "Speler": "gokkans"
         },
         {
          "Aantal deelnemers nog in het spel, mol niet meegeteld": 10,
          "Percentage mol goed geraden": 0.1,
          "Speler": "gokkans"
         }
        ]
       },
       "encoding": {
        "color": {
         "field": "Speler",
         "type": "nominal"
        },
        "x": {
         "field": "Aantal deelnemers nog in het spel, mol niet meegeteld",
         "scale": {
          "domain": [
           10,
           2
          ]
         },
         "type": "quantitative"
        },
        "y": {
         "field": "Percentage mol goed geraden",
         "type": "quantitative"
        }
       },
       "height": 180,
       "mark": "line",
       "width": 500
      },
      "image/png": "[encoded data removed]",
      "text/plain": [
       "<VegaLite 2 object>\n",
       "\n",
       "If you see this message, it means the renderer has not been properly enabled\n",
       "for the frontend that you are using. For more information, see\n",
       "https://altair-viz.github.io/user_guide/troubleshooting.html\n"
      ]
     },
     "metadata": {},
     "output_type": "display_data"
    }
   ],
   "source": [
    "#hide_input\n",
    "# lets see per stage of the game how often winner and loser have been correct, and compare that to sheer guessing (at end of the game you have a 50% chance of guessing right)\n",
    "winbyparticipant = result[['winner_scores', 'loser_scores']].groupby(result['num_participants']).mean()\n",
    "winbyparticipant['gokkans'] = 1 / winbyparticipant.index\n",
    "chart_data = winbyparticipant\n",
    "chart_data.index.name = \"Aantal deelnemers nog in het spel, mol niet meegeteld\"\n",
    "chart_data.rename({'winner_scores': 'winnaar', 'loser_scores': 'verliezer'}, axis='columns', inplace=True)\n",
    "chart_data = chart_data.reset_index().melt('Aantal deelnemers nog in het spel, mol niet meegeteld')\n",
    "chart_data.rename({'value': 'Percentage mol goed geraden', 'variable': 'Speler'}, axis='columns', inplace=True)\n",
    "\n",
    "chart = alt.Chart(\n",
    "    chart_data, width=500,\n",
    "    height=180).mark_line().encode(\n",
    "    alt.X('Aantal deelnemers nog in het spel, mol niet meegeteld', scale=alt.Scale(domain=[10, 2])),\n",
    "    y='Percentage mol goed geraden',\n",
    "    color='Speler'\n",
    ").configure_axis(\n",
    "    labelFontSize=12,\n",
    "    titleFontSize=12).configure_legend(\n",
    "    labelFontSize=12,\n",
    "    titleFontSize=12)\n",
    "chart.display()"
   ]
  },
  {
   "cell_type": "markdown",
   "metadata": {},
   "source": [
    "## Wie Is De Mol?\n",
    "\n",
    "Op basis van bovenstaande grafiek zou je zeggen dat het vrij gemakkelijk is om de mol te ontmaskeren: gewoon luisteren naar de winnaar! Alleen, wie de winnaar is dat weten we pas achteraf. Daarom moeten we nu ook de verdenkingen van de mol meenemen in de verdenkingen. Als je naar alle seizoenen kijkt krijgen zowel de mol en de winnaar iets meer verdenkingen dan verwacht. De verliezer is iets minder verdacht."
   ]
  },
  {
   "cell_type": "code",
   "execution_count": 10,
   "metadata": {
    "jupyter": {
     "source_hidden": true
    }
   },
   "outputs": [
    {
     "data": {
      "application/vnd.vegalite.v2+json": {
       "$schema": "https://vega.github.io/schema/vega-lite/v2.6.0.json",
       "config": {
        "axis": {
         "labelFontSize": 12,
         "titleFontSize": 12
        },
        "legend": {
         "labelFontSize": 12,
         "titleFontSize": 12
        },
        "view": {
         "height": 300,
         "width": 400
        }
       },
       "data": {
        "name": "data-693e3514afebd7c4f573c590416a34cd"
       },
       "datasets": {
        "data-693e3514afebd7c4f573c590416a34cd": [
         {
          "aantal": 117.72499999999997,
          "stemmen": "verwacht",
          "wie": "mol"
         },
         {
          "aantal": 129.11666666666667,
          "stemmen": "werkelijk",
          "wie": "mol"
         },
         {
          "aantal": 118.99642857142851,
          "stemmen": "verwacht",
          "wie": "winnaar"
         },
         {
          "aantal": 130.6666666666666,
          "stemmen": "werkelijk",
          "wie": "winnaar"
         },
         {
          "aantal": 120.09325396825392,
          "stemmen": "verwacht",
          "wie": "verliezer"
         },
         {
          "aantal": 110.14999999999996,
          "stemmen": "werkelijk",
          "wie": "verliezer"
         }
        ]
       },
       "encoding": {
        "color": {
         "field": "stemmen",
         "type": "nominal"
        },
        "row": {
         "field": "wie",
         "type": "nominal"
        },
        "x": {
         "field": "aantal",
         "type": "quantitative"
        },
        "y": {
         "field": "stemmen",
         "type": "ordinal"
        }
       },
       "mark": "bar"
      },
      "image/png": "[encoded data removed]",
      "text/plain": [
       "<VegaLite 2 object>\n",
       "\n",
       "If you see this message, it means the renderer has not been properly enabled\n",
       "for the frontend that you are using. For more information, see\n",
       "https://altair-viz.github.io/user_guide/troubleshooting.html\n"
      ]
     },
     "execution_count": 10,
     "metadata": {},
     "output_type": "execute_result"
    }
   ],
   "source": [
    "#hide_input\n",
    "temp = result[['mol_expected_votes', 'mol_actual_votes', 'winner_expected_votes_incl_mol', 'winner_actual_votes_incl_mol', 'loser_expected_votes_incl_mol', 'loser_actual_votes_incl_mol']].sum()\n",
    "overview = pd.DataFrame({\n",
    "    'wie': ['mol', 'mol', 'winnaar', 'winnaar', 'verliezer', 'verliezer'],\n",
    "    'stemmen': ['verwacht', 'werkelijk', 'verwacht', 'werkelijk', 'verwacht', 'werkelijk'],\n",
    "    'aantal': temp.values})\n",
    "\n",
    "alt.Chart(overview).mark_bar().encode(\n",
    "    x='aantal:Q',\n",
    "    y='stemmen:O',\n",
    "    color='stemmen:N',\n",
    "    row='wie:N'\n",
    ").configure_axis(\n",
    "    labelFontSize=12,\n",
    "    titleFontSize=12).configure_legend(\n",
    "    labelFontSize=12,\n",
    "    titleFontSize=12)"
   ]
  },
  {
   "cell_type": "markdown",
   "metadata": {},
   "source": [
    "Onderstaande grafiek geeft aan hoe verdacht de mol winnaar en verliezer waren. Verdachtheid meten we met het aantal verdenkingen die iemand meer heeft gekregen dan je op basis van toeval zou verwachten. We hebben net ook gezien dat de deelnemers pas bij 4 of minder spelers in het spel meer kans hebben om goed te verdenken dan toeval, dus we kijken alleen naar de verdenkingen in de laatste paar rondes. We zien dat over het algemeen de mol het meest verdacht is.\n",
    "\n",
    "De laatste jaren zien we toch meer molgedrag bij de winnaar en is de winnaar meer verdacht dan de verliezer. In 8 van de 18 seizoenen is de mol degene met het meeste stemmen.\n",
    "\n",
    "Heel duidelijk is dat de verliezer bijna nooit het meest verdacht is, dit is maar 1 keer voorgekomen (seizoen 3)."
   ]
  },
  {
   "cell_type": "code",
   "execution_count": 11,
   "metadata": {
    "jupyter": {
     "source_hidden": true
    }
   },
   "outputs": [
    {
     "data": {
      "application/vnd.vegalite.v2+json": {
       "$schema": "https://vega.github.io/schema/vega-lite/v2.6.0.json",
       "config": {
        "axis": {
         "labelFontSize": 12,
         "titleFontSize": 12
        },
        "legend": {
         "labelFontSize": 12,
         "titleFontSize": 12
        },
        "view": {
         "height": 300,
         "width": 400
        }
       },
       "data": {
        "name": "data-da8ea94c31b279631452106a8308b0ed"
       },
       "datasets": {
        "data-da8ea94c31b279631452106a8308b0ed": [
         {
          "value": 0,
          "variable": "mol",
          "x": 1
         },
         {
          "value": 3.0833333333333335,
          "variable": "mol",
          "x": 2
         },
         {
          "value": 0.5,
          "variable": "mol",
          "x": 3
         },
         {
          "value": 1.8333333333333335,
          "variable": "mol",
          "x": 4
         },
         {
          "value": 0.5,
          "variable": "mol",
          "x": 5
         },
         {
          "value": -0.9166666666666665,
          "variable": "mol",
          "x": 6
         },
         {
          "value": 0,
          "variable": "mol",
          "x": 7
         },
         {
          "value": -1.4166666666666665,
          "variable": "mol",
          "x": 8
         },
         {
          "value": 4.583333333333334,
          "variable": "mol",
          "x": 9
         },
         {
          "value": 2.916666666666667,
          "variable": "mol",
          "x": 10
         },
         {
          "value": 3.666666666666667,
          "variable": "mol",
          "x": 11
         },
         {
          "value": 1,
          "variable": "mol",
          "x": 12
         },
         {
          "value": 1.4166666666666667,
          "variable": "mol",
          "x": 13
         },
         {
          "value": 1,
          "variable": "mol",
          "x": 14
         },
         {
          "value": 3.833333333333333,
          "variable": "mol",
          "x": 15
         },
         {
          "value": 0,
          "variable": "mol",
          "x": 16
         },
         {
          "value": -2.083333333333333,
          "variable": "mol",
          "x": 17
         },
         {
          "value": -0.5,
          "variable": "mol",
          "x": 18
         },
         {
          "value": 0,
          "variable": "winnaar",
          "x": 1
         },
         {
          "value": 0.9166666666666667,
          "variable": "winnaar",
          "x": 2
         },
         {
          "value": 0,
          "variable": "winnaar",
          "x": 3
         },
         {
          "value": -0.33333333333333326,
          "variable": "winnaar",
          "x": 4
         },
         {
          "value": 1.5,
          "variable": "winnaar",
          "x": 5
         },
         {
          "value": 1.25,
          "variable": "winnaar",
          "x": 6
         },
         {
          "value": 2.3333333333333335,
          "variable": "winnaar",
          "x": 7
         },
         {
          "value": -0.16666666666666652,
          "variable": "winnaar",
          "x": 8
         },
         {
          "value": -2.75,
          "variable": "winnaar",
          "x": 9
         },
         {
          "value": -2.833333333333333,
          "variable": "winnaar",
          "x": 10
         },
         {
          "value": 0.5,
          "variable": "winnaar",
          "x": 11
         },
         {
          "value": -1,
          "variable": "winnaar",
          "x": 12
         },
         {
          "value": 0.9166666666666666,
          "variable": "winnaar",
          "x": 13
         },
         {
          "value": 6,
          "variable": "winnaar",
          "x": 14
         },
         {
          "value": 0.08333333333333326,
          "variable": "winnaar",
          "x": 15
         },
         {
          "value": 1,
          "variable": "winnaar",
          "x": 16
         },
         {
          "value": 2.916666666666667,
          "variable": "winnaar",
          "x": 17
         },
         {
          "value": 4.25,
          "variable": "winnaar",
          "x": 18
         },
         {
          "value": 0,
          "variable": "verliezer",
          "x": 1
         },
         {
          "value": -2.4166666666666665,
          "variable": "verliezer",
          "x": 2
         },
         {
          "value": 1,
          "variable": "verliezer",
          "x": 3
         },
         {
          "value": 0.6666666666666667,
          "variable": "verliezer",
          "x": 4
         },
         {
          "value": -0.75,
          "variable": "verliezer",
          "x": 5
         },
         {
          "value": -0.41666666666666663,
          "variable": "verliezer",
          "x": 6
         },
         {
          "value": -1.1666666666666665,
          "variable": "verliezer",
          "x": 7
         },
         {
          "value": -2.4166666666666665,
          "variable": "verliezer",
          "x": 8
         },
         {
          "value": 0.08333333333333337,
          "variable": "verliezer",
          "x": 9
         },
         {
          "value": 0.25,
          "variable": "verliezer",
          "x": 10
         },
         {
          "value": -2.083333333333333,
          "variable": "verliezer",
          "x": 11
         },
         {
          "value": 0,
          "variable": "verliezer",
          "x": 12
         },
         {
          "value": -2.083333333333333,
          "variable": "verliezer",
          "x": 13
         },
         {
          "value": -3,
          "variable": "verliezer",
          "x": 14
         },
         {
          "value": -1.75,
          "variable": "verliezer",
          "x": 15
         },
         {
          "value": 0.5,
          "variable": "verliezer",
          "x": 16
         },
         {
          "value": 1.0833333333333335,
          "variable": "verliezer",
          "x": 17
         },
         {
          "value": -2.5,
          "variable": "verliezer",
          "x": 18
         }
        ]
       },
       "encoding": {
        "color": {
         "field": "variable",
         "type": "nominal"
        },
        "x": {
         "axis": {
          "domain": true
         },
         "field": "x",
         "scale": {
          "domain": [
           1,
           18
          ]
         },
         "title": "Seizoen",
         "type": "quantitative"
        },
        "y": {
         "field": "value",
         "title": "Stemmen meer dan verwacht",
         "type": "quantitative"
        }
       },
       "height": 180,
       "mark": "line",
       "width": 500
      },
      "image/png": "[encoded data removed]",
      "text/plain": [
       "<VegaLite 2 object>\n",
       "\n",
       "If you see this message, it means the renderer has not been properly enabled\n",
       "for the frontend that you are using. For more information, see\n",
       "https://altair-viz.github.io/user_guide/troubleshooting.html\n"
      ]
     },
     "metadata": {},
     "output_type": "display_data"
    }
   ],
   "source": [
    "#hide_input\n",
    "temp = result.loc[result['num_participants'] < 5, :][['suspicion_mol', 'suspicion_winner_incl_mol', 'suspicion_loser_incl_mol', 'season']]  # filter on num participants\n",
    "temp.reset_index(inplace=True, drop=True)\n",
    "temp = temp[['suspicion_mol', 'suspicion_winner_incl_mol', 'suspicion_loser_incl_mol']].groupby(temp['season']).sum()\n",
    "a = temp.copy()\n",
    "temp.rename({'suspicion_mol': 'mol', 'suspicion_winner_incl_mol': 'winnaar', 'suspicion_loser_incl_mol': 'verliezer'}, axis='columns', inplace=True)\n",
    "show_progress(temp, [1, 18], 'Seizoen', 'Stemmen meer dan verwacht')"
   ]
  },
  {
   "cell_type": "markdown",
   "metadata": {},
   "source": [
    "In een uiterste poging heb ik nog geprobeerd om het 'verdenkingsgedrag' van mol en winnaar te vergelijken. \n",
    "Ook heb ik gekeken naar:\n",
    "- Hoe vaak iemand een tunnelvisie heeft (dezelfde persoon verdenken). Mollen zijn geneigd om 3 of 4 afleveringen dezelfde persoon te verdenken, een soort fake tunnelvisie.\n",
    "- Hoe vaak  de verdenkingen van iemand bekend worden gemaakt in de aflevering. Hier kwam geen duidelijk verschil uit tussen mollen en winnaars/verliezers.\n",
    "- Hoe vaak iemand zijn verdenkingen split. De winnaar deed dat iets vaker dan de mol (9 keer mol vaker, 6 keer winnaar vaker, 3 keer gelijk)\n",
    "- Of de mol een man of vrouw was. Het enige nuttige hierbij is wanneer er 2 mannen en 1 vrouw in de finale zitten, de mol meestal een man is (6 van de 7 keer is dit voorgekomen)\n",
    "\n",
    "Door een aantal van deze elementen in een statistisch model op te nemen kon ik onderzoeken of de mol te voorspellen is. Dan kijk je dus naar alle verdenkingen en moet je van 3 deelnemers zeggen wie de mol is, bijvoorbeeld vlak voor de finaleaflevering. Uiteindelijk kon ik in 12 van de 18 seizoenen voorspellen wie de mol was, 2/3 kans dus. Toch al een stuk beter dan 1/3 gokkans, maar zeker niet altijd goed."
   ]
  },
  {
   "cell_type": "code",
   "execution_count": 12,
   "metadata": {
    "collapsed": true,
    "jupyter": {
     "outputs_hidden": true,
     "source_hidden": true
    }
   },
   "outputs": [
    {
     "data": {
      "application/vnd.vegalite.v2+json": {
       "$schema": "https://vega.github.io/schema/vega-lite/v2.6.0.json",
       "config": {
        "view": {
         "height": 300,
         "width": 400
        }
       },
       "data": {
        "name": "data-93c522c8ab1013635dd839ed7d6953bf"
       },
       "datasets": {
        "data-93c522c8ab1013635dd839ed7d6953bf": [
         {
          "Maximum number of votes on 1 participant": 3,
          "Mol, Winner": "mol_max"
         },
         {
          "Maximum number of votes on 1 participant": 5,
          "Mol, Winner": "mol_max"
         },
         {
          "Maximum number of votes on 1 participant": 4,
          "Mol, Winner": "mol_max"
         },
         {
          "Maximum number of votes on 1 participant": 2,
          "Mol, Winner": "mol_max"
         },
         {
          "Maximum number of votes on 1 participant": 2,
          "Mol, Winner": "mol_max"
         },
         {
          "Maximum number of votes on 1 participant": 3,
          "Mol, Winner": "mol_max"
         },
         {
          "Maximum number of votes on 1 participant": 3,
          "Mol, Winner": "mol_max"
         },
         {
          "Maximum number of votes on 1 participant": 4,
          "Mol, Winner": "mol_max"
         },
         {
          "Maximum number of votes on 1 participant": 3,
          "Mol, Winner": "mol_max"
         },
         {
          "Maximum number of votes on 1 participant": 3,
          "Mol, Winner": "mol_max"
         },
         {
          "Maximum number of votes on 1 participant": 3,
          "Mol, Winner": "mol_max"
         },
         {
          "Maximum number of votes on 1 participant": 2,
          "Mol, Winner": "mol_max"
         },
         {
          "Maximum number of votes on 1 participant": 3,
          "Mol, Winner": "mol_max"
         },
         {
          "Maximum number of votes on 1 participant": 3,
          "Mol, Winner": "mol_max"
         },
         {
          "Maximum number of votes on 1 participant": 2,
          "Mol, Winner": "mol_max"
         },
         {
          "Maximum number of votes on 1 participant": 2,
          "Mol, Winner": "mol_max"
         },
         {
          "Maximum number of votes on 1 participant": 3,
          "Mol, Winner": "mol_max"
         },
         {
          "Maximum number of votes on 1 participant": 4,
          "Mol, Winner": "mol_max"
         },
         {
          "Maximum number of votes on 1 participant": 3,
          "Mol, Winner": "winner_max"
         },
         {
          "Maximum number of votes on 1 participant": 3,
          "Mol, Winner": "winner_max"
         },
         {
          "Maximum number of votes on 1 participant": 5,
          "Mol, Winner": "winner_max"
         },
         {
          "Maximum number of votes on 1 participant": 5,
          "Mol, Winner": "winner_max"
         },
         {
          "Maximum number of votes on 1 participant": 1,
          "Mol, Winner": "winner_max"
         },
         {
          "Maximum number of votes on 1 participant": 2,
          "Mol, Winner": "winner_max"
         },
         {
          "Maximum number of votes on 1 participant": 7,
          "Mol, Winner": "winner_max"
         },
         {
          "Maximum number of votes on 1 participant": 3,
          "Mol, Winner": "winner_max"
         },
         {
          "Maximum number of votes on 1 participant": 4,
          "Mol, Winner": "winner_max"
         },
         {
          "Maximum number of votes on 1 participant": 2,
          "Mol, Winner": "winner_max"
         },
         {
          "Maximum number of votes on 1 participant": 2,
          "Mol, Winner": "winner_max"
         },
         {
          "Maximum number of votes on 1 participant": 1,
          "Mol, Winner": "winner_max"
         },
         {
          "Maximum number of votes on 1 participant": 2,
          "Mol, Winner": "winner_max"
         },
         {
          "Maximum number of votes on 1 participant": 2,
          "Mol, Winner": "winner_max"
         },
         {
          "Maximum number of votes on 1 participant": 2,
          "Mol, Winner": "winner_max"
         },
         {
          "Maximum number of votes on 1 participant": 1,
          "Mol, Winner": "winner_max"
         },
         {
          "Maximum number of votes on 1 participant": 5,
          "Mol, Winner": "winner_max"
         },
         {
          "Maximum number of votes on 1 participant": 2,
          "Mol, Winner": "winner_max"
         },
         {
          "Maximum number of votes on 1 participant": 5,
          "Mol, Winner": "loser_max"
         },
         {
          "Maximum number of votes on 1 participant": 3,
          "Mol, Winner": "loser_max"
         },
         {
          "Maximum number of votes on 1 participant": 6,
          "Mol, Winner": "loser_max"
         },
         {
          "Maximum number of votes on 1 participant": 3,
          "Mol, Winner": "loser_max"
         },
         {
          "Maximum number of votes on 1 participant": 1,
          "Mol, Winner": "loser_max"
         },
         {
          "Maximum number of votes on 1 participant": 5,
          "Mol, Winner": "loser_max"
         },
         {
          "Maximum number of votes on 1 participant": 4,
          "Mol, Winner": "loser_max"
         },
         {
          "Maximum number of votes on 1 participant": 2,
          "Mol, Winner": "loser_max"
         },
         {
          "Maximum number of votes on 1 participant": 4,
          "Mol, Winner": "loser_max"
         },
         {
          "Maximum number of votes on 1 participant": 5,
          "Mol, Winner": "loser_max"
         },
         {
          "Maximum number of votes on 1 participant": 4,
          "Mol, Winner": "loser_max"
         },
         {
          "Maximum number of votes on 1 participant": 2,
          "Mol, Winner": "loser_max"
         },
         {
          "Maximum number of votes on 1 participant": 2,
          "Mol, Winner": "loser_max"
         },
         {
          "Maximum number of votes on 1 participant": 2,
          "Mol, Winner": "loser_max"
         },
         {
          "Maximum number of votes on 1 participant": 1,
          "Mol, Winner": "loser_max"
         },
         {
          "Maximum number of votes on 1 participant": 2,
          "Mol, Winner": "loser_max"
         },
         {
          "Maximum number of votes on 1 participant": 2,
          "Mol, Winner": "loser_max"
         },
         {
          "Maximum number of votes on 1 participant": 3,
          "Mol, Winner": "loser_max"
         }
        ]
       },
       "encoding": {
        "color": {
         "field": "Mol, Winner",
         "scale": {
          "range": [
           "#0000ff",
           "#008000"
          ]
         },
         "type": "nominal"
        },
        "x": {
         "bin": {
          "maxbins": 10
         },
         "field": "Maximum number of votes on 1 participant",
         "type": "quantitative"
        },
        "y": {
         "aggregate": "count",
         "stack": null,
         "type": "quantitative"
        }
       },
       "mark": {
        "interpolate": "step",
        "opacity": 0.3,
        "type": "area"
       }
      },
      "image/png": "[encoded data removed]",
      "text/plain": [
       "<VegaLite 2 object>\n",
       "\n",
       "If you see this message, it means the renderer has not been properly enabled\n",
       "for the frontend that you are using. For more information, see\n",
       "https://altair-viz.github.io/user_guide/troubleshooting.html\n"
      ]
     },
     "execution_count": 12,
     "metadata": {},
     "output_type": "execute_result"
    }
   ],
   "source": [
    "#hide_input\n",
    "mol_max_votes = [count_maximum_votes(result[i]) for i in mollist]  # max amount of votes cast by mol on single participants\n",
    "winner_max_votes = [count_maximum_votes(result[i]) for i in winnerlist]\n",
    "loser_max_votes = [count_maximum_votes(result[i]) for i in loserlist]\n",
    "\n",
    "source = pd.DataFrame({\n",
    "    'mol_max': mol_max_votes,\n",
    "    'winner_max': winner_max_votes,\n",
    "    'loser_max': loser_max_votes,\n",
    "})\n",
    "b = source.copy()\n",
    "source = pd.melt(\n",
    "    source,\n",
    "    id_vars=source.index.name,\n",
    "    value_vars=source.columns,\n",
    "    var_name='Mol, Winner',\n",
    "    value_name='Maximum number of votes on 1 participant'\n",
    ")\n",
    "\n",
    "alt.Chart(source).mark_area(\n",
    "    opacity=0.3,\n",
    "    interpolate='step'\n",
    ").encode(\n",
    "    alt.X('Maximum number of votes on 1 participant', bin=alt.Bin(maxbins=10)),\n",
    "    alt.Y('count()', stack=None),\n",
    "    alt.Color(\n",
    "        'Mol, Winner',\n",
    "        scale=alt.Scale(range=['#0000ff', '#008000'])\n",
    "    )\n",
    ")"
   ]
  },
  {
   "cell_type": "markdown",
   "metadata": {},
   "source": [
    "## Money money money\n",
    "\n",
    "We kunnen ook kijken naar de prijzenpot. In onderstaande grafiek zie je de pot op het einde van het seizoen. De pot lijkt wel steeds kleiner te worden. komt dit doordat er minder geld valt te verdienen, zijn de opdrachten moeilijker of wordt er meer gemold)?"
   ]
  },
  {
   "cell_type": "code",
   "execution_count": 13,
   "metadata": {
    "jupyter": {
     "source_hidden": true
    }
   },
   "outputs": [
    {
     "data": {
      "application/vnd.vegalite.v2+json": {
       "$schema": "https://vega.github.io/schema/vega-lite/v2.6.0.json",
       "config": {
        "axis": {
         "labelFontSize": 12,
         "titleFontSize": 12
        },
        "legend": {
         "labelFontSize": 12,
         "titleFontSize": 12
        },
        "view": {
         "height": 300,
         "width": 400
        }
       },
       "data": {
        "name": "data-b4b9515be00f352ee25e21f23c7fb0ee"
       },
       "datasets": {
        "data-b4b9515be00f352ee25e21f23c7fb0ee": [
         {
          "value": 37500,
          "variable": "prijzenpot einde seizoen",
          "x": 1
         },
         {
          "value": 31818.181818181816,
          "variable": "prijzenpot einde seizoen",
          "x": 2
         },
         {
          "value": 42300,
          "variable": "prijzenpot einde seizoen",
          "x": 3
         },
         {
          "value": 36550,
          "variable": "prijzenpot einde seizoen",
          "x": 4
         },
         {
          "value": 23000,
          "variable": "prijzenpot einde seizoen",
          "x": 5
         },
         {
          "value": 24075,
          "variable": "prijzenpot einde seizoen",
          "x": 6
         },
         {
          "value": 17300,
          "variable": "prijzenpot einde seizoen",
          "x": 7
         },
         {
          "value": 20375,
          "variable": "prijzenpot einde seizoen",
          "x": 8
         },
         {
          "value": 22650,
          "variable": "prijzenpot einde seizoen",
          "x": 9
         },
         {
          "value": 21950,
          "variable": "prijzenpot einde seizoen",
          "x": 10
         },
         {
          "value": 22540,
          "variable": "prijzenpot einde seizoen",
          "x": 11
         },
         {
          "value": 12601,
          "variable": "prijzenpot einde seizoen",
          "x": 12
         },
         {
          "value": 17120,
          "variable": "prijzenpot einde seizoen",
          "x": 13
         },
         {
          "value": 16700,
          "variable": "prijzenpot einde seizoen",
          "x": 14
         },
         {
          "value": 10500,
          "variable": "prijzenpot einde seizoen",
          "x": 15
         },
         {
          "value": 7670,
          "variable": "prijzenpot einde seizoen",
          "x": 16
         },
         {
          "value": 24320,
          "variable": "prijzenpot einde seizoen",
          "x": 17
         },
         {
          "value": 15250,
          "variable": "prijzenpot einde seizoen",
          "x": 18
         }
        ]
       },
       "encoding": {
        "color": {
         "field": "variable",
         "type": "nominal"
        },
        "x": {
         "axis": {
          "domain": true
         },
         "field": "x",
         "scale": {
          "domain": [
           1,
           18
          ]
         },
         "title": "Seizoen",
         "type": "quantitative"
        },
        "y": {
         "field": "value",
         "title": "Euro",
         "type": "quantitative"
        }
       },
       "height": 180,
       "mark": "line",
       "width": 500
      },
      "image/png": "[encoded data removed]",
      "text/plain": [
       "<VegaLite 2 object>\n",
       "\n",
       "If you see this message, it means the renderer has not been properly enabled\n",
       "for the frontend that you are using. For more information, see\n",
       "https://altair-viz.github.io/user_guide/troubleshooting.html\n"
      ]
     },
     "metadata": {},
     "output_type": "display_data"
    }
   ],
   "source": [
    "#hide_input\n",
    "temp = pd.DataFrame({'prijzenpot einde seizoen': earningslist})  # , 'potential_earnings': potential_earningslist\n",
    "temp.index = np.arange(1, len(temp) + 1)\n",
    "show_progress(temp, [1, 18], 'Seizoen', 'Euro')"
   ]
  },
  {
   "cell_type": "markdown",
   "metadata": {},
   "source": [
    "De totale potentiële pot was vooral in de eerste seizoenen erg hoog. In seizoen 3 kon er maar lieft 250.000 euro worden verdiend! Daarna het langzaam af. Bezuinigingen bij de publieke omroep? In seizoen 17 en 18 is er weer wat meer te verdienen."
   ]
  },
  {
   "cell_type": "code",
   "execution_count": 14,
   "metadata": {
    "jupyter": {
     "source_hidden": true
    }
   },
   "outputs": [
    {
     "data": {
      "application/vnd.vegalite.v2+json": {
       "$schema": "https://vega.github.io/schema/vega-lite/v2.6.0.json",
       "config": {
        "axis": {
         "labelFontSize": 12,
         "titleFontSize": 12
        },
        "legend": {
         "labelFontSize": 12,
         "titleFontSize": 12
        },
        "view": {
         "height": 300,
         "width": 400
        }
       },
       "data": {
        "name": "data-80808fca0ac6c77d9fcc4b249fc8ea37"
       },
       "datasets": {
        "data-80808fca0ac6c77d9fcc4b249fc8ea37": [
         {
          "value": 73863.63636363635,
          "variable": "maximale prijzenpot",
          "x": 1
         },
         {
          "value": 70909.0909090909,
          "variable": "maximale prijzenpot",
          "x": 2
         },
         {
          "value": 257500,
          "variable": "maximale prijzenpot",
          "x": 3
         },
         {
          "value": 141250,
          "variable": "maximale prijzenpot",
          "x": 4
         },
         {
          "value": 112250,
          "variable": "maximale prijzenpot",
          "x": 5
         },
         {
          "value": 59870,
          "variable": "maximale prijzenpot",
          "x": 6
         },
         {
          "value": 73750,
          "variable": "maximale prijzenpot",
          "x": 7
         },
         {
          "value": 59015,
          "variable": "maximale prijzenpot",
          "x": 8
         },
         {
          "value": 51950,
          "variable": "maximale prijzenpot",
          "x": 9
         },
         {
          "value": 59700,
          "variable": "maximale prijzenpot",
          "x": 10
         },
         {
          "value": 63500,
          "variable": "maximale prijzenpot",
          "x": 11
         },
         {
          "value": 64200,
          "variable": "maximale prijzenpot",
          "x": 12
         },
         {
          "value": 55800,
          "variable": "maximale prijzenpot",
          "x": 13
         },
         {
          "value": 43000,
          "variable": "maximale prijzenpot",
          "x": 14
         },
         {
          "value": 38581,
          "variable": "maximale prijzenpot",
          "x": 15
         },
         {
          "value": 31660,
          "variable": "maximale prijzenpot",
          "x": 16
         },
         {
          "value": 65160,
          "variable": "maximale prijzenpot",
          "x": 17
         },
         {
          "value": 68080,
          "variable": "maximale prijzenpot",
          "x": 18
         }
        ]
       },
       "encoding": {
        "color": {
         "field": "variable",
         "type": "nominal"
        },
        "x": {
         "axis": {
          "domain": true
         },
         "field": "x",
         "scale": {
          "domain": [
           1,
           18
          ]
         },
         "title": "Seizoen",
         "type": "quantitative"
        },
        "y": {
         "field": "value",
         "title": "Euro",
         "type": "quantitative"
        }
       },
       "height": 180,
       "mark": "line",
       "width": 500
      },
      "image/png": "[encoded data removed]",
      "text/plain": [
       "<VegaLite 2 object>\n",
       "\n",
       "If you see this message, it means the renderer has not been properly enabled\n",
       "for the frontend that you are using. For more information, see\n",
       "https://altair-viz.github.io/user_guide/troubleshooting.html\n"
      ]
     },
     "metadata": {},
     "output_type": "display_data"
    }
   ],
   "source": [
    "#hide_input\n",
    "temp = pd.DataFrame({'maximale prijzenpot': potential_earningslist})\n",
    "temp.index = np.arange(1, len(temp) + 1)\n",
    "show_progress(temp, [1, 18], 'Seizoen', 'Euro')"
   ]
  },
  {
   "cell_type": "markdown",
   "metadata": {},
   "source": [
    "Het percentage van de potentiële pot dat wordt binnengehaald schommelt nogal, tussen de 20 en 50 procent. Dit kan natuurlijk door mollen komen, maar soms zijn er ook opdrachten waarbij geld wordt verloren uit de pot. Ik kon geen verband vinden tussen dit percentage en hoe verdacht mol of winnaar was. Misschien komt dit doordat er in sommige seizoenen ook geld kan worden verloren, of misschien is het heel persoonsafhankelijk hoe de mol opereert en hoe goed het team functioneert in geld binnenhalen.\n",
    "\n",
    "Eigenlijk zijn de winnaar in seizoen 1 (Petra), 2 (Sigrid) en 9 (Hadewych) het meest succesvol geweest. Ze waren ook minder verdacht dan verwacht, dus(?) niet aan het mollen.\n",
    "\n",
    "De meest succesvolle mol is wat lastiger maar ik neig naar Anne-Marie uit seizoen 12: niet verdacht, wel een kleine pot. Maar seizoen 3, 4, 5 en 7 waren ook prima!"
   ]
  },
  {
   "cell_type": "code",
   "execution_count": 15,
   "metadata": {
    "jupyter": {
     "source_hidden": true
    }
   },
   "outputs": [
    {
     "data": {
      "application/vnd.vegalite.v2+json": {
       "$schema": "https://vega.github.io/schema/vega-lite/v2.6.0.json",
       "config": {
        "axis": {
         "labelFontSize": 12,
         "titleFontSize": 12
        },
        "legend": {
         "labelFontSize": 12,
         "titleFontSize": 12
        },
        "view": {
         "height": 300,
         "width": 400
        }
       },
       "data": {
        "name": "data-e5063795d7b2917ba5f97a09ec6c5845"
       },
       "datasets": {
        "data-e5063795d7b2917ba5f97a09ec6c5845": [
         {
          "value": 0.5076923076923077,
          "variable": "percentage verdiend",
          "x": 1
         },
         {
          "value": 0.44871794871794873,
          "variable": "percentage verdiend",
          "x": 2
         },
         {
          "value": 0.16427184466019418,
          "variable": "percentage verdiend",
          "x": 3
         },
         {
          "value": 0.2587610619469027,
          "variable": "percentage verdiend",
          "x": 4
         },
         {
          "value": 0.20489977728285078,
          "variable": "percentage verdiend",
          "x": 5
         },
         {
          "value": 0.40212126273592785,
          "variable": "percentage verdiend",
          "x": 6
         },
         {
          "value": 0.23457627118644067,
          "variable": "percentage verdiend",
          "x": 7
         },
         {
          "value": 0.34525120732017284,
          "variable": "percentage verdiend",
          "x": 8
         },
         {
          "value": 0.4359961501443696,
          "variable": "percentage verdiend",
          "x": 9
         },
         {
          "value": 0.3676716917922948,
          "variable": "percentage verdiend",
          "x": 10
         },
         {
          "value": 0.3549606299212598,
          "variable": "percentage verdiend",
          "x": 11
         },
         {
          "value": 0.1962772585669782,
          "variable": "percentage verdiend",
          "x": 12
         },
         {
          "value": 0.3068100358422939,
          "variable": "percentage verdiend",
          "x": 13
         },
         {
          "value": 0.3883720930232558,
          "variable": "percentage verdiend",
          "x": 14
         },
         {
          "value": 0.2721546875404992,
          "variable": "percentage verdiend",
          "x": 15
         },
         {
          "value": 0.24226152874289325,
          "variable": "percentage verdiend",
          "x": 16
         },
         {
          "value": 0.37323511356660527,
          "variable": "percentage verdiend",
          "x": 17
         },
         {
          "value": 0.2240011750881316,
          "variable": "percentage verdiend",
          "x": 18
         }
        ]
       },
       "encoding": {
        "color": {
         "field": "variable",
         "type": "nominal"
        },
        "x": {
         "axis": {
          "domain": true
         },
         "field": "x",
         "scale": {
          "domain": [
           1,
           18
          ]
         },
         "title": "Seizoen",
         "type": "quantitative"
        },
        "y": {
         "field": "value",
         "title": "% van mogelijke pot binnengehaald",
         "type": "quantitative"
        }
       },
       "height": 180,
       "mark": "line",
       "width": 500
      },
      "image/png": "[encoded data removed]",
      "text/plain": [
       "<VegaLite 2 object>\n",
       "\n",
       "If you see this message, it means the renderer has not been properly enabled\n",
       "for the frontend that you are using. For more information, see\n",
       "https://altair-viz.github.io/user_guide/troubleshooting.html\n"
      ]
     },
     "metadata": {},
     "output_type": "display_data"
    }
   ],
   "source": [
    "#hide_input\n",
    "temp = pd.DataFrame({'percentage verdiend': percentage_earnedlist})\n",
    "temp.index = np.arange(1, len(temp) + 1)\n",
    "show_progress(temp, [1, 18], 'Seizoen', '% van mogelijke pot binnengehaald')"
   ]
  },
  {
   "cell_type": "markdown",
   "metadata": {},
   "source": [
    "## Conclusies\n",
    "\n",
    "- Er zitten grote verschillen tussen de seizoenen in hoe verdacht de mol, de winnaar en de verliezer zijn\n",
    "- De winnaar weet vrijwel altijd wie de mol is, maar weet het pas de laatste paar afleveringen\n",
    "- De verliezer weet meestal niet wie de mol is en had net zo goed kop of munt kunnen gokken\n",
    "- De mol wordt eigenlijk alleen door de winnaar ontmaskerd\n",
    "- De prijzenpot voor WidM is gedaald\n",
    "- We kunnen geen relatie vinden tussen het percentage van de pot die wordt binnengehaald en het mate van verdenking op mol of winnaar\n",
    "- We kunnen op basis van de verdenkingen in de finale iets beter voorspellen wie de mol is (12 van de 18 seizoenen goed voorspeld)\n",
    "- Voor de toekomst kan het leuk zijn om de verdenkingen van het publiek via de mol-app te bekijken. Doen de tv kijkers het beter of wordt er maar wat gegokt en krijgen we eigenlijk te weinig echte hints?\n",
    "\n",
    "Welke vragen heb je zelf nog? Veel plezier met Wie is de Mol dit seizoen!\n",
    "\n",
    "Hier kan je de jupyter notebook downloaden: https://github.com/jvanelteren/wie_is_de_mol\n",
    "\n",
    "Mocht je data science leuk vinden kan ik je van harte aanraden om eens een gratis online Python programmeercursus te volgen!"
   ]
  },
  {
   "cell_type": "code",
   "execution_count": 27,
   "metadata": {
    "collapsed": true,
    "jupyter": {
     "outputs_hidden": true,
     "source_hidden": true
    }
   },
   "outputs": [
    {
     "name": "stdout",
     "output_type": "stream",
     "text": [
      "fitting model Logistic    \n",
      "[0 1 2] 0 [0.26443727 0.26443727 0.35079172]\n",
      "[2 1 0] 1 [0.46681657 0.33867605 0.18973389]\n",
      "[2 1 0] 1 [0.37599329 0.33620973 0.31763232]\n",
      "[2 1 0] 1 [0.37470944 0.34813848 0.3059296 ]\n",
      "[2 0 1] 1 [0.31248706 0.5191871  0.26013773]\n",
      "[0 2 1] 0 [0.20478    0.48586007 0.32465436]\n",
      "[2 0 1] 1 [0.27225322 0.41487992 0.20952964]\n",
      "[2 0 1] 1 [0.22327151 0.27244697 0.17749983]\n",
      "[1 2 0] 0 [0.60557201 0.23038699 0.28391921]\n",
      "[1 2 0] 0 [0.41831261 0.2511718  0.26410509]\n",
      "[2 1 0] 1 [0.57153453 0.40773749 0.18678924]\n",
      "[1 2 0] 0 [0.3444447  0.25359567 0.2895328 ]\n",
      "[2 1 0] 1 [0.42716228 0.36294308 0.21031043]\n",
      "[2 0 1] 1 [0.34583892 0.77826144 0.17069382]\n",
      "[2 1 0] 1 [0.48677514 0.39763196 0.22990853]\n",
      "[2 0 1] 1 [0.37203756 0.46407206 0.33300083]\n",
      "[0 2 1] 0 [0.19554873 0.49307446 0.445894  ]\n",
      "[2 0 1] 1 [0.28029903 0.72566173 0.13325655]\n",
      "12 out of 18 seasons correct, is  0.6666666666666666\n"
     ]
    }
   ],
   "source": [
    "#hide\n",
    "var_a = a.stack().sort_index(level=1).reset_index(drop=True)\n",
    "var_b = b.stack().sort_index(level=1).reset_index(drop=True)\n",
    "isfemale = [1, 0, 0, 1, 1, 1, 1, 0, 0, 1, 0, 1, 0, 1, 1, 0, 0, 0, 1, 1, 0, 0, 0, 0, 1, 1, 0, 0, 0, 1, 1, 1, 0, 0, 1, 0, 0, 1, 1, 1, 1, 0, 1, 1, 1, 1, 1, 1, 1, 0, 1, 1, 0, 1]\n",
    "c = pd.DataFrame({'isfemale': isfemale}).reset_index(drop=True)\n",
    "var_c = c.stack().reset_index(drop=True)\n",
    "features = pd.concat([var_a, var_b, var_c], sort=False, axis=1)\n",
    "features.rename({0: 'suspicion_index', 1: 'max_vote', 2: 'gender'}, axis='columns', inplace=True)\n",
    "features = features.values\n",
    "\n",
    "labels = np.full(54, 1)\n",
    "labels[0:18] = 0\n",
    "len(labels)\n",
    "\n",
    "loo = LeaveOneOut()\n",
    "loo.get_n_splits(np.zeros(18))\n",
    "\n",
    "models = []\n",
    "models.append(('Logistic    ', LogisticRegression(solver='liblinear')))\n",
    "#models.append(('KNeigbors   ', KNeighborsClassifier()))\n",
    "scores = {'m':[],'w':[],'l':[]}\n",
    "for name, model in models:\n",
    "    print ('fitting model', name)\n",
    "    correct = 0\n",
    "    for train, test in loo.split(np.zeros(18)):\n",
    "        train_index = np.array(train)\n",
    "        test_index = np.array(test)\n",
    "        features_train, features_test = (list(features[train_index]) + list(features[18 + train_index]) + list(features[36 + train_index])), (list(features[test_index]) + list(features[18+test_index]) + list(features[36 + test_index]))\n",
    "        labels_train, labels_test = list(labels[train_index]) + list(labels[18 + train_index]) + list(labels[36 + train_index]), list(labels[test_index]) + list(labels[18 + test_index]) + list(labels[36 + test_index])\n",
    "        steps = [\n",
    "            (name, model)]\n",
    "        pipeline = sklearn.pipeline.Pipeline(steps)\n",
    "        pipeline.fit(features_train, labels_train)\n",
    "        predictions = pipeline.predict_proba(features_test)[:, 0]\n",
    "        scores['m'].append(predictions[0])\n",
    "        scores['w'].append(predictions[1])\n",
    "        scores['l'].append(predictions[2])\n",
    "        who_is_mol = np.argsort(predictions, axis=0, order=None)\n",
    "        print(who_is_mol, (who_is_mol[0] == 2).sum(), predictions)\n",
    "        correct += (who_is_mol[0] == 2).sum()\n",
    "    print(correct, 'out of 18 seasons correct, is ', correct/18)"
   ]
  },
  {
   "cell_type": "code",
   "execution_count": 18,
   "metadata": {
    "collapsed": true,
    "jupyter": {
     "outputs_hidden": true,
     "source_hidden": true
    }
   },
   "outputs": [
    {
     "data": {
      "application/vnd.vegalite.v2+json": {
       "$schema": "https://vega.github.io/schema/vega-lite/v2.6.0.json",
       "config": {
        "view": {
         "height": 300,
         "width": 400
        }
       },
       "datasets": {
        "data-47d3f234d5db9bd18a89b2748efe6036": [
         {
          "percentage": 0.5076923076923077,
          "suspicion_mol": -4.509920634920634,
          "suspicion_winner": -3.1809523809523808
         },
         {
          "percentage": 0.44871794871794873,
          "suspicion_mol": 5.122222222222223,
          "suspicion_winner": -1.6599206349206346
         },
         {
          "percentage": 0.16427184466019418,
          "suspicion_mol": -2.711507936507936,
          "suspicion_winner": 2.217460317460318
         },
         {
          "percentage": 0.2587610619469027,
          "suspicion_mol": 0.3234126984126985,
          "suspicion_winner": -0.9047619047619042
         },
         {
          "percentage": 0.20489977728285078,
          "suspicion_mol": 1.3234126984126982,
          "suspicion_winner": -0.38095238095238093
         },
         {
          "percentage": 0.40212126273592785,
          "suspicion_mol": -4.436904761904762,
          "suspicion_winner": 1.3682539682539683
         },
         {
          "percentage": 0.23457627118644067,
          "suspicion_mol": 0.2956349206349206,
          "suspicion_winner": 1.6841269841269848
         },
         {
          "percentage": 0.34525120732017284,
          "suspicion_mol": -5.346031746031746,
          "suspicion_winner": 1.623412698412698
         },
         {
          "percentage": 0.4359961501443696,
          "suspicion_mol": 7.591269841269842,
          "suspicion_winner": -5.732539682539683
         },
         {
          "percentage": 0.3676716917922948,
          "suspicion_mol": 4.796825396825397,
          "suspicion_winner": -1.999206349206349
         },
         {
          "percentage": 0.3549606299212598,
          "suspicion_mol": 4.955555555555556,
          "suspicion_winner": -0.9777777777777779
         },
         {
          "percentage": 0.1962772585669782,
          "suspicion_mol": 1.5313492063492062,
          "suspicion_winner": -2.3341269841269843
         },
         {
          "percentage": 0.3068100358422939,
          "suspicion_mol": -1.3630952380952377,
          "suspicion_winner": -1.311904761904762
         },
         {
          "percentage": 0.3883720930232558,
          "suspicion_mol": 1.7753968253968253,
          "suspicion_winner": 4.705555555555556
         },
         {
          "percentage": 0.2721546875404992,
          "suspicion_mol": 5.488492063492063,
          "suspicion_winner": -0.7730158730158729
         },
         {
          "percentage": 0.24226152874289325,
          "suspicion_mol": 2.185714285714286,
          "suspicion_winner": 2.898015873015873
         },
         {
          "percentage": 0.37323511356660527,
          "suspicion_mol": -4.476984126984128,
          "suspicion_winner": 0.9853174603174604
         },
         {
          "percentage": 0.2240011750881316,
          "suspicion_mol": -1.153174603174603,
          "suspicion_winner": 3.050793650793651
         }
        ]
       },
       "repeat": {
        "column": [
         "suspicion_mol",
         "suspicion_winner",
         "percentage"
        ],
        "row": [
         "suspicion_mol",
         "suspicion_winner",
         "percentage"
        ]
       },
       "spec": {
        "data": {
         "name": "data-47d3f234d5db9bd18a89b2748efe6036"
        },
        "encoding": {
         "x": {
          "field": {
           "repeat": "column"
          },
          "type": "quantitative"
         },
         "y": {
          "field": {
           "repeat": "row"
          },
          "type": "quantitative"
         }
        },
        "height": 150,
        "mark": "circle",
        "selection": {
         "selector002": {
          "bind": "scales",
          "encodings": [
           "x",
           "y"
          ],
          "mark": {
           "fill": "#333",
           "fillOpacity": 0.125,
           "stroke": "white"
          },
          "on": "[mousedown, window:mouseup] > window:mousemove!",
          "resolve": "global",
          "translate": "[mousedown, window:mouseup] > window:mousemove!",
          "type": "interval",
          "zoom": "wheel!"
         }
        },
        "width": 150
       }
      },
      "image/png": "[encoded data removed]",
      "text/plain": [
       "<VegaLite 2 object>\n",
       "\n",
       "If you see this message, it means the renderer has not been properly enabled\n",
       "for the frontend that you are using. For more information, see\n",
       "https://altair-viz.github.io/user_guide/troubleshooting.html\n"
      ]
     },
     "execution_count": 18,
     "metadata": {},
     "output_type": "execute_result"
    }
   ],
   "source": [
    "#hide\n",
    "#no correlation between suspicion and percentage earned\n",
    "source = result[['suspicion_mol', 'suspicion_winner']].groupby(result['season']).sum()\n",
    "source['percentage'] = percentage_earnedlist\n",
    "alt.Chart(source).mark_circle().encode(\n",
    "    alt.X(alt.repeat(\"column\"), type='quantitative'),\n",
    "    alt.Y(alt.repeat(\"row\"), type='quantitative')\n",
    ").properties(\n",
    "    width=150,\n",
    "    height=150\n",
    ").repeat(\n",
    "    row=['suspicion_mol', 'suspicion_winner', 'percentage'],\n",
    "    column=['suspicion_mol', 'suspicion_winner', 'percentage']\n",
    ").interactive()"
   ]
  },
  {
   "cell_type": "code",
   "execution_count": 19,
   "metadata": {},
   "outputs": [],
   "source": [
    "#hide\n",
    "#generate smaller dataframe for practical use\n",
    "import pickle\n",
    "result.to_pickle('resultuptoseason18.pkl')                 \n"
   ]
  },
  {
   "cell_type": "code",
   "execution_count": 28,
   "metadata": {},
   "outputs": [
    {
     "data": {
      "application/vnd.vegalite.v2+json": {
       "$schema": "https://vega.github.io/schema/vega-lite/v2.6.0.json",
       "config": {
        "axis": {
         "labelFontSize": 12,
         "titleFontSize": 12
        },
        "legend": {
         "labelFontSize": 12,
         "titleFontSize": 12
        },
        "view": {
         "height": 300,
         "width": 400
        }
       },
       "data": {
        "name": "data-059e7558775da76cd7e5c547b74be29d"
       },
       "datasets": {
        "data-059e7558775da76cd7e5c547b74be29d": [
         {
          "value": 0.2644372700745531,
          "variable": "m",
          "x": 0
         },
         {
          "value": 0.46681657136226107,
          "variable": "m",
          "x": 1
         },
         {
          "value": 0.3759932874919584,
          "variable": "m",
          "x": 2
         },
         {
          "value": 0.37470943887463426,
          "variable": "m",
          "x": 3
         },
         {
          "value": 0.31248705992412984,
          "variable": "m",
          "x": 4
         },
         {
          "value": 0.20477999835083593,
          "variable": "m",
          "x": 5
         },
         {
          "value": 0.2722532233856826,
          "variable": "m",
          "x": 6
         },
         {
          "value": 0.2232715106547135,
          "variable": "m",
          "x": 7
         },
         {
          "value": 0.60557201206841,
          "variable": "m",
          "x": 8
         },
         {
          "value": 0.41831261235089223,
          "variable": "m",
          "x": 9
         },
         {
          "value": 0.5715345318766207,
          "variable": "m",
          "x": 10
         },
         {
          "value": 0.34444469659051624,
          "variable": "m",
          "x": 11
         },
         {
          "value": 0.4271622815398748,
          "variable": "m",
          "x": 12
         },
         {
          "value": 0.34583891886619544,
          "variable": "m",
          "x": 13
         },
         {
          "value": 0.4867751417760492,
          "variable": "m",
          "x": 14
         },
         {
          "value": 0.3720375576547825,
          "variable": "m",
          "x": 15
         },
         {
          "value": 0.19554873184050026,
          "variable": "m",
          "x": 16
         },
         {
          "value": 0.2802990254243305,
          "variable": "m",
          "x": 17
         },
         {
          "value": 0.2644372700745531,
          "variable": "w",
          "x": 0
         },
         {
          "value": 0.33867605002903034,
          "variable": "w",
          "x": 1
         },
         {
          "value": 0.3362097306655505,
          "variable": "w",
          "x": 2
         },
         {
          "value": 0.34813848200981967,
          "variable": "w",
          "x": 3
         },
         {
          "value": 0.519187102189155,
          "variable": "w",
          "x": 4
         },
         {
          "value": 0.4858600689619096,
          "variable": "w",
          "x": 5
         },
         {
          "value": 0.4148799178518635,
          "variable": "w",
          "x": 6
         },
         {
          "value": 0.27244697281593055,
          "variable": "w",
          "x": 7
         },
         {
          "value": 0.2303869882870797,
          "variable": "w",
          "x": 8
         },
         {
          "value": 0.2511717981573359,
          "variable": "w",
          "x": 9
         },
         {
          "value": 0.4077374860600459,
          "variable": "w",
          "x": 10
         },
         {
          "value": 0.2535956703555934,
          "variable": "w",
          "x": 11
         },
         {
          "value": 0.3629430823037175,
          "variable": "w",
          "x": 12
         },
         {
          "value": 0.7782614356153599,
          "variable": "w",
          "x": 13
         },
         {
          "value": 0.39763196461170314,
          "variable": "w",
          "x": 14
         },
         {
          "value": 0.4640720557911816,
          "variable": "w",
          "x": 15
         },
         {
          "value": 0.4930744563731312,
          "variable": "w",
          "x": 16
         },
         {
          "value": 0.7256617329038486,
          "variable": "w",
          "x": 17
         },
         {
          "value": 0.35079172034928074,
          "variable": "l",
          "x": 0
         },
         {
          "value": 0.18973388848645323,
          "variable": "l",
          "x": 1
         },
         {
          "value": 0.31763231693232863,
          "variable": "l",
          "x": 2
         },
         {
          "value": 0.30592959618537563,
          "variable": "l",
          "x": 3
         },
         {
          "value": 0.26013773441728805,
          "variable": "l",
          "x": 4
         },
         {
          "value": 0.3246543648577044,
          "variable": "l",
          "x": 5
         },
         {
          "value": 0.20952963688823067,
          "variable": "l",
          "x": 6
         },
         {
          "value": 0.1774998326148005,
          "variable": "l",
          "x": 7
         },
         {
          "value": 0.2839192062984909,
          "variable": "l",
          "x": 8
         },
         {
          "value": 0.26410508804581456,
          "variable": "l",
          "x": 9
         },
         {
          "value": 0.1867892351506728,
          "variable": "l",
          "x": 10
         },
         {
          "value": 0.28953279901833173,
          "variable": "l",
          "x": 11
         },
         {
          "value": 0.21031043282291295,
          "variable": "l",
          "x": 12
         },
         {
          "value": 0.1706938247720432,
          "variable": "l",
          "x": 13
         },
         {
          "value": 0.2299085273835233,
          "variable": "l",
          "x": 14
         },
         {
          "value": 0.33300083035845907,
          "variable": "l",
          "x": 15
         },
         {
          "value": 0.44589400152085346,
          "variable": "l",
          "x": 16
         },
         {
          "value": 0.1332565456011987,
          "variable": "l",
          "x": 17
         }
        ]
       },
       "encoding": {
        "color": {
         "field": "variable",
         "type": "nominal"
        },
        "x": {
         "axis": {
          "domain": true
         },
         "field": "x",
         "scale": {
          "domain": [
           1,
           18
          ]
         },
         "title": "Seizoen",
         "type": "quantitative"
        },
        "y": {
         "field": "value",
         "title": "Stemmen meer dan verwacht",
         "type": "quantitative"
        }
       },
       "height": 180,
       "mark": "line",
       "width": 500
      },
      "image/png": "[encoded data removed]",
      "text/plain": [
       "<VegaLite 2 object>\n",
       "\n",
       "If you see this message, it means the renderer has not been properly enabled\n",
       "for the frontend that you are using. For more information, see\n",
       "https://altair-viz.github.io/user_guide/troubleshooting.html\n"
      ]
     },
     "metadata": {},
     "output_type": "display_data"
    }
   ],
   "source": [
    "#hide\n",
    "show_progress(scores, [1, 18], 'Seizoen', 'Stemmen meer dan verwacht')"
   ]
  },
  {
   "cell_type": "code",
   "execution_count": null,
   "metadata": {},
   "outputs": [],
   "source": [
    "#hide\n",
    "fitting model Logistic    \n",
    "[0 1 2] 0 [0.26443727 0.26443727 0.35079172]\n",
    "[2 1 0] 1 [0.46681657 0.33867605 0.18973389]\n",
    "[2 1 0] 1 [0.37599329 0.33620973 0.31763232]\n",
    "[2 1 0] 1 [0.37470944 0.34813848 0.3059296 ]\n",
    "[2 0 1] 1 [0.31248706 0.5191871  0.26013773]\n",
    "[0 2 1] 0 [0.20478    0.48586007 0.32465436]\n",
    "[2 0 1] 1 [0.27225322 0.41487992 0.20952964]\n",
    "[2 0 1] 1 [0.22327151 0.27244697 0.17749983]\n",
    "[1 2 0] 0 [0.60557201 0.23038699 0.28391921]\n",
    "[1 2 0] 0 [0.41831261 0.2511718  0.26410509]\n",
    "[2 1 0] 1 [0.57153453 0.40773749 0.18678924]\n",
    "[1 2 0] 0 [0.3444447  0.25359567 0.2895328 ]\n",
    "[2 1 0] 1 [0.42716228 0.36294308 0.21031043]\n",
    "[2 0 1] 1 [0.34583892 0.77826144 0.17069382]\n",
    "[2 1 0] 1 [0.48677514 0.39763196 0.22990853]\n",
    "[2 0 1] 1 [0.37203756 0.46407206 0.33300083]\n",
    "[0 2 1] 0 [0.19554873 0.49307446 0.445894  ]\n",
    "[2 0 1] 1 [0.28029903 0.72566173 0.13325655]\n",
    "12 out of 18 seasons correct, is  0.6666666666666666"
   ]
  }
 ],
 "metadata": {
  "kernelspec": {
   "display_name": "Python 3",
   "language": "python",
   "name": "python3"
  },
  "language_info": {
   "codemirror_mode": {
    "name": "ipython",
    "version": 3
   },
   "file_extension": ".py",
   "mimetype": "text/x-python",
   "name": "python",
   "nbconvert_exporter": "python",
   "pygments_lexer": "ipython3",
   "version": "3.7.1"
  }
 },
 "nbformat": 4,
 "nbformat_minor": 2
}