{
  "nbformat": 4,
  "nbformat_minor": 0,
  "metadata": {
    "language_info": {
      "codemirror_mode": {
        "name": "ipython",
        "version": 3
      },
      "file_extension": ".py",
      "mimetype": "text/x-python",
      "name": "python",
      "nbconvert_exporter": "python",
      "pygments_lexer": "ipython3",
      "version": "3.7.3-final"
    },
    "orig_nbformat": 2,
    "kernelspec": {
      "name": "python37364bitprogramdatavirtualenv99403c2e8abd4ba0909557516bfee9d9",
      "display_name": "Python 3.7.3 64-bit ('ProgramData': virtualenv)"
    },
    "colab": {
      "name": "2020-09-12-redblacktree.ipynb",
      "provenance": [],
      "collapsed_sections": []
    }
  },
  "cells": [
    {
      "cell_type": "markdown",
      "metadata": {
        "id": "yA_geNUyQidh",
        "colab_type": "text"
      },
      "source": [
        "# Exploring 13M board game reviews\n",
        "> Making a recommender system for boardgames\n",
        "\n",
        "- toc: false\n",
        "- branch: master\n",
        "- badges: true\n",
        "- comments: true\n",
        "- author: Jesse van Elteren\n",
        "- image: images/boardgames.jpg\n",
        "- categories: []"
      ]
    },
    {
      "source": [
        "I like playing games, whether it’s on a computer on as a board game. That’s why the site boardgamegeek.com is a great resource for inspiration about great games. It has extensive information about games and what people think of them, for example with how many players it’s best to play and from what age children are ready for it. They also provide an API to interact with the site. I used this to download all the scores that users have given to games.\n",
        "\n",
        " \n",
        "\n",
        "Using these scores it’s possible to let the computer identify certain latent factors behind games and users. This technique is called collaborative filtering, and it’s the same as Netflix uses to recommend what to watch next. Or amazon.com to advise on your next purchase. \n",
        "\n",
        "\n",
        "In the end what I did was:\n",
        "* Make it into a [Kaggle dataset](https://www.kaggle.com/jvanelteren/boardgamegeek-reviews)\n",
        "* Did some [exploratory data analysis](https://www.kaggle.com/jvanelteren/exploring-the-13m-reviews-bgg-dataset)\n",
        "* Got [collaborative filtering](https://www.kaggle.com/jvanelteren/collaborative-filtering-defining-similar-games) working\n",
        "* Made it into [a webapp, currently offline](https://bgg.onrender.com/) where people can search for a game and the app will display the games the user probably likes\n",
        "\n",
        "\n",
        "\n"
      ],
      "cell_type": "markdown",
      "metadata": {}
    },
    {
      "cell_type": "code",
      "execution_count": null,
      "metadata": {},
      "outputs": [],
      "source": []
    }
  ]
}