{
 "cells": [
  {
   "cell_type": "markdown",
   "metadata": {},
   "source": [
    "# Playing around with GLIDE image model\n",
    "> OpenAI tackles text to image\n",
    "\n",
    "- toc: false\n",
    "- branch: master\n",
    "- badges: true\n",
    "- comments: true\n",
    "- author: Jesse van Elteren\n",
    "- image: images/glideimg.png\n",
    "- categories: []"
   ]
  },
  {
   "cell_type": "markdown",
   "metadata": {},
   "source": [
    "You probably know that a computer can describe an image. For example an image of a dog playing with your kids may be translated into 'dog and children in garden'.\n",
    "\n",
    "But did you know the other way around is now also possible? You come up with a text and the computer renders a **new** image. Completely new, not like a Google search which searches existing images. \n",
    "\n",
    "OpenAI has been one of the premier organisations publishing spectacular results in the past years. They train their models on huge datasets of texts and images. They released [a paper](https://arxiv.org/pdf/2112.10741.pdf) on their GLIDE image model, trained on several hundred million images. It outperforms their previous 'DALL-E' model in terms of photorealism.\n",
    "\n",
    "They also open-sourced [a slimmed down version of their model](https://github.com/openai/glide-text2im). I played around with it by coming up with text prompts and let the model generate 10 images for each promt. \n",
    "\n",
    "Below the results. Zoom in on pc with ctrl+mousewheel or on mobile with your fingers. I repeat the text above the images keep it readable while zoomed in."
   ]
  },
  {
   "cell_type": "code",
   "execution_count": 60,
   "metadata": {},
   "outputs": [],
   "source": [
    "# hide\n",
    "from pathlib import Path\n",
    "import imageio as iio\n",
    "from PIL import Image, ImageDraw, ImageFont\n",
    "import numpy as np\n",
    "from functools import reduce\n",
    "\n",
    "\n",
    "def longer(name):\n",
    "    # repeats name with postfix\n",
    "    total = 350\n",
    "    postfix = '                                    '\n",
    "    l = len(name) + len(postfix)\n",
    "    return postfix.join([name for _ in range(total//l)])\n",
    "    \n",
    "p = Path('summary')\n",
    "filenames = [file.name for file in p.iterdir()]\n",
    "filenames = [longer(filenames[i].replace('_1.png', '')) for i in range(0,len(filenames),10)]\n",
    "\n",
    "images = list()\n",
    "for file in p.iterdir():\n",
    "    im = iio.imread(file)\n",
    "    images.append(im)"
   ]
  },
  {
   "cell_type": "code",
   "execution_count": 63,
   "metadata": {},
   "outputs": [],
   "source": [
    "# hide\n",
    "font = ImageFont.truetype(r'C:\\Windows\\Fonts\\arial.ttf', 20) \n",
    "allimgs = []\n",
    "for i in range(0,len(images),10):\n",
    "    # concat every 10 images\n",
    "    imgs = np.hstack(images[i:i+10])\n",
    "    # add a white box above\n",
    "    white = np.full((30,2560,3), 255).astype('uint8')\n",
    "    # convert to image\n",
    "    text_and_imgs = Image.fromarray(np.concatenate([white, imgs]), 'RGB')\n",
    "    # add text\n",
    "    draw = ImageDraw.Draw(text_and_imgs)\n",
    "    draw.text((3, 5),filenames[i//10], fill='blue', font=font)\n",
    "    allimgs.append(text_and_imgs)\n",
    "    "
   ]
  },
  {
   "cell_type": "code",
   "execution_count": 65,
   "metadata": {},
   "outputs": [],
   "source": [
    "# hide_input\n",
    "# concat all the text_img files\n",
    "def get_concat_v(im1, im2):\n",
    "    dst = Image.new('RGB', (im1.width, im1.height + im2.height))\n",
    "    dst.paste(im1, (0, 0))\n",
    "    dst.paste(im2, (0, im1.height))\n",
    "    return dst\n",
    "full_img = reduce(get_concat_v, allimgs)\n",
    "full_img.save('glide/summary.png')"
   ]
  },
  {
   "cell_type": "markdown",
   "metadata": {},
   "source": [
    "![](glide/summary.png)"
   ]
  },
  {
   "cell_type": "markdown",
   "metadata": {},
   "source": [
    "What do you think? Some things I noticed:\n",
    "* The more complex prompts sometimes are only partially fulfilled. For example: a monkey looking at itself in the mirror often does not render the mirror.\n",
    "* The representation sometimes is off, for example the secondright rubber ducky.\n",
    "* The model can be quite wide in it's approach. When you think of a 'map of a city', you probably have 1 type of map in your head. The model generates all sorts of types of maps, all believable\n",
    "\n",
    "I also had a culinary adventure: Tried out 'spagetthi on a plate' but got results that didn't look like somethink I'd like to consume... Turned out I misspelled it (should be spaghetti) and the corrected text looked much better. To finish it off, I tried to make it \"delicious\" and worked out pretty nicely, often the spaghetti get's some vegetables on top. So next time you order spaghetti in a restaurant, make sure to spell it right!"
   ]
  },
  {
   "cell_type": "markdown",
   "metadata": {},
   "source": [
    "![](glide/spag.png)"
   ]
  },
  {
   "cell_type": "markdown",
   "metadata": {},
   "source": [
    "The full GLIDE model is larger and also is trained on images of people. See these impressive examples from the paper:"
   ]
  },
  {
   "cell_type": "markdown",
   "metadata": {},
   "source": [
    "![](glide/paper.png)"
   ]
  },
  {
   "cell_type": "markdown",
   "metadata": {},
   "source": [
    "This clearly is a disruption to the stock photo business and does have a wide variety of use cases.\n",
    "\n",
    "At this point AI can generate believeable news articles including images that are completely false. Still though, many experts feel that we are currently a long way from Artifical General Intelligence and the current deep learning architectures may not get us to AGI. \n",
    "\n",
    "To me, that doesn't make these 'narrow' intelligence less impressive. Hope you enjoyed it!"
   ]
  },
  {
   "cell_type": "markdown",
   "metadata": {},
   "source": [
    "> Tip: There are even more examples in [the paper](https://arxiv.org/pdf/2112.10741), check it out! And in case you can't get enough, I've got [even more examples](https://github.com/jvanelteren/blog/blob/master/_notebooks/glide/full.png)"
   ]
  }
 ],
 "metadata": {
  "interpreter": {
   "hash": "b89b5cfaba6639976dc87ff2fec6d58faec662063367e2c229c520fe71072417"
  },
  "kernelspec": {
   "display_name": "Python 3.10.0 64-bit",
   "language": "python",
   "name": "python3"
  },
  "language_info": {
   "codemirror_mode": {
    "name": "ipython",
    "version": 3
   },
   "file_extension": ".py",
   "mimetype": "text/x-python",
   "name": "python",
   "nbconvert_exporter": "python",
   "pygments_lexer": "ipython3",
   "version": "3.10.0"
  },
  "orig_nbformat": 4
 },
 "nbformat": 4,
 "nbformat_minor": 2
}
