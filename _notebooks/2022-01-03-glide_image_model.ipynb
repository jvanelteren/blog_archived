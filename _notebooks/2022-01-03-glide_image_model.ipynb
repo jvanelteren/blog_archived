{
 "cells": [
  {
   "cell_type": "markdown",
   "metadata": {},
   "source": [
    "# Playing around with Glide image model\n",
    "> The next hurdle tackled?\n",
    "\n",
    "- toc: false\n",
    "- branch: master\n",
    "- badges: true\n",
    "- comments: true\n",
    "- author: Jesse van Elteren\n",
    "- image: images/glide.png\n",
    "- categories: []"
   ]
  },
  {
   "cell_type": "markdown",
   "metadata": {},
   "source": [
    "[THIS POST IS WORK IN PROGRESS]\n",
    "Deep learning has seen spectacular development the past years. OpenAI has been one of the premier organisations publishing spectacular results. Last year their [GPT-3](https://en.wikipedia.org/wiki/GPT-3) was trained on a whopping 500 billion tokens. Then you have a language model which is able to generate all sorts of believable texts.\n",
    "\n",
    "Now they also released an image model which translates text promts into images. And not like a google search engine that searches existing images, but actually generating new images.\n",
    "The model is called glide and while they keep the full model for themselves to monatize, they did release a slimmed down version.\n",
    "\n",
    "I played around with it a bit and let it generate 10 images for each text promt. Below you see the result.\n"
   ]
  },
  {
   "cell_type": "code",
   "execution_count": 172,
   "metadata": {},
   "outputs": [],
   "source": [
    "# hide\n",
    "from pathlib import Path\n",
    "import imageio as iio\n",
    "from PIL import Image, ImageDraw, ImageFont\n",
    "import numpy as np\n",
    "from functools import reduce\n",
    "\n",
    "p = Path('images')\n",
    "filenames = [file.name for file in p.iterdir()]\n",
    "filenames = [filenames[i].replace('_1.png', '') for i in range(0,len(filenames),10)]\n",
    "\n",
    "images = list()\n",
    "for file in Path(\"images\").iterdir():\n",
    "    im = iio.imread(file)\n",
    "    images.append(im)"
   ]
  },
  {
   "cell_type": "code",
   "execution_count": 173,
   "metadata": {},
   "outputs": [],
   "source": [
    "# hide\n",
    "font = ImageFont.truetype(r'C:\\Windows\\Fonts\\arial.ttf', 20) \n",
    "allimgs = []\n",
    "for i in range(0,len(images),10):\n",
    "    # concat every 10 images\n",
    "    imgs = np.hstack(images[i:i+10])\n",
    "    # add a white box above\n",
    "    white = np.full((30,2560,3), 255).astype('uint8')\n",
    "    # convert to image\n",
    "    text_and_imgs = Image.fromarray(np.concatenate([white, imgs]), 'RGB')\n",
    "    # add text\n",
    "    draw = ImageDraw.Draw(text_and_imgs)\n",
    "    draw.text((3, 5),filenames[i//10], fill='blue', font=font)\n",
    "    allimgs.append(text_and_imgs)\n",
    "    "
   ]
  },
  {
   "cell_type": "code",
   "execution_count": 1,
   "metadata": {},
   "outputs": [
    {
     "ename": "NameError",
     "evalue": "name 'reduce' is not defined",
     "output_type": "error",
     "traceback": [
      "\u001b[1;31m---------------------------------------------------------------------------\u001b[0m",
      "\u001b[1;31mNameError\u001b[0m                                 Traceback (most recent call last)",
      "\u001b[1;32mC:\\Users\\GEBRUI~1\\AppData\\Local\\Temp/ipykernel_22156/3031503540.py\u001b[0m in \u001b[0;36m<module>\u001b[1;34m\u001b[0m\n\u001b[0;32m      6\u001b[0m     \u001b[0mdst\u001b[0m\u001b[1;33m.\u001b[0m\u001b[0mpaste\u001b[0m\u001b[1;33m(\u001b[0m\u001b[0mim2\u001b[0m\u001b[1;33m,\u001b[0m \u001b[1;33m(\u001b[0m\u001b[1;36m0\u001b[0m\u001b[1;33m,\u001b[0m \u001b[0mim1\u001b[0m\u001b[1;33m.\u001b[0m\u001b[0mheight\u001b[0m\u001b[1;33m)\u001b[0m\u001b[1;33m)\u001b[0m\u001b[1;33m\u001b[0m\u001b[1;33m\u001b[0m\u001b[0m\n\u001b[0;32m      7\u001b[0m     \u001b[1;32mreturn\u001b[0m \u001b[0mdst\u001b[0m\u001b[1;33m\u001b[0m\u001b[1;33m\u001b[0m\u001b[0m\n\u001b[1;32m----> 8\u001b[1;33m \u001b[0mfull_img\u001b[0m \u001b[1;33m=\u001b[0m \u001b[0mreduce\u001b[0m\u001b[1;33m(\u001b[0m\u001b[0mget_concat_v\u001b[0m\u001b[1;33m,\u001b[0m \u001b[0mallimgs\u001b[0m\u001b[1;33m)\u001b[0m\u001b[1;33m\u001b[0m\u001b[1;33m\u001b[0m\u001b[0m\n\u001b[0m\u001b[0;32m      9\u001b[0m \u001b[0mfull_img\u001b[0m\u001b[1;33m.\u001b[0m\u001b[0msave\u001b[0m\u001b[1;33m(\u001b[0m\u001b[1;34m'full.png'\u001b[0m\u001b[1;33m)\u001b[0m\u001b[1;33m\u001b[0m\u001b[1;33m\u001b[0m\u001b[0m\n",
      "\u001b[1;31mNameError\u001b[0m: name 'reduce' is not defined"
     ]
    }
   ],
   "source": [
    "# hide_input\n",
    "# concat all the text_img files\n",
    "def get_concat_v(im1, im2):\n",
    "    dst = Image.new('RGB', (im1.width, im1.height + im2.height))\n",
    "    dst.paste(im1, (0, 0))\n",
    "    dst.paste(im2, (0, im1.height))\n",
    "    return dst\n",
    "full_img = reduce(get_concat_v, allimgs)\n",
    "full_img.save('full.png')"
   ]
  },
  {
   "cell_type": "markdown",
   "metadata": {},
   "source": [
    "![](glide/full.png)"
   ]
  },
  {
   "cell_type": "markdown",
   "metadata": {},
   "source": [
    "You can clearly see the slimmed down model is not photorealistic. The spaghetti doesn't look very tasty :)\n",
    "I do find the 'creativity' striking."
   ]
  },
  {
   "cell_type": "markdown",
   "metadata": {},
   "source": []
  }
 ],
 "metadata": {
  "interpreter": {
   "hash": "b89b5cfaba6639976dc87ff2fec6d58faec662063367e2c229c520fe71072417"
  },
  "kernelspec": {
   "display_name": "Python 3.10.0 64-bit",
   "language": "python",
   "name": "python3"
  },
  "language_info": {
   "codemirror_mode": {
    "name": "ipython",
    "version": 3
   },
   "file_extension": ".py",
   "mimetype": "text/x-python",
   "name": "python",
   "nbconvert_exporter": "python",
   "pygments_lexer": "ipython3",
   "version": "3.10.0"
  },
  "orig_nbformat": 4
 },
 "nbformat": 4,
 "nbformat_minor": 2
}
