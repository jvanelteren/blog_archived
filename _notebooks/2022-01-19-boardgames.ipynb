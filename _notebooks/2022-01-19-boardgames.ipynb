{
  "cells": [
    {
      "cell_type": "markdown",
      "metadata": {},
      "source": [
        "# Diving into BoardGameGeek\n",
        "> Key insights on board game ratings\n",
        "\n",
        "- toc: false\n",
        "- branch: master\n",
        "- badges: true\n",
        "- comments: true\n",
        "- author: Jesse van Elteren\n",
        "- image: images/bgg.png\n",
        "- categories: []"
      ]
    },
    {
      "cell_type": "markdown",
      "metadata": {},
      "source": [
        "![](bgg/bgg.png)"
      ]
    },
    {
      "cell_type": "markdown",
      "metadata": {},
      "source": [
        "Do you like board games? If you do, you may wonder what other great games are out there. I admit that it's a bit of a guilty pleasure of mine. Many people turn to [BoardGameGeek (BGG)](https://boardgamegeek.com/). This is a great site with many users reviewing games. I used the BGG API to gather information about:\n",
        "* 410K users reviewing 19M games. E.g. Alice gives Catan an 8\n",
        "* Information on 22K games, such as game type, complexity, minimum age, game duration etc\n",
        "\n",
        "Now what is the **best** game? And can we predict the rating a game will receive?\n",
        "TLDR: There are many ways to sort the games. There are certain factors that influence the ratings:\n",
        "* **Newer** games receive higher ratings\n",
        "* **More complex** games receive higher ratings\n",
        "* **Less active** users give higher ratings\n",
        "\n",
        "All in all, it's possible to explains ~50% of the variation in ratings.\n",
        "\n",
        "Let's dive in!"
      ]
    },
    {
      "cell_type": "markdown",
      "metadata": {},
      "source": [
        "### The users and ratings"
      ]
    },
    {
      "cell_type": "code",
      "execution_count": 142,
      "metadata": {
        "colab": {},
        "colab_type": "code",
        "id": "_NDWSAWprShN"
      },
      "outputs": [],
      "source": [
        "# hide\n",
        "import pandas as pd\n",
        "import numpy as np\n",
        "import matplotlib.pyplot as plt\n",
        "import matplotlib.ticker as tick\n",
        "from sklearn import linear_model\n",
        "import warnings\n",
        "from pandas.errors import DtypeWarning\n",
        "from sklearn.model_selection import train_test_split\n",
        "import lightgbm as lgb\n",
        "import shap\n",
        "from functools import reduce\n",
        "import operator\n",
        "\n",
        "from utils.database import DB\n",
        "from aocutils.datascience import nan_inspect, save, load\n",
        "\n",
        "from IPython.display import display_html \n",
        "\n",
        "warnings.simplefilter(action='ignore', category=DtypeWarning)\n",
        "pd.options.display.max_rows = 200\n",
        "pd.options.display.float_format = \"{:,.2f}\".format\n"
      ]
    },
    {
      "cell_type": "code",
      "execution_count": 143,
      "metadata": {},
      "outputs": [],
      "source": [
        "# hide\n",
        "def display_dfs_horiz(dfs, titles):\n",
        "    htmls = []\n",
        "    for i in range(len(dfs)):\n",
        "        styler = dfs[i].style.set_table_attributes(\"style='display:inline'\").set_caption(titles[i])\n",
        "        htmls.append(styler._repr_html_())\n",
        "    display_html(reduce(operator.add, htmls), raw=True)\n",
        "\n",
        "def reset_index(df, start=1):\n",
        "    df.set_index(pd.RangeIndex(start=start, stop=len(df)+1, step=1), inplace=True)\n",
        "    return df\n",
        "\n",
        "def types(data, y_col):\n",
        "    # split columns into sorted numerical and categorical based on correlation with y_col\n",
        "    corr = data.corr()[y_col]\n",
        "    corr = corr.sort_values(ascending=False)\n",
        "    num_x = list(corr.index)[1:]\n",
        "    cat_x = [col for col in data.columns if data[col].dtype == 'object']\n",
        "    cat_x.sort(key = lambda x: -correlation_ratio(data[x],data[y_col]))\n",
        "    return num_x, cat_x\n",
        "\n",
        "def split(data, y_col):\n",
        "    # splits dataset into x and y dataset\n",
        "    data_x = data.drop([y_col], axis=1)\n",
        "    data_y = data.loc[:,y_col]\n",
        "    return data_x, data_y\n",
        "\n",
        "# metric for correlation of categorial features with target. Used for sorting features in displaying\n",
        "def correlation_ratio(categories, measurements):\n",
        "    fcat, _ = pd.factorize(categories)\n",
        "    cat_num = np.max(fcat)+1\n",
        "    y_avg_array = np.zeros(cat_num)\n",
        "    n_array = np.zeros(cat_num)\n",
        "    for i in range(0,cat_num):\n",
        "        cat_measures = measurements[np.argwhere(fcat == i).flatten()]\n",
        "        n_array[i] = len(cat_measures)\n",
        "        y_avg_array[i] = np.average(cat_measures)\n",
        "    y_total_avg = np.sum(np.multiply(y_avg_array,n_array))/np.sum(n_array)\n",
        "    numerator = np.sum(np.multiply(n_array,np.power(np.subtract(y_avg_array,y_total_avg),2)))\n",
        "    denominator = np.sum(np.power(np.subtract(measurements,y_total_avg),2))\n",
        "    if numerator == 0:\n",
        "        eta = 0.0\n",
        "    else:\n",
        "        eta = np.sqrt(numerator/denominator)\n",
        "    return eta\n",
        "\n",
        "def regr(x, y, s=0.01):\n",
        "    # make a regression. s is the point size\n",
        "    regr = linear_model.LinearRegression()\n",
        "    x = x.values.reshape(-1, 1)\n",
        "    regr.fit(x, y)\n",
        "    print(f'r2: {regr.score(x, y):.2f}')\n",
        "    # plot it as in the example at http://scikit-learn.org/\n",
        "    plt.scatter(x, y,  color='black',s=s)\n",
        "    plt.plot(x, regr.predict(x), color='blue', linewidth=3)\n",
        "    return plt\n",
        "\n",
        "def reformat_large_tick_values(tick_val, pos):\n",
        "    \"\"\"\n",
        "    Turns large tick values (in the billions, millions and thousands) such as 4500 into 4.5K and also appropriately turns 4000 into 4K (no zero after the decimal).\n",
        "    \"\"\"\n",
        "    if tick_val >= 1000000000:\n",
        "        val = round(tick_val/1000000000, 1)\n",
        "        new_tick_format = '{:}B'.format(val)\n",
        "    elif tick_val >= 1000000:\n",
        "        val = round(tick_val/1000000, 1)\n",
        "        new_tick_format = '{:}M'.format(val)\n",
        "    elif tick_val >= 1000:\n",
        "        val = round(tick_val/1000, 1)\n",
        "        new_tick_format = '{:}K'.format(val)\n",
        "    elif tick_val < 1000:\n",
        "        new_tick_format = round(tick_val, 1)\n",
        "    else:\n",
        "        new_tick_format = tick_val\n",
        "\n",
        "    # make new_tick_format into a string value\n",
        "    new_tick_format = str(new_tick_format)\n",
        "    \n",
        "    # code below will keep 4.5M as is but change values such as 4.0M to 4M since that zero after the decimal isn't needed\n",
        "    index_of_decimal = new_tick_format.find(\".\")\n",
        "    \n",
        "    if index_of_decimal != -1:\n",
        "        value_after_decimal = new_tick_format[index_of_decimal+1]\n",
        "        if value_after_decimal == \"0\":\n",
        "            # remove the 0 after the decimal point since it's not needed\n",
        "            new_tick_format = new_tick_format[0:index_of_decimal] + new_tick_format[index_of_decimal+2:]\n",
        "            \n",
        "    return new_tick_format"
      ]
    },
    {
      "cell_type": "code",
      "execution_count": 144,
      "metadata": {},
      "outputs": [
        {
          "name": "stdout",
          "output_type": "stream",
          "text": [
            "[('games', 21839), ('reviews', 18964807)]\n"
          ]
        }
      ],
      "source": [
        "# hide\n",
        "db = DB('bgg2022.db')\n",
        "df = pd.read_csv('games_detailed_info.csv')\n",
        "y = 'average'"
      ]
    },
    {
      "cell_type": "code",
      "execution_count": 177,
      "metadata": {},
      "outputs": [
        {
          "data": {
            "image/png": "[encoded data removed]",
            "text/plain": [
              "<Figure size 792x216 with 2 Axes>"
            ]
          },
          "metadata": {
            "needs_background": "light"
          },
          "output_type": "display_data"
        }
      ],
      "source": [
        "# hide_input\n",
        "# fig, (ax1, ax2, ax3) = plt.subplots(1,2, figsize=(11,3))\n",
        "fig, (ax1, ax2) = plt.subplots(1,2, figsize=(11,3))\n",
        "ax1.hist(db.df(\"SELECT rating FROM reviews\").astype(float), bins=100, color='orange')\n",
        "ax1.title.set_text('Most reviews end up with a 7')\n",
        "ax1.set_xlabel('Ratings given by users')\n",
        "ax1.set_ylabel('Amount of reviews')\n",
        "ax1.yaxis.set_major_formatter(tick.FuncFormatter(reformat_large_tick_values))\n",
        "ax2.hist(df[y], bins=100)\n",
        "ax2.title.set_text('The average game receives a 6.4')\n",
        "ax2.set_xlabel('Average rating of games')\n",
        "ax2.set_ylabel('Amount of games');\n",
        "# ax3.hist(df['bayesaverage'], bins=100);\n",
        "# ax3.set_xlabel('Average GeekScore of games')"
      ]
    },
    {
      "cell_type": "markdown",
      "metadata": {},
      "source": [
        "Users give ratings that are often rounded: they give a 7 instead of a 7.23, that's why you see the spikes on the leftmost chart. Around 4 million reviews end up with a 7. \n",
        "\n",
        "Looking at the games, we see a nice normal distribution. For the purists: no I've got no intention of testing for normality here😊)"
      ]
    },
    {
      "cell_type": "code",
      "execution_count": 176,
      "metadata": {},
      "outputs": [
        {
          "data": {
            "image/png": "[encoded data removed]",
            "text/plain": [
              "<Figure size 792x216 with 2 Axes>"
            ]
          },
          "metadata": {
            "needs_background": "light"
          },
          "output_type": "display_data"
        }
      ],
      "source": [
        "# hide_input\n",
        "fig, (ax1, ax2) = plt.subplots(1,2, figsize=(11,3))\n",
        "users = db.df(\"SELECT user, COUNT(*) as count, AVG(rating) as average FROM reviews GROUP BY user\")\n",
        "ax1.hist(users['count'].clip(0,201), bins=100, color='orange')\n",
        "ax1.title.set_text('Aroun 5% of users reviews > 200 games')\n",
        "ax1.set_xlabel('Amount of ratings given by user (clipped at 200)')\n",
        "ax1.set_ylabel('Amount of reviews')\n",
        "ax1.yaxis.set_major_formatter(tick.FuncFormatter(reformat_large_tick_values))\n",
        "\n",
        "\n",
        "sql = \"\"\"\n",
        "    SELECT g.name, g.ID, COUNT(*) as count, AVG(r.rating) as average \n",
        "    FROM reviews r\n",
        "    JOIN games g\n",
        "    ON g.ID = r.ID\n",
        "    GROUP BY r.ID\n",
        "\"\"\"\n",
        "games = db.df(sql)\n",
        "ax2.hist(games['count'].clip(0,2001), bins=100)\n",
        "ax2.title.set_text('7% of games receive > 2000 reviews')\n",
        "ax2.set_xlabel('Amount of ratings received by game (clipped at 2000)')\n",
        "ax2.set_ylabel('Amount of games');"
      ]
    },
    {
      "cell_type": "code",
      "execution_count": 147,
      "metadata": {},
      "outputs": [
        {
          "data": {
            "text/plain": [
              "(0.19440137979148095,\n",
              " 0.004231627561514336,\n",
              " 0.04901215069183365,\n",
              " 0.4274852889354476)"
            ]
          },
          "execution_count": 147,
          "metadata": {},
          "output_type": "execute_result"
        }
      ],
      "source": [
        "# hide\n",
        "(len(users.loc[users['count']==1]) / len(users),\n",
        "sum(users.loc[users['count']==1]['count']) / sum(users['count']),\n",
        "len(users.loc[users['count']>=201]) / len(users),\n",
        "sum(users.loc[users['count']>=201]['count']) / sum(users['count']))\n",
        "# len(games.loc[games['count']<100]) / len(users)"
      ]
    },
    {
      "cell_type": "code",
      "execution_count": 148,
      "metadata": {},
      "outputs": [
        {
          "data": {
            "text/plain": [
              "(0.44443426896835936,\n",
              " 0.02854898549718961,\n",
              " 0.07628554420989972,\n",
              " 0.7255024530436824)"
            ]
          },
          "execution_count": 148,
          "metadata": {},
          "output_type": "execute_result"
        }
      ],
      "source": [
        "# hide\n",
        "(len(games.loc[games['count']<100]) / len(games),\n",
        "sum(games.loc[games['count']<100]['count']) / sum(games['count']),\n",
        "len(games.loc[games['count']>=2001]) / len(games),\n",
        "sum(games.loc[games['count']>=2001]['count']) / sum(games['count']))"
      ]
    },
    {
      "cell_type": "markdown",
      "metadata": {},
      "source": [
        "For the pareto fans amount you:\n",
        "* 19% of **users** only leave 1 review. However, these reviews only account for 0.5% of all reviews\n",
        "* 5% of users (20k) leave more than 200 reviews. Together they account for 27% of reviews\n",
        "* 44% of **games** reveive less than 100 reviews. However, these reviews only account of 6% of all reviews.\n",
        "* 7% of games have 2000 or more reviews, However they make up 39% of all reviews"
      ]
    },
    {
      "cell_type": "code",
      "execution_count": 149,
      "metadata": {},
      "outputs": [
        {
          "data": {
            "text/html": [
              "<style type=\"text/css\">\n",
              "</style>\n",
              "<table id=\"T_5332f_\" style='display:inline'>\n",
              "  <caption>Most active users</caption>\n",
              "  <thead>\n",
              "    <tr>\n",
              "      <th class=\"blank level0\" >&nbsp;</th>\n",
              "      <th class=\"col_heading level0 col0\" >user</th>\n",
              "      <th class=\"col_heading level0 col1\" >count</th>\n",
              "      <th class=\"col_heading level0 col2\" >average</th>\n",
              "    </tr>\n",
              "  </thead>\n",
              "  <tbody>\n",
              "    <tr>\n",
              "      <th id=\"T_5332f_level0_row0\" class=\"row_heading level0 row0\" >1</th>\n",
              "      <td id=\"T_5332f_row0_col0\" class=\"data row0 col0\" >oldgoat3769967</td>\n",
              "      <td id=\"T_5332f_row0_col1\" class=\"data row0 col1\" >6471</td>\n",
              "      <td id=\"T_5332f_row0_col2\" class=\"data row0 col2\" >6.185752</td>\n",
              "    </tr>\n",
              "    <tr>\n",
              "      <th id=\"T_5332f_level0_row1\" class=\"row_heading level0 row1\" >2</th>\n",
              "      <td id=\"T_5332f_row1_col0\" class=\"data row1 col0\" >warta</td>\n",
              "      <td id=\"T_5332f_row1_col1\" class=\"data row1 col1\" >6289</td>\n",
              "      <td id=\"T_5332f_row1_col2\" class=\"data row1 col2\" >7.230800</td>\n",
              "    </tr>\n",
              "    <tr>\n",
              "      <th id=\"T_5332f_level0_row2\" class=\"row_heading level0 row2\" >3</th>\n",
              "      <td id=\"T_5332f_row2_col0\" class=\"data row2 col0\" >leffe dubbel</td>\n",
              "      <td id=\"T_5332f_row2_col1\" class=\"data row2 col1\" >6068</td>\n",
              "      <td id=\"T_5332f_row2_col2\" class=\"data row2 col2\" >5.937541</td>\n",
              "    </tr>\n",
              "    <tr>\n",
              "      <th id=\"T_5332f_level0_row3\" class=\"row_heading level0 row3\" >4</th>\n",
              "      <td id=\"T_5332f_row3_col0\" class=\"data row3 col0\" >TomVasel</td>\n",
              "      <td id=\"T_5332f_row3_col1\" class=\"data row3 col1\" >5672</td>\n",
              "      <td id=\"T_5332f_row3_col2\" class=\"data row3 col2\" >6.401869</td>\n",
              "    </tr>\n",
              "    <tr>\n",
              "      <th id=\"T_5332f_level0_row4\" class=\"row_heading level0 row4\" >5</th>\n",
              "      <td id=\"T_5332f_row4_col0\" class=\"data row4 col0\" >Doel</td>\n",
              "      <td id=\"T_5332f_row4_col1\" class=\"data row4 col1\" >5131</td>\n",
              "      <td id=\"T_5332f_row4_col2\" class=\"data row4 col2\" >7.496200</td>\n",
              "    </tr>\n",
              "  </tbody>\n",
              "</table>\n",
              "<style type=\"text/css\">\n",
              "</style>\n",
              "<table id=\"T_f364f_\" style='display:inline'>\n",
              "  <caption>Most reviewed games</caption>\n",
              "  <thead>\n",
              "    <tr>\n",
              "      <th class=\"blank level0\" >&nbsp;</th>\n",
              "      <th class=\"col_heading level0 col0\" >Name</th>\n",
              "      <th class=\"col_heading level0 col1\" >count</th>\n",
              "      <th class=\"col_heading level0 col2\" >average</th>\n",
              "    </tr>\n",
              "  </thead>\n",
              "  <tbody>\n",
              "    <tr>\n",
              "      <th id=\"T_f364f_level0_row0\" class=\"row_heading level0 row0\" >1</th>\n",
              "      <td id=\"T_f364f_row0_col0\" class=\"data row0 col0\" >Pandemic</td>\n",
              "      <td id=\"T_f364f_row0_col1\" class=\"data row0 col1\" >108971</td>\n",
              "      <td id=\"T_f364f_row0_col2\" class=\"data row0 col2\" >7.594996</td>\n",
              "    </tr>\n",
              "    <tr>\n",
              "      <th id=\"T_f364f_level0_row1\" class=\"row_heading level0 row1\" >2</th>\n",
              "      <td id=\"T_f364f_row1_col0\" class=\"data row1 col0\" >Carcassonne</td>\n",
              "      <td id=\"T_f364f_row1_col1\" class=\"data row1 col1\" >108881</td>\n",
              "      <td id=\"T_f364f_row1_col2\" class=\"data row1 col2\" >7.416162</td>\n",
              "    </tr>\n",
              "    <tr>\n",
              "      <th id=\"T_f364f_level0_row2\" class=\"row_heading level0 row2\" >3</th>\n",
              "      <td id=\"T_f364f_row2_col0\" class=\"data row2 col0\" >Catan</td>\n",
              "      <td id=\"T_f364f_row2_col1\" class=\"data row2 col1\" >108195</td>\n",
              "      <td id=\"T_f364f_row2_col2\" class=\"data row2 col2\" >7.133179</td>\n",
              "    </tr>\n",
              "    <tr>\n",
              "      <th id=\"T_f364f_level0_row3\" class=\"row_heading level0 row3\" >4</th>\n",
              "      <td id=\"T_f364f_row3_col0\" class=\"data row3 col0\" >7 Wonders</td>\n",
              "      <td id=\"T_f364f_row3_col1\" class=\"data row3 col1\" >90110</td>\n",
              "      <td id=\"T_f364f_row3_col2\" class=\"data row3 col2\" >7.733539</td>\n",
              "    </tr>\n",
              "    <tr>\n",
              "      <th id=\"T_f364f_level0_row4\" class=\"row_heading level0 row4\" >5</th>\n",
              "      <td id=\"T_f364f_row4_col0\" class=\"data row4 col0\" >Dominion</td>\n",
              "      <td id=\"T_f364f_row4_col1\" class=\"data row4 col1\" >81623</td>\n",
              "      <td id=\"T_f364f_row4_col2\" class=\"data row4 col2\" >7.607675</td>\n",
              "    </tr>\n",
              "  </tbody>\n",
              "</table>\n"
            ]
          },
          "metadata": {},
          "output_type": "display_data"
        }
      ],
      "source": [
        "# hide_input\n",
        "us = reset_index(users.sort_values('count', ascending=False)[:5])\n",
        "ga = reset_index(games.sort_values('count', ascending=False)[:5].drop('ID',axis=1))\n",
        "display_dfs_horiz([us, ga], ['Most active users', 'Most reviewed games'])"
      ]
    },
    {
      "cell_type": "markdown",
      "metadata": {},
      "source": [
        "Check out the insane number of reviews by oldgoat. And 3 games so close to each other with >100K reviews!"
      ]
    },
    {
      "cell_type": "markdown",
      "metadata": {},
      "source": [
        "### Rating development over the years"
      ]
    },
    {
      "cell_type": "code",
      "execution_count": 150,
      "metadata": {},
      "outputs": [
        {
          "data": {
            "image/png": "[encoded data removed]",
            "text/plain": [
              "<Figure size 432x288 with 1 Axes>"
            ]
          },
          "metadata": {
            "needs_background": "light"
          },
          "output_type": "display_data"
        }
      ],
      "source": [
        "# hide_input\n",
        "game_amount = df.loc[(df['yearpublished'] > 1970)].groupby('yearpublished')['id'].agg('count')\n",
        "ax1 = plt.axes()\n",
        "ax1.bar(game_amount.index, game_amount,  color='blue')\n",
        "ax1.set_xlabel('Game release year')\n",
        "ax1.set_ylabel('Amount of games released');"
      ]
    },
    {
      "cell_type": "markdown",
      "metadata": {},
      "source": [
        "There has been incredible growth in the amount of boardgames being released. It does appears to slow down, although many games are for some reason added a couple of years after they have been released, so the steep drop after 2020 is a bit misleading. I don't know why this is so."
      ]
    },
    {
      "cell_type": "code",
      "execution_count": 151,
      "metadata": {},
      "outputs": [
        {
          "data": {
            "image/png": "[encoded data removed]",
            "text/plain": [
              "<Figure size 432x288 with 1 Axes>"
            ]
          },
          "metadata": {
            "needs_background": "light"
          },
          "output_type": "display_data"
        }
      ],
      "source": [
        "# hide_input\n",
        "years = df.loc[(df['yearpublished'] > 1990) & (df['yearpublished'] < 2023)]\n",
        "ax1 = plt.axes()\n",
        "ax1.scatter(years['yearpublished'], years[y],  color='blue',s=0.05)\n",
        "ax1.set_xlabel('Game release year')\n",
        "ax1.set_ylabel('Average rating of game')\n",
        "\n",
        "years = years.groupby('yearpublished').agg('mean').reset_index()\n",
        "ax1.scatter(years['yearpublished'], years['average'], color='red');"
      ]
    },
    {
      "cell_type": "markdown",
      "metadata": {},
      "source": [
        "Are games being rated higher? After 2005 it seems so! Are games nowadays just better or is there a tendency to rate new games higher? Now luckily I've composed this dataset already twice in the past, we can make good use of this:"
      ]
    },
    {
      "cell_type": "code",
      "execution_count": 152,
      "metadata": {},
      "outputs": [
        {
          "data": {
            "image/png": "[encoded data removed]",
            "text/plain": [
              "<Figure size 432x288 with 1 Axes>"
            ]
          },
          "metadata": {
            "needs_background": "light"
          },
          "output_type": "display_data"
        }
      ],
      "source": [
        "# hide_input\n",
        "cut = 1990\n",
        "versions = [('archive/games_detailed_info_2019.csv', 'Dataset 2019 May'),\n",
        "            ('archive/games_detailed_info_2020.csv', 'Dataset 2020 August'),\n",
        "            ('games_detailed_info.csv', 'Dataset 2022 January')]\n",
        "for path, label in versions:\n",
        "    dfold = pd.read_csv(path)\n",
        "    df2 = dfold.loc[(dfold['yearpublished'] > cut) & (dfold['yearpublished'] < 2023)]\n",
        "    yearsold = df2.groupby('yearpublished').agg('mean').reset_index()\n",
        "    plt.plot(yearsold['yearpublished'], yearsold['average'], label=label)\n",
        "plt.ylabel('Average rating')\n",
        "plt.xlabel('Release year')\n",
        "\n",
        "plt.legend();"
      ]
    },
    {
      "cell_type": "markdown",
      "metadata": {},
      "source": [
        "My conclusion would be that it's a mix of improved quality and hype:\n",
        "* Scores have been climbing since 2005. There is a rough consensus that boardgames have improved in quality.\n",
        "* As you see the 3 snapshots diverge around 2015. This is a 'hype' effect, where the early adopters score a new/upcoming games higher. For any year, the blue line (the ratings from the dataset in 2019) scores highest, after the orange (2020) and lowest in the most recent version of the dataset (2022). Games from 2020 where rated with 7.8 in 2020, but two years later that has dropped to 7.2 and now games from 2022 are rated with 7.8! When games are about 5 years old the 'hype' effect is more or less gone and games reach a stable score (around 2014 there is no difference anymore). "
      ]
    },
    {
      "cell_type": "markdown",
      "metadata": {},
      "source": [
        "### Relation between complexity of games and ratings"
      ]
    },
    {
      "cell_type": "code",
      "execution_count": 153,
      "metadata": {},
      "outputs": [
        {
          "data": {
            "image/png": "[encoded data removed]",
            "text/plain": [
              "<Figure size 432x288 with 1 Axes>"
            ]
          },
          "metadata": {
            "needs_background": "light"
          },
          "output_type": "display_data"
        }
      ],
      "source": [
        "# hide_input\n",
        "df2 = df.loc[df['averageweight'] > 0]\n",
        "ax = df2['averageweight'].hist(bins=20)\n",
        "ax.set_ylabel('Amount of games')\n",
        "ax.set_xlabel('weight of a game (1=light, 5=heavy)');"
      ]
    },
    {
      "cell_type": "markdown",
      "metadata": {},
      "source": [
        "BGG has a weight metric, which means how complex a game is. To get a feel what a number means, here some examples:\n",
        "* Monopoly: 1.3\n",
        "* Catan: 2.3\n",
        "* Chess: 3.7\n",
        "\n",
        "Most of the games have a fairly low weight."
      ]
    },
    {
      "cell_type": "code",
      "execution_count": 154,
      "metadata": {},
      "outputs": [
        {
          "name": "stderr",
          "output_type": "stream",
          "text": [
            "\n",
            "A value is trying to be set on a copy of a slice from a DataFrame.\n",
            "Try using .loc[row_indexer,col_indexer] = value instead\n",
            "\n",
            "See the caveats in the documentation: https://pandas.pydata.org/pandas-docs/stable/user_guide/indexing.html#returning-a-view-versus-a-copy\n"
          ]
        },
        {
          "data": {
            "image/png": "[encoded data removed]",
            "text/plain": [
              "<Figure size 432x288 with 1 Axes>"
            ]
          },
          "metadata": {
            "needs_background": "light"
          },
          "output_type": "display_data"
        }
      ],
      "source": [
        "# hide_input\n",
        "s = 0.01\n",
        "ax1 = plt.axes()\n",
        "ax1.scatter(df2['averageweight'], df2[y],  color='blue',s=s)\n",
        "\n",
        "df2.loc[:,'complexity'] = (df2['averageweight'] // 0.5 * 0.5).copy()\n",
        "df2 = df2.loc[df2['complexity']<4.5]\n",
        "complexity = df2.groupby('complexity').agg('mean').reset_index()\n",
        "ax1.scatter(complexity['complexity'], complexity['average'], color='red')\n",
        "ax1.set_xlabel('Complexity score of a game (1=light, 5=heavy)');\n",
        "ax1.set_ylabel('Average rating');"
      ]
    },
    {
      "cell_type": "markdown",
      "metadata": {},
      "source": [
        "There is a relation between the complexity of the game and the score. More complex games get higher scores, it's almost a 1 point difference between a game with weight 1 and 5! Are heavy games really 'better' than 'light' games?"
      ]
    },
    {
      "cell_type": "markdown",
      "metadata": {
        "colab_type": "text",
        "id": "BPXAZImebs9C"
      },
      "source": [
        "### Are active users more critical?"
      ]
    },
    {
      "cell_type": "code",
      "execution_count": 155,
      "metadata": {},
      "outputs": [
        {
          "data": {
            "text/plain": [
              "(88, 273)"
            ]
          },
          "execution_count": 155,
          "metadata": {},
          "output_type": "execute_result"
        }
      ],
      "source": [
        "# hide\n",
        "users.sort_values('count', inplace=True)\n",
        "users['cumsum'] = users['count'].cumsum()\n",
        "totalreviews = sum(users['count'])\n",
        "tertile = totalreviews //3\n",
        "first_tertile = users[users['cumsum'] > tertile].iloc[0]['count']\n",
        "second_tertile = users[users['cumsum'] > 2*tertile].iloc[0]['count']\n",
        "first_tertile, second_tertile"
      ]
    },
    {
      "cell_type": "code",
      "execution_count": 156,
      "metadata": {},
      "outputs": [],
      "source": [
        "# hide\n",
        "new = users.loc[users['count']< first_tertile]\n",
        "middle = users.loc[(users['count']>= first_tertile) & (users['count']<=second_tertile)]\n",
        "experienced = users.loc[users['count']>second_tertile]\n",
        "assert len(new) + len(middle) + len(experienced) == len(users)"
      ]
    },
    {
      "cell_type": "code",
      "execution_count": 157,
      "metadata": {},
      "outputs": [
        {
          "data": {
            "image/png": "[encoded data removed]",
            "text/plain": [
              "<Figure size 432x288 with 1 Axes>"
            ]
          },
          "metadata": {
            "needs_background": "light"
          },
          "output_type": "display_data"
        }
      ],
      "source": [
        "# hide_input\n",
        "new['average'].hist(bins=50, fc=(0, 0, 1, 0.4), label='normal users: < 67 reviews')\n",
        "middle['average'].hist(bins=50, fc=(1, 1, 0, 0.8), label='active users: 67-171 reviews')\n",
        "experienced['average'].hist(bins=50, fc=(1, 0, 1, 0.4), label='very active users: >171 reviews')\n",
        "plt.title('More active users give lower scores')\n",
        "plt.xlabel('Average rating given by users')\n",
        "plt.ylabel('Amount of users')\n",
        "plt.legend();"
      ]
    },
    {
      "cell_type": "code",
      "execution_count": 158,
      "metadata": {},
      "outputs": [
        {
          "name": "stdout",
          "output_type": "stream",
          "text": [
            "8.02995376296331\n",
            "7.111292974103985\n",
            "6.74890022410223\n"
          ]
        },
        {
          "data": {
            "text/plain": [
              "0.11120935235068408"
            ]
          },
          "execution_count": 158,
          "metadata": {},
          "output_type": "execute_result"
        }
      ],
      "source": [
        "# hide\n",
        "for i in [new, middle, experienced]:\n",
        "    print(i['average'].mean())\n",
        "len(experienced)/len(users)\n",
        "(sum(new['average'] == 10)) / len(users)"
      ]
    },
    {
      "cell_type": "markdown",
      "metadata": {},
      "source": [
        "Here you see the average rating that different user groups are giving. I've split the population in 3 parts that all account for 33% of the reviews. The very active group gives lower scores (6.9 avg) compared to the active users (7.2 avg) and the normal users (8.1 avg). \n",
        "The very active users only make up of 6% the population (note it's a small area), they do give out 33% of the reviews!\n",
        "\n",
        "Are normal users less critical or just reviewing better quality games?\n",
        "\n",
        "It's notable that 11% of all users give a 10 on average, which accounts for 0.5% of all reviews. You can make a case for filtering these \n",
        "reviews out. Some of the games are rated by many users that have only reviewed one game with a 10. A good example of such a game is [Goblin Grapple](https://boardgamegeek.com/boardgame/245240/goblin-grapple/ratings?rating=10), but there are around 100 games that I find suspect."
      ]
    },
    {
      "cell_type": "markdown",
      "metadata": {},
      "source": [
        "### What is the best game?\n",
        "Now what is the best game? And what reviews to take into account? While doing this project so many ideas came to mind on how a ranking could be defined, e.g.:\n",
        "* Including reviews given by active users (I took > 10)\n",
        "* Including games that have received a certain threshold of reviews (I took > 2000)\n",
        "* Training a model that takes the weight into account, such that the 'complexity bonus' games receive is taken away. I do this by interpreting the residuals of the model as an indication of quality (what the model cannot explain by complexity must be the quality).\n",
        "\n",
        "What did not really work?\n",
        "* Account for the release year. This approach I abandoned, since some new games are truly better. The only thing you want to account for is removing the 'hype' effect. I did this by excluding games after 2017 from the analysis.\n",
        "* Including reviews with a comment, since these people are more strongly opinionated. It did not differ much.\n",
        "* Training a model that takes the average user rating into account. You could even look at z scores of users.\n",
        "\n",
        "Let me show you some of the outcomes"
      ]
    },
    {
      "cell_type": "code",
      "execution_count": 257,
      "metadata": {},
      "outputs": [],
      "source": [
        "# hide\n",
        "YEAR_CUTOFF = 2018\n",
        "REVIEW_CUTOFF = 1000\n",
        "USER_REVIEW_CUTOFF = 10"
      ]
    },
    {
      "cell_type": "code",
      "execution_count": 258,
      "metadata": {},
      "outputs": [
        {
          "name": "stdout",
          "output_type": "stream",
          "text": [
            "21631\n",
            "17362\n"
          ]
        }
      ],
      "source": [
        "# hide\n",
        "df = pd.read_csv('games_detailed_info.csv')\n",
        "print(len(df))\n",
        "# clip some values to make plotting easier\n",
        "df['minplaytime'] = df['minplaytime'].clip(0,500)\n",
        "df['maxplaytime'] = df['minplaytime'].clip(0,500)\n",
        "df['maxplayers'] = df['minplaytime'].clip(0,20)\n",
        "df['yearpublished'] = df['yearpublished'].clip(lower=1970, upper=2030, axis=0)\n",
        "# I'm filtering out the hype years here\n",
        "df = df.loc[df['yearpublished'] < YEAR_CUTOFF].reset_index()\n",
        "df.rename(columns={'primary':'name', 'id':'ID'}, inplace=True)\n",
        "print(len(df))"
      ]
    },
    {
      "cell_type": "code",
      "execution_count": 259,
      "metadata": {},
      "outputs": [
        {
          "data": {
            "text/html": [
              "<div>\n",
              "<style scoped>\n",
              "    .dataframe tbody tr th:only-of-type {\n",
              "        vertical-align: middle;\n",
              "    }\n",
              "\n",
              "    .dataframe tbody tr th {\n",
              "        vertical-align: top;\n",
              "    }\n",
              "\n",
              "    .dataframe thead th {\n",
              "        text-align: right;\n",
              "    }\n",
              "</style>\n",
              "<table border=\"1\" class=\"dataframe\">\n",
              "  <thead>\n",
              "    <tr style=\"text-align: right;\">\n",
              "      <th></th>\n",
              "      <th>user</th>\n",
              "      <th>rating</th>\n",
              "      <th>comment</th>\n",
              "      <th>ID</th>\n",
              "      <th>name</th>\n",
              "      <th>count</th>\n",
              "      <th>average</th>\n",
              "      <th>only_one_review</th>\n",
              "    </tr>\n",
              "  </thead>\n",
              "  <tbody>\n",
              "    <tr>\n",
              "      <th>0</th>\n",
              "      <td>Torsten</td>\n",
              "      <td>10.00</td>\n",
              "      <td>NaN</td>\n",
              "      <td>30549</td>\n",
              "      <td>Pandemic</td>\n",
              "      <td>1,460.00</td>\n",
              "      <td>6.87</td>\n",
              "      <td>0</td>\n",
              "    </tr>\n",
              "    <tr>\n",
              "      <th>1</th>\n",
              "      <td>mitnachtKAUBO-I</td>\n",
              "      <td>10.00</td>\n",
              "      <td>Hands down my favorite new game of BGG CON 200...</td>\n",
              "      <td>30549</td>\n",
              "      <td>Pandemic</td>\n",
              "      <td>397.00</td>\n",
              "      <td>6.66</td>\n",
              "      <td>0</td>\n",
              "    </tr>\n",
              "    <tr>\n",
              "      <th>2</th>\n",
              "      <td>avlawn</td>\n",
              "      <td>10.00</td>\n",
              "      <td>I tend to either love or easily tire of co-op ...</td>\n",
              "      <td>30549</td>\n",
              "      <td>Pandemic</td>\n",
              "      <td>1,038.00</td>\n",
              "      <td>6.44</td>\n",
              "      <td>0</td>\n",
              "    </tr>\n",
              "    <tr>\n",
              "      <th>3</th>\n",
              "      <td>Mike Mayer</td>\n",
              "      <td>10.00</td>\n",
              "      <td>NaN</td>\n",
              "      <td>30549</td>\n",
              "      <td>Pandemic</td>\n",
              "      <td>729.00</td>\n",
              "      <td>6.81</td>\n",
              "      <td>0</td>\n",
              "    </tr>\n",
              "    <tr>\n",
              "      <th>4</th>\n",
              "      <td>Mease19</td>\n",
              "      <td>10.00</td>\n",
              "      <td>This is an amazing co-op game.  I play mostly ...</td>\n",
              "      <td>30549</td>\n",
              "      <td>Pandemic</td>\n",
              "      <td>422.00</td>\n",
              "      <td>7.14</td>\n",
              "      <td>0</td>\n",
              "    </tr>\n",
              "  </tbody>\n",
              "</table>\n",
              "</div>"
            ],
            "text/plain": [
              "              user  rating                                            comment  \\\n",
              "0          Torsten   10.00                                                NaN   \n",
              "1  mitnachtKAUBO-I   10.00  Hands down my favorite new game of BGG CON 200...   \n",
              "2           avlawn   10.00  I tend to either love or easily tire of co-op ...   \n",
              "3       Mike Mayer   10.00                                                NaN   \n",
              "4          Mease19   10.00  This is an amazing co-op game.  I play mostly ...   \n",
              "\n",
              "      ID      name    count  average  only_one_review  \n",
              "0  30549  Pandemic 1,460.00     6.87                0  \n",
              "1  30549  Pandemic   397.00     6.66                0  \n",
              "2  30549  Pandemic 1,038.00     6.44                0  \n",
              "3  30549  Pandemic   729.00     6.81                0  \n",
              "4  30549  Pandemic   422.00     7.14                0  "
            ]
          },
          "execution_count": 259,
          "metadata": {},
          "output_type": "execute_result"
        }
      ],
      "source": [
        "#hide\n",
        "reviews = pd.read_csv('bgg-19m-reviews.csv',index_col=0)\n",
        "merged_reviews = reviews.merge(users,how='left',on='user',suffixes=('','user'))\n",
        "merged_reviews['only_one_review'] = (merged_reviews['count'] == 1)*1\n",
        "merged_reviews.head()"
      ]
    },
    {
      "cell_type": "code",
      "execution_count": 260,
      "metadata": {},
      "outputs": [],
      "source": [
        "# hide\n",
        "condition = merged_reviews['count'] > USER_REVIEW_CUTOFF\n",
        "merged_games = merged_reviews.loc[condition].groupby(['ID', 'name'])[['rating', 'average', 'only_one_review', 'count']].agg( avg_rating= ('rating', 'mean'),\n",
        "                                                                                                user_avg_rating= ('average','mean'), \n",
        "                                                                                                num_inactive= ('only_one_review','sum'), \n",
        "                                                                                                num_reviews=('rating', 'count'), \n",
        "                                                                                                user_median_review_count= ('count', 'median'))\n",
        "merged_games.reset_index(inplace=True)"
      ]
    },
    {
      "cell_type": "code",
      "execution_count": 261,
      "metadata": {},
      "outputs": [
        {
          "name": "stdout",
          "output_type": "stream",
          "text": [
            "17362\n",
            "2362\n"
          ]
        }
      ],
      "source": [
        "# hide\n",
        "df_only_experienced = df.merge(merged_games,how='left',on='ID',suffixes=('', 'review'))\n",
        "df_only_experienced['proportion_inactive'] = df_only_experienced['num_inactive'] / df_only_experienced['num_reviews']\n",
        "df_only_experienced.sort_values('avg_rating', ascending=False, inplace=True)\n",
        "df_only_experienced.set_index(pd.RangeIndex(start=1, stop=len(df_only_experienced)+1, step=1), inplace=True)\n",
        "\n",
        "# filter out games with < 1000 reviews\n",
        "print(len(df_only_experienced))\n",
        "df_only_experienced = df_only_experienced.loc[df_only_experienced['num_reviews']>REVIEW_CUTOFF]\n",
        "print(len(df_only_experienced))\n"
      ]
    },
    {
      "cell_type": "code",
      "execution_count": 262,
      "metadata": {},
      "outputs": [
        {
          "data": {
            "text/html": [
              "<div>\n",
              "<style scoped>\n",
              "    .dataframe tbody tr th:only-of-type {\n",
              "        vertical-align: middle;\n",
              "    }\n",
              "\n",
              "    .dataframe tbody tr th {\n",
              "        vertical-align: top;\n",
              "    }\n",
              "\n",
              "    .dataframe thead th {\n",
              "        text-align: right;\n",
              "    }\n",
              "</style>\n",
              "<table border=\"1\" class=\"dataframe\">\n",
              "  <thead>\n",
              "    <tr style=\"text-align: right;\">\n",
              "      <th></th>\n",
              "      <th>name</th>\n",
              "      <th>avg_rating</th>\n",
              "      <th>averageweight</th>\n",
              "      <th>yearpublished</th>\n",
              "    </tr>\n",
              "  </thead>\n",
              "  <tbody>\n",
              "    <tr>\n",
              "      <th>9</th>\n",
              "      <td>Gloomhaven</td>\n",
              "      <td>8.64</td>\n",
              "      <td>3.87</td>\n",
              "      <td>2017</td>\n",
              "    </tr>\n",
              "    <tr>\n",
              "      <th>16</th>\n",
              "      <td>Twilight Imperium: Fourth Edition</td>\n",
              "      <td>8.59</td>\n",
              "      <td>4.26</td>\n",
              "      <td>2017</td>\n",
              "    </tr>\n",
              "    <tr>\n",
              "      <th>20</th>\n",
              "      <td>Pandemic Legacy: Season 1</td>\n",
              "      <td>8.56</td>\n",
              "      <td>2.83</td>\n",
              "      <td>2015</td>\n",
              "    </tr>\n",
              "    <tr>\n",
              "      <th>37</th>\n",
              "      <td>War of the Ring: Second Edition</td>\n",
              "      <td>8.45</td>\n",
              "      <td>4.17</td>\n",
              "      <td>2012</td>\n",
              "    </tr>\n",
              "    <tr>\n",
              "      <th>45</th>\n",
              "      <td>Gaia Project</td>\n",
              "      <td>8.43</td>\n",
              "      <td>4.37</td>\n",
              "      <td>2017</td>\n",
              "    </tr>\n",
              "    <tr>\n",
              "      <th>53</th>\n",
              "      <td>Star Wars: Rebellion</td>\n",
              "      <td>8.38</td>\n",
              "      <td>3.73</td>\n",
              "      <td>2016</td>\n",
              "    </tr>\n",
              "    <tr>\n",
              "      <th>55</th>\n",
              "      <td>Terraforming Mars</td>\n",
              "      <td>8.36</td>\n",
              "      <td>3.24</td>\n",
              "      <td>2016</td>\n",
              "    </tr>\n",
              "    <tr>\n",
              "      <th>57</th>\n",
              "      <td>Too Many Bones</td>\n",
              "      <td>8.36</td>\n",
              "      <td>3.84</td>\n",
              "      <td>2017</td>\n",
              "    </tr>\n",
              "    <tr>\n",
              "      <th>59</th>\n",
              "      <td>Through the Ages: A New Story of Civilization</td>\n",
              "      <td>8.35</td>\n",
              "      <td>4.41</td>\n",
              "      <td>2015</td>\n",
              "    </tr>\n",
              "    <tr>\n",
              "      <th>60</th>\n",
              "      <td>Aeon's End: War Eternal</td>\n",
              "      <td>8.34</td>\n",
              "      <td>2.93</td>\n",
              "      <td>2017</td>\n",
              "    </tr>\n",
              "  </tbody>\n",
              "</table>\n",
              "</div>"
            ],
            "text/plain": [
              "                                             name  avg_rating  averageweight  \\\n",
              "9                                      Gloomhaven        8.64           3.87   \n",
              "16              Twilight Imperium: Fourth Edition        8.59           4.26   \n",
              "20                      Pandemic Legacy: Season 1        8.56           2.83   \n",
              "37                War of the Ring: Second Edition        8.45           4.17   \n",
              "45                                   Gaia Project        8.43           4.37   \n",
              "53                           Star Wars: Rebellion        8.38           3.73   \n",
              "55                              Terraforming Mars        8.36           3.24   \n",
              "57                                 Too Many Bones        8.36           3.84   \n",
              "59  Through the Ages: A New Story of Civilization        8.35           4.41   \n",
              "60                        Aeon's End: War Eternal        8.34           2.93   \n",
              "\n",
              "    yearpublished  \n",
              "9            2017  \n",
              "16           2017  \n",
              "20           2015  \n",
              "37           2012  \n",
              "45           2017  \n",
              "53           2016  \n",
              "55           2016  \n",
              "57           2017  \n",
              "59           2015  \n",
              "60           2017  "
            ]
          },
          "execution_count": 262,
          "metadata": {},
          "output_type": "execute_result"
        }
      ],
      "source": [
        "# hide_input\n",
        "df_only_experienced[['name', 'avg_rating', 'averageweight', 'yearpublished']][:10]"
      ]
    },
    {
      "cell_type": "markdown",
      "metadata": {},
      "source": [
        "This corresponds more or less to the [top games listed on BGG](https://boardgamegeek.com/browse/boardgame). Note from 'averageweight' that these are all pretty heavy games. Also 2017 appears 5 times.\n",
        "\n",
        "But I don't have time to play games that are very complex and take many hours! So let's account for the complexity, such that great lighter games will pop up more. I trained a tree based model with a r2 of 0.35. It's only 0.35, but that does mean that 35% of the variation in the rating is explained by the complexity!"
      ]
    },
    {
      "cell_type": "code",
      "execution_count": 263,
      "metadata": {},
      "outputs": [
        {
          "data": {
            "image/png": "[encoded data removed]",
            "text/plain": [
              "<Figure size 432x288 with 1 Axes>"
            ]
          },
          "metadata": {
            "needs_background": "light"
          },
          "output_type": "display_data"
        }
      ],
      "source": [
        "# hide\n",
        "# Another thing I want to correct for is the effect that if games are rated by users that generally give lower scores, this has an effect on the rating of the game.\n",
        "# didnt really work out, since the outliers that are rated by grumps get promoted to the top\n",
        "plt.scatter(df_only_experienced['user_avg_rating'], df_only_experienced['avg_rating'],s=0.1)\n",
        "plt.xlabel('average of the average user rating')\n",
        "plt.ylabel('average game rating');"
      ]
    },
    {
      "cell_type": "code",
      "execution_count": 264,
      "metadata": {},
      "outputs": [
        {
          "data": {
            "text/html": [
              "<div>\n",
              "<style scoped>\n",
              "    .dataframe tbody tr th:only-of-type {\n",
              "        vertical-align: middle;\n",
              "    }\n",
              "\n",
              "    .dataframe tbody tr th {\n",
              "        vertical-align: top;\n",
              "    }\n",
              "\n",
              "    .dataframe thead th {\n",
              "        text-align: right;\n",
              "    }\n",
              "</style>\n",
              "<table border=\"1\" class=\"dataframe\">\n",
              "  <thead>\n",
              "    <tr style=\"text-align: right;\">\n",
              "      <th></th>\n",
              "      <th>name</th>\n",
              "      <th>avg_rating</th>\n",
              "      <th>delta_rating_avg_user_rating</th>\n",
              "      <th>averageweight</th>\n",
              "      <th>yearpublished</th>\n",
              "    </tr>\n",
              "  </thead>\n",
              "  <tbody>\n",
              "    <tr>\n",
              "      <th>16</th>\n",
              "      <td>Twilight Imperium: Fourth Edition</td>\n",
              "      <td>8.59</td>\n",
              "      <td>1.28</td>\n",
              "      <td>4.26</td>\n",
              "      <td>2017</td>\n",
              "    </tr>\n",
              "    <tr>\n",
              "      <th>9</th>\n",
              "      <td>Gloomhaven</td>\n",
              "      <td>8.64</td>\n",
              "      <td>1.26</td>\n",
              "      <td>3.87</td>\n",
              "      <td>2017</td>\n",
              "    </tr>\n",
              "    <tr>\n",
              "      <th>20</th>\n",
              "      <td>Pandemic Legacy: Season 1</td>\n",
              "      <td>8.56</td>\n",
              "      <td>1.26</td>\n",
              "      <td>2.83</td>\n",
              "      <td>2015</td>\n",
              "    </tr>\n",
              "    <tr>\n",
              "      <th>271</th>\n",
              "      <td>Shikoku 1889</td>\n",
              "      <td>7.98</td>\n",
              "      <td>1.20</td>\n",
              "      <td>3.91</td>\n",
              "      <td>2004</td>\n",
              "    </tr>\n",
              "    <tr>\n",
              "      <th>37</th>\n",
              "      <td>War of the Ring: Second Edition</td>\n",
              "      <td>8.45</td>\n",
              "      <td>1.14</td>\n",
              "      <td>4.17</td>\n",
              "      <td>2012</td>\n",
              "    </tr>\n",
              "    <tr>\n",
              "      <th>45</th>\n",
              "      <td>Gaia Project</td>\n",
              "      <td>8.43</td>\n",
              "      <td>1.14</td>\n",
              "      <td>4.37</td>\n",
              "      <td>2017</td>\n",
              "    </tr>\n",
              "    <tr>\n",
              "      <th>59</th>\n",
              "      <td>Through the Ages: A New Story of Civilization</td>\n",
              "      <td>8.35</td>\n",
              "      <td>1.07</td>\n",
              "      <td>4.41</td>\n",
              "      <td>2015</td>\n",
              "    </tr>\n",
              "    <tr>\n",
              "      <th>154</th>\n",
              "      <td>Triumph &amp; Tragedy: European Balance of Power 1...</td>\n",
              "      <td>8.11</td>\n",
              "      <td>1.05</td>\n",
              "      <td>3.34</td>\n",
              "      <td>2015</td>\n",
              "    </tr>\n",
              "    <tr>\n",
              "      <th>65</th>\n",
              "      <td>Kingdom Death: Monster</td>\n",
              "      <td>8.33</td>\n",
              "      <td>1.03</td>\n",
              "      <td>4.26</td>\n",
              "      <td>2015</td>\n",
              "    </tr>\n",
              "    <tr>\n",
              "      <th>60</th>\n",
              "      <td>Aeon's End: War Eternal</td>\n",
              "      <td>8.34</td>\n",
              "      <td>1.03</td>\n",
              "      <td>2.93</td>\n",
              "      <td>2017</td>\n",
              "    </tr>\n",
              "  </tbody>\n",
              "</table>\n",
              "</div>"
            ],
            "text/plain": [
              "                                                  name  avg_rating  \\\n",
              "16                   Twilight Imperium: Fourth Edition        8.59   \n",
              "9                                           Gloomhaven        8.64   \n",
              "20                           Pandemic Legacy: Season 1        8.56   \n",
              "271                                       Shikoku 1889        7.98   \n",
              "37                     War of the Ring: Second Edition        8.45   \n",
              "45                                        Gaia Project        8.43   \n",
              "59       Through the Ages: A New Story of Civilization        8.35   \n",
              "154  Triumph & Tragedy: European Balance of Power 1...        8.11   \n",
              "65                              Kingdom Death: Monster        8.33   \n",
              "60                             Aeon's End: War Eternal        8.34   \n",
              "\n",
              "     delta_rating_avg_user_rating  averageweight  yearpublished  \n",
              "16                           1.28           4.26           2017  \n",
              "9                            1.26           3.87           2017  \n",
              "20                           1.26           2.83           2015  \n",
              "271                          1.20           3.91           2004  \n",
              "37                           1.14           4.17           2012  \n",
              "45                           1.14           4.37           2017  \n",
              "59                           1.07           4.41           2015  \n",
              "154                          1.05           3.34           2015  \n",
              "65                           1.03           4.26           2015  \n",
              "60                           1.03           2.93           2017  "
            ]
          },
          "execution_count": 264,
          "metadata": {},
          "output_type": "execute_result"
        }
      ],
      "source": [
        "# hide\n",
        "df_only_experienced['delta_rating_avg_user_rating'] = df_only_experienced['avg_rating'] - df_only_experienced['user_avg_rating']\n",
        "df_only_experienced.sort_values('delta_rating_avg_user_rating', ascending=False, inplace=True)\n",
        "df_only_experienced[['name', 'avg_rating', 'delta_rating_avg_user_rating', 'averageweight', 'yearpublished']][:10]"
      ]
    },
    {
      "cell_type": "markdown",
      "metadata": {},
      "source": [
        "### Taking complexity out of the equation"
      ]
    },
    {
      "cell_type": "code",
      "execution_count": 380,
      "metadata": {},
      "outputs": [],
      "source": [
        "# hide\n",
        "# only keep relevant or minimal features\n",
        "minimal = ['average', 'averageweight']\n",
        "df_preprocessed = df_only_experienced[minimal]\n"
      ]
    },
    {
      "cell_type": "code",
      "execution_count": 381,
      "metadata": {},
      "outputs": [
        {
          "name": "stdout",
          "output_type": "stream",
          "text": [
            "2362 1889 473\n",
            "[LightGBM] [Warning] min_data_in_leaf is set=300, min_child_samples=20 will be ignored. Current value: min_data_in_leaf=300\n",
            "train score 0.34854952793828264\n",
            "test score 0.31887102027047054\n"
          ]
        }
      ],
      "source": [
        "# hide\n",
        "def train(df_preprocessed, y_col, min_data_in_leaf=300):\n",
        "    train, test = train_test_split(df_preprocessed, test_size=0.2, random_state=112)\n",
        "    x, y = split(train, y_col)\n",
        "    x_test, y_test = split(test, y_col)\n",
        "    print(len(df_preprocessed), len(train), len(test))\n",
        "    # \n",
        "    params = {'num_leaves':6, 'min_data_in_leaf':min_data_in_leaf, 'max_depth':3}\n",
        "    model = lgb.LGBMRegressor(objective='regression',random_state=112, **params) #\n",
        "    model = model.fit(x,y)\n",
        "    print('train score', model.score(x,y))\n",
        "    print('test score', model.score(x_test,y_test))\n",
        "    data = {'train_x':x, 'train_y':y, 'test_x':x_test, 'test_y':y_test, 'names':df['name'], 'full_df':df_preprocessed}\n",
        "    save(model, 'models/lightgbm.pickle')\n",
        "    save(data, 'models/data.pickle')\n",
        "    return model\n",
        "\n",
        "model = train(df_preprocessed, 'average')"
      ]
    },
    {
      "cell_type": "code",
      "execution_count": 382,
      "metadata": {},
      "outputs": [],
      "source": [
        "# hide\n",
        "preds = model.predict(df_preprocessed.drop('average',axis=1))\n",
        "df2 = df_only_experienced.copy()\n",
        "df2['preds'] = preds\n",
        "df2['residual'] = df2['average'] - df2['preds']\n",
        "df2.sort_values('residual', inplace=True, ascending=False)\n",
        "df2.set_index(pd.RangeIndex(start=1, stop=len(df2)+1, step=1), inplace=True)"
      ]
    },
    {
      "cell_type": "markdown",
      "metadata": {},
      "source": [
        "I've taken 1000 reviews as a minimum for the game to be included. That is pretty harsh (only leaves ~15% of the games), but I wanted to be able to recognize some games. This results in the following top 10:"
      ]
    },
    {
      "cell_type": "code",
      "execution_count": 383,
      "metadata": {},
      "outputs": [
        {
          "data": {
            "text/html": [
              "<div>\n",
              "<style scoped>\n",
              "    .dataframe tbody tr th:only-of-type {\n",
              "        vertical-align: middle;\n",
              "    }\n",
              "\n",
              "    .dataframe tbody tr th {\n",
              "        vertical-align: top;\n",
              "    }\n",
              "\n",
              "    .dataframe thead th {\n",
              "        text-align: right;\n",
              "    }\n",
              "</style>\n",
              "<table border=\"1\" class=\"dataframe\">\n",
              "  <thead>\n",
              "    <tr style=\"text-align: right;\">\n",
              "      <th></th>\n",
              "      <th>name</th>\n",
              "      <th>yearpublished</th>\n",
              "      <th>average</th>\n",
              "      <th>user_avg_rating</th>\n",
              "      <th>preds</th>\n",
              "      <th>residual</th>\n",
              "      <th>usersrated</th>\n",
              "      <th>averageweight</th>\n",
              "    </tr>\n",
              "  </thead>\n",
              "  <tbody>\n",
              "    <tr>\n",
              "      <th>1</th>\n",
              "      <td>Crokinole</td>\n",
              "      <td>1970</td>\n",
              "      <td>7.95</td>\n",
              "      <td>7.01</td>\n",
              "      <td>6.23</td>\n",
              "      <td>1.72</td>\n",
              "      <td>13455</td>\n",
              "      <td>1.25</td>\n",
              "    </tr>\n",
              "    <tr>\n",
              "      <th>2</th>\n",
              "      <td>Monikers</td>\n",
              "      <td>2015</td>\n",
              "      <td>7.80</td>\n",
              "      <td>7.12</td>\n",
              "      <td>6.23</td>\n",
              "      <td>1.57</td>\n",
              "      <td>4122</td>\n",
              "      <td>1.06</td>\n",
              "    </tr>\n",
              "    <tr>\n",
              "      <th>3</th>\n",
              "      <td>Telestrations: 12 Player Party Pack</td>\n",
              "      <td>2011</td>\n",
              "      <td>7.75</td>\n",
              "      <td>7.07</td>\n",
              "      <td>6.23</td>\n",
              "      <td>1.52</td>\n",
              "      <td>2390</td>\n",
              "      <td>1.07</td>\n",
              "    </tr>\n",
              "    <tr>\n",
              "      <th>4</th>\n",
              "      <td>Time's Up! Title Recall!</td>\n",
              "      <td>2008</td>\n",
              "      <td>7.71</td>\n",
              "      <td>6.96</td>\n",
              "      <td>6.23</td>\n",
              "      <td>1.48</td>\n",
              "      <td>3266</td>\n",
              "      <td>1.19</td>\n",
              "    </tr>\n",
              "    <tr>\n",
              "      <th>5</th>\n",
              "      <td>Pandemic Legacy: Season 1</td>\n",
              "      <td>2015</td>\n",
              "      <td>8.59</td>\n",
              "      <td>7.30</td>\n",
              "      <td>7.17</td>\n",
              "      <td>1.42</td>\n",
              "      <td>45064</td>\n",
              "      <td>2.83</td>\n",
              "    </tr>\n",
              "    <tr>\n",
              "      <th>6</th>\n",
              "      <td>KLASK</td>\n",
              "      <td>2014</td>\n",
              "      <td>7.64</td>\n",
              "      <td>7.06</td>\n",
              "      <td>6.23</td>\n",
              "      <td>1.41</td>\n",
              "      <td>6837</td>\n",
              "      <td>1.08</td>\n",
              "    </tr>\n",
              "    <tr>\n",
              "      <th>7</th>\n",
              "      <td>Codenames</td>\n",
              "      <td>2015</td>\n",
              "      <td>7.60</td>\n",
              "      <td>7.24</td>\n",
              "      <td>6.23</td>\n",
              "      <td>1.37</td>\n",
              "      <td>74456</td>\n",
              "      <td>1.28</td>\n",
              "    </tr>\n",
              "    <tr>\n",
              "      <th>8</th>\n",
              "      <td>Gloomhaven</td>\n",
              "      <td>2017</td>\n",
              "      <td>8.74</td>\n",
              "      <td>7.38</td>\n",
              "      <td>7.45</td>\n",
              "      <td>1.30</td>\n",
              "      <td>47853</td>\n",
              "      <td>3.87</td>\n",
              "    </tr>\n",
              "    <tr>\n",
              "      <th>9</th>\n",
              "      <td>Escape the Dark Castle</td>\n",
              "      <td>2017</td>\n",
              "      <td>7.51</td>\n",
              "      <td>7.27</td>\n",
              "      <td>6.23</td>\n",
              "      <td>1.29</td>\n",
              "      <td>2596</td>\n",
              "      <td>1.23</td>\n",
              "    </tr>\n",
              "    <tr>\n",
              "      <th>10</th>\n",
              "      <td>Time's Up! Edición Amarilla</td>\n",
              "      <td>2008</td>\n",
              "      <td>7.49</td>\n",
              "      <td>7.11</td>\n",
              "      <td>6.23</td>\n",
              "      <td>1.26</td>\n",
              "      <td>1100</td>\n",
              "      <td>1.11</td>\n",
              "    </tr>\n",
              "  </tbody>\n",
              "</table>\n",
              "</div>"
            ],
            "text/plain": [
              "                                   name  yearpublished  average  \\\n",
              "1                             Crokinole           1970     7.95   \n",
              "2                              Monikers           2015     7.80   \n",
              "3   Telestrations: 12 Player Party Pack           2011     7.75   \n",
              "4              Time's Up! Title Recall!           2008     7.71   \n",
              "5             Pandemic Legacy: Season 1           2015     8.59   \n",
              "6                                 KLASK           2014     7.64   \n",
              "7                             Codenames           2015     7.60   \n",
              "8                            Gloomhaven           2017     8.74   \n",
              "9                Escape the Dark Castle           2017     7.51   \n",
              "10          Time's Up! Edición Amarilla           2008     7.49   \n",
              "\n",
              "    user_avg_rating  preds  residual  usersrated  averageweight  \n",
              "1              7.01   6.23      1.72       13455           1.25  \n",
              "2              7.12   6.23      1.57        4122           1.06  \n",
              "3              7.07   6.23      1.52        2390           1.07  \n",
              "4              6.96   6.23      1.48        3266           1.19  \n",
              "5              7.30   7.17      1.42       45064           2.83  \n",
              "6              7.06   6.23      1.41        6837           1.08  \n",
              "7              7.24   6.23      1.37       74456           1.28  \n",
              "8              7.38   7.45      1.30       47853           3.87  \n",
              "9              7.27   6.23      1.29        2596           1.23  \n",
              "10             7.11   6.23      1.26        1100           1.11  "
            ]
          },
          "execution_count": 383,
          "metadata": {},
          "output_type": "execute_result"
        }
      ],
      "source": [
        "# hide_input\n",
        "df_excomplex = df2.loc[(df2['usersrated'] > REVIEW_CUTOFF) & (df2['averageweight'] > -1)][['name', 'yearpublished', 'average', 'user_avg_rating', 'preds', 'residual', 'usersrated', 'averageweight']][:10]\n",
        "df_excomplex.set_index(pd.RangeIndex(start=1, stop=len(df_excomplex)+1, step=1), inplace=True)\n",
        "df_excomplex"
      ]
    },
    {
      "cell_type": "markdown",
      "metadata": {},
      "source": [
        "There are a lot of dexterity and party games in the top, which are of course light games. Pandemic Legacy scores high even while being fairly complex. If we filter out the easiest games we get the following list, of which I find the top 4 to be absolutly great games"
      ]
    },
    {
      "cell_type": "code",
      "execution_count": 384,
      "metadata": {},
      "outputs": [
        {
          "data": {
            "text/html": [
              "<div>\n",
              "<style scoped>\n",
              "    .dataframe tbody tr th:only-of-type {\n",
              "        vertical-align: middle;\n",
              "    }\n",
              "\n",
              "    .dataframe tbody tr th {\n",
              "        vertical-align: top;\n",
              "    }\n",
              "\n",
              "    .dataframe thead th {\n",
              "        text-align: right;\n",
              "    }\n",
              "</style>\n",
              "<table border=\"1\" class=\"dataframe\">\n",
              "  <thead>\n",
              "    <tr style=\"text-align: right;\">\n",
              "      <th></th>\n",
              "      <th>name</th>\n",
              "      <th>yearpublished</th>\n",
              "      <th>average</th>\n",
              "      <th>user_avg_rating</th>\n",
              "      <th>preds</th>\n",
              "      <th>residual</th>\n",
              "      <th>usersrated</th>\n",
              "      <th>averageweight</th>\n",
              "    </tr>\n",
              "  </thead>\n",
              "  <tbody>\n",
              "    <tr>\n",
              "      <th>1</th>\n",
              "      <td>Pandemic Legacy: Season 1</td>\n",
              "      <td>2015</td>\n",
              "      <td>8.59</td>\n",
              "      <td>7.30</td>\n",
              "      <td>7.17</td>\n",
              "      <td>1.42</td>\n",
              "      <td>45064</td>\n",
              "      <td>2.83</td>\n",
              "    </tr>\n",
              "    <tr>\n",
              "      <th>2</th>\n",
              "      <td>Gloomhaven</td>\n",
              "      <td>2017</td>\n",
              "      <td>8.74</td>\n",
              "      <td>7.38</td>\n",
              "      <td>7.45</td>\n",
              "      <td>1.30</td>\n",
              "      <td>47853</td>\n",
              "      <td>3.87</td>\n",
              "    </tr>\n",
              "    <tr>\n",
              "      <th>3</th>\n",
              "      <td>Star Realms: Colony Wars</td>\n",
              "      <td>2015</td>\n",
              "      <td>7.85</td>\n",
              "      <td>7.20</td>\n",
              "      <td>6.60</td>\n",
              "      <td>1.24</td>\n",
              "      <td>6719</td>\n",
              "      <td>1.90</td>\n",
              "    </tr>\n",
              "    <tr>\n",
              "      <th>4</th>\n",
              "      <td>Twilight Imperium: Fourth Edition</td>\n",
              "      <td>2017</td>\n",
              "      <td>8.68</td>\n",
              "      <td>7.31</td>\n",
              "      <td>7.45</td>\n",
              "      <td>1.23</td>\n",
              "      <td>16036</td>\n",
              "      <td>4.26</td>\n",
              "    </tr>\n",
              "    <tr>\n",
              "      <th>5</th>\n",
              "      <td>Mythic Battles: Pantheon</td>\n",
              "      <td>2017</td>\n",
              "      <td>8.43</td>\n",
              "      <td>7.35</td>\n",
              "      <td>7.21</td>\n",
              "      <td>1.22</td>\n",
              "      <td>2763</td>\n",
              "      <td>3.03</td>\n",
              "    </tr>\n",
              "    <tr>\n",
              "      <th>6</th>\n",
              "      <td>Aeon's End: War Eternal</td>\n",
              "      <td>2017</td>\n",
              "      <td>8.38</td>\n",
              "      <td>7.31</td>\n",
              "      <td>7.17</td>\n",
              "      <td>1.21</td>\n",
              "      <td>4061</td>\n",
              "      <td>2.93</td>\n",
              "    </tr>\n",
              "    <tr>\n",
              "      <th>7</th>\n",
              "      <td>Azul</td>\n",
              "      <td>2017</td>\n",
              "      <td>7.80</td>\n",
              "      <td>7.30</td>\n",
              "      <td>6.61</td>\n",
              "      <td>1.19</td>\n",
              "      <td>62860</td>\n",
              "      <td>1.76</td>\n",
              "    </tr>\n",
              "    <tr>\n",
              "      <th>8</th>\n",
              "      <td>7 Wonders Duel</td>\n",
              "      <td>2015</td>\n",
              "      <td>8.11</td>\n",
              "      <td>7.34</td>\n",
              "      <td>6.92</td>\n",
              "      <td>1.19</td>\n",
              "      <td>69528</td>\n",
              "      <td>2.22</td>\n",
              "    </tr>\n",
              "    <tr>\n",
              "      <th>9</th>\n",
              "      <td>Kingdom Death: Monster</td>\n",
              "      <td>2015</td>\n",
              "      <td>8.61</td>\n",
              "      <td>7.30</td>\n",
              "      <td>7.45</td>\n",
              "      <td>1.16</td>\n",
              "      <td>8068</td>\n",
              "      <td>4.26</td>\n",
              "    </tr>\n",
              "    <tr>\n",
              "      <th>10</th>\n",
              "      <td>Patchwork</td>\n",
              "      <td>2014</td>\n",
              "      <td>7.64</td>\n",
              "      <td>7.27</td>\n",
              "      <td>6.51</td>\n",
              "      <td>1.13</td>\n",
              "      <td>52225</td>\n",
              "      <td>1.62</td>\n",
              "    </tr>\n",
              "  </tbody>\n",
              "</table>\n",
              "</div>"
            ],
            "text/plain": [
              "                                 name  yearpublished  average  \\\n",
              "1           Pandemic Legacy: Season 1           2015     8.59   \n",
              "2                          Gloomhaven           2017     8.74   \n",
              "3            Star Realms: Colony Wars           2015     7.85   \n",
              "4   Twilight Imperium: Fourth Edition           2017     8.68   \n",
              "5            Mythic Battles: Pantheon           2017     8.43   \n",
              "6             Aeon's End: War Eternal           2017     8.38   \n",
              "7                                Azul           2017     7.80   \n",
              "8                      7 Wonders Duel           2015     8.11   \n",
              "9              Kingdom Death: Monster           2015     8.61   \n",
              "10                          Patchwork           2014     7.64   \n",
              "\n",
              "    user_avg_rating  preds  residual  usersrated  averageweight  \n",
              "1              7.30   7.17      1.42       45064           2.83  \n",
              "2              7.38   7.45      1.30       47853           3.87  \n",
              "3              7.20   6.60      1.24        6719           1.90  \n",
              "4              7.31   7.45      1.23       16036           4.26  \n",
              "5              7.35   7.21      1.22        2763           3.03  \n",
              "6              7.31   7.17      1.21        4061           2.93  \n",
              "7              7.30   6.61      1.19       62860           1.76  \n",
              "8              7.34   6.92      1.19       69528           2.22  \n",
              "9              7.30   7.45      1.16        8068           4.26  \n",
              "10             7.27   6.51      1.13       52225           1.62  "
            ]
          },
          "execution_count": 384,
          "metadata": {},
          "output_type": "execute_result"
        }
      ],
      "source": [
        "# hide_input\n",
        "df_morecomplex = df2.loc[(df2['usersrated'] > REVIEW_CUTOFF) & (df2['averageweight'] > 1.5)][['name', 'yearpublished', 'average', 'user_avg_rating', 'preds', 'residual', 'usersrated', 'averageweight']][:10]\n",
        "df_morecomplex.set_index(pd.RangeIndex(start=1, stop=len(df_morecomplex)+1, step=1), inplace=True)\n",
        "df_morecomplex\n"
      ]
    },
    {
      "cell_type": "markdown",
      "metadata": {},
      "source": [
        "### Wrapping things up with a more complete model"
      ]
    },
    {
      "cell_type": "markdown",
      "metadata": {},
      "source": [
        "Finally I've also trained a model on multiple variables including what the type of game and the year of publication. This model gets an r2 of almost 0.6, meaning that over ~60% in the variation between the of the rating is determined by these variables. I think this is a pretty good result. Below you see the impact of the most important variables."
      ]
    },
    {
      "cell_type": "code",
      "execution_count": 389,
      "metadata": {},
      "outputs": [],
      "source": [
        "# hide\n",
        "# only keep relevant or minimal features\n",
        "\n",
        "relevant = ['avg_rating', 'yearpublished', 'minplayers', 'maxplayers',\n",
        "        'minplaytime',\n",
        "       'maxplaytime', 'minage', 'boardgamecategory', 'boardgamemechanic', 'boardgamefamily',\n",
        "       'averageweight', 'proportion_inactive'\n",
        "       ]\n",
        "df_preprocessed = df_only_experienced[relevant]"
      ]
    },
    {
      "cell_type": "code",
      "execution_count": 459,
      "metadata": {},
      "outputs": [
        {
          "name": "stderr",
          "output_type": "stream",
          "text": [
            "\n",
            "A value is trying to be set on a copy of a slice from a DataFrame.\n",
            "Try using .loc[row_indexer,col_indexer] = value instead\n",
            "\n",
            "See the caveats in the documentation: https://pandas.pydata.org/pandas-docs/stable/user_guide/indexing.html#returning-a-view-versus-a-copy\n"
          ]
        },
        {
          "name": "stdout",
          "output_type": "stream",
          "text": [
            "boardgamecategory 83\n",
            "boardgamemechanic 184\n",
            "boardgamefamily 1818\n",
            "2362 2362\n",
            "2362 1889 473\n",
            "[LightGBM] [Warning] min_data_in_leaf is set=200, min_child_samples=20 will be ignored. Current value: min_data_in_leaf=200\n",
            "train score 0.5381623952956134\n",
            "test score 0.5197884326606318\n"
          ]
        }
      ],
      "source": [
        "# hide\n",
        "# hide\n",
        "\n",
        "df_preprocessed = df_only_experienced[relevant]\n",
        "\n",
        "chars = \"[]'\\\"\"\n",
        "# df = df.rename(columns = lambda x:re.sub('[^A-Za-z0-9_,]+', '', x))\n",
        "\n",
        "onehot = ['boardgamecategory', 'boardgamemechanic','boardgamefamily']\n",
        "onehot = [col for col in onehot if col in df_preprocessed.columns]\n",
        "for cat in onehot:\n",
        "    # df[cat] = df[cat].str.replace('[/]+', \",\", regex=True)\n",
        "    df_preprocessed.loc[:,cat] = df_preprocessed[cat].str.replace('[^A-Za-z0-9_,]+', \"\", regex=True).copy()\n",
        "    onehotencoded = df_preprocessed[cat].str.get_dummies(sep=',',)\n",
        "    onehotencoded.fillna(0, inplace=True)\n",
        "    print(cat, len(onehotencoded.columns))\n",
        "    df_preprocessed = pd.concat([df_preprocessed.drop(cat, axis=1), onehotencoded], axis=1)\n",
        "    # some columns like Deduction are duplicated, since they appear in both category and mechanic\n",
        "    df_preprocessed = df_preprocessed.loc[:,~df_preprocessed.columns.duplicated()].copy()\n",
        "print(len(df_preprocessed), len(df_preprocessed.dropna(axis=0)))\n",
        "model = train(df_preprocessed.dropna(axis=0), 'avg_rating', 200)\n"
      ]
    },
    {
      "cell_type": "code",
      "execution_count": 460,
      "metadata": {},
      "outputs": [
        {
          "data": {
            "image/png": "[encoded data removed]",
            "text/plain": [
              "<Figure size 576x252 with 1 Axes>"
            ]
          },
          "metadata": {},
          "output_type": "display_data"
        }
      ],
      "source": [
        "# hide_input\n",
        "# explain the model's predictions using SHAP\n",
        "# (same syntax works for LightGBM, CatBoost, scikit-learn, transformers, Spark, etc.)\n",
        "explainer = shap.TreeExplainer(model)\n",
        "shap_values = explainer(df_preprocessed.drop('avg_rating', axis=1))\n",
        "# visualize the first prediction's explanation\n",
        "# summarize the effects of all the features\n",
        "shap.plots.bar(shap_values,max_display=4)"
      ]
    },
    {
      "cell_type": "markdown",
      "metadata": {},
      "source": [
        "As expected the weight/complexity and year of publication have most impact on the rating of a game. Together they roughly impact the score by 0.5 for each game. In addition certain categories also have a small impact on the score. In some more detail:"
      ]
    },
    {
      "cell_type": "code",
      "execution_count": 461,
      "metadata": {},
      "outputs": [
        {
          "data": {
            "image/png": "[encoded data removed]",
            "text/plain": [
              "<Figure size 576x482.4 with 2 Axes>"
            ]
          },
          "metadata": {
            "needs_background": "light"
          },
          "output_type": "display_data"
        }
      ],
      "source": [
        "# hide_input\n",
        "shap.plots.beeswarm(shap_values, 13)"
      ]
    },
    {
      "cell_type": "markdown",
      "metadata": {},
      "source": [
        "This is what people talk about with 'explainable AI'. The plot can be a bit hard to read. All the dots represent games, and if they are on the right side it means the impact on the model was positive (a higher rating). The color is about the feature value, where blue means low and red high.\n",
        "\n",
        "What works best is saying it out loud: 'if averageweight is high (red), then the impact is positive and the game will receive higher ratings. For 'AdminBetterDescriptionNeeded' that means that if the game description is lacking, the game will receive lower ratings.\n",
        "\n",
        "So if you want to receive high ratings with your game, just make sure to make it complex, two players simulated wargame that can be played solitaire with miniatures and online as well. You already get the hype effect for free 😋\n",
        "\n",
        "That's it, hope you enjoyed this analysis!"
      ]
    },
    {
      "cell_type": "markdown",
      "metadata": {},
      "source": [
        "> Tip: Some technical info: I've used standard Python data science packages, trained models with [LightGBM](https://lightgbm.readthedocs.io/en/latest/) and the interpretation with [SHAP](https://github.com/slundberg/shap). For the blogging in a notebook I use [Fastpages](https://github.com/fastai/fastpages). All awesome!"
      ]
    },
    {
      "cell_type": "markdown",
      "metadata": {},
      "source": [
        "> Note: The data is of course owned by [BoardGameGeek](https://boardgamegeek.com/). If you want to play with the data, I've made it into a [Kaggle Dataset](https://www.kaggle.com/jvanelteren/boardgamegeek-reviews)"
      ]
    }
  ],
  "metadata": {
    "anaconda-cloud": {},
    "colab": {
      "collapsed_sections": [],
      "name": "Copy of Copy of Copy of rentJesse.ipynb",
      "provenance": []
    },
    "interpreter": {
      "hash": "b89b5cfaba6639976dc87ff2fec6d58faec662063367e2c229c520fe71072417"
    },
    "kernelspec": {
      "display_name": "Python 3.7.3 64-bit ('ProgramData': virtualenv)",
      "language": "python",
      "name": "python3"
    },
    "language_info": {
      "codemirror_mode": {
        "name": "ipython",
        "version": 3
      },
      "file_extension": ".py",
      "mimetype": "text/x-python",
      "name": "python",
      "nbconvert_exporter": "python",
      "pygments_lexer": "ipython3",
      "version": "3.10.0"
    }
  },
  "nbformat": 4,
  "nbformat_minor": 0
}
