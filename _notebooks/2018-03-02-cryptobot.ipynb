{
  "nbformat": 4,
  "nbformat_minor": 0,
  "metadata": {
    "language_info": {
      "codemirror_mode": {
        "name": "ipython",
        "version": 3
      },
      "file_extension": ".py",
      "mimetype": "text/x-python",
      "name": "python",
      "nbconvert_exporter": "python",
      "pygments_lexer": "ipython3",
      "version": "3.7.3-final"
    },
    "orig_nbformat": 2,
    "kernelspec": {
      "name": "python37364bitprogramdatavirtualenv99403c2e8abd4ba0909557516bfee9d9",
      "display_name": "Python 3.7.3 64-bit ('ProgramData': virtualenv)"
    },
    "colab": {
      "name": "2020-09-12-redblacktree.ipynb",
      "provenance": [],
      "collapsed_sections": []
    }
  },
  "cells": [
    {
      "cell_type": "markdown",
      "metadata": {
        "id": "yA_geNUyQidh",
        "colab_type": "text"
      },
      "source": [
        "# Building a Crypto Trading Bot\n",
        "> A short story about motivation\n",
        "\n",
        "- toc: false\n",
        "- branch: master\n",
        "- badges: true\n",
        "- comments: true\n",
        "- author: Jesse van Elteren\n",
        "- image: images/btc.jpg\n",
        "- categories: []"
      ]
    },
    {
      "source": [
        "What drives you when working on a project? For me motivation is made up of several components:\n",
        "\n",
        "* Curiosity: discover new insights about an interesting topic\n",
        "* Reaching a goal: have a sense of progressing to a goal by solving small obstacles\n",
        "* Learning: grow a skillset and be able to take on larger goals\n",
        "* Challenge & Mastery: overcoming the nagging feeling if I’ll be also to tackle the project\n",
        "\n",
        "When I had an idea during the rise of bitcoin these elements where definitely there. But there was another big motivator...\n",
        "\n",
        "I had made some money with the rise of bitcoin by buying it early and holding on to it. But what would be even better: a constant risk-free return without having to put much effort in. And that was exactly the idea that came to mind. Simple [arbitrage](https://en.wikipedia.org/wiki/Arbitrage): you open an account on multiple crypto exchanges and monitor the prices for different coins. When the prices are drifting apart you take up two positions: buying a coin at exchange A for a low price, and at the same time selling a coin short at exchange B for a high price. Then transferring the coin you’ve bought at exchange A to exchange B to neutralize the position and voila: profit. If I could have a program running on the background this would make me rich! It required a couple of functionalities to program: monitoring the prices though an API, taking up positions, neutralizing these positions and making sure to have enough crypto funds on the buying exchange. The spreads between the exchanged need to outweigh the transaction and transfer costs in order to be profitable.\n",
        "\n",
        " \n",
        "I experienced how this sense of building a golden goose boosted my motivation to new highs. Sometimes I focus a lot on projects to make progress, but this was really next level 😊. After many hours of coding and learning to interact with crypto [API's](https://nl.wikipedia.org/wiki/Application_programming_interface), I got everything to work automatically. But alas, the opportunities for risk-free arbitrage became very limited, as a result of the markets maturing. The spreads started to get smaller and smaller making my bot not profitable anymore.\n",
        "\n",
        " \n",
        "Greed is at the core of many things wrong in this world, but in this case it provided me a very fun and valuable learning experience."
      ],
      "cell_type": "markdown",
      "metadata": {}
    }
  ]
}